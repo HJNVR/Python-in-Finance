{
  "cells": [
    {
      "cell_type": "markdown",
      "metadata": {
        "id": "view-in-github",
        "colab_type": "text"
      },
      "source": [
        "<a href=\"https://colab.research.google.com/github/HJNVR/Python-in-Finance/blob/main/05_machine_learning.ipynb\" target=\"_parent\"><img src=\"https://colab.research.google.com/assets/colab-badge.svg\" alt=\"Open In Colab\"/></a>"
      ]
    },
    {
      "cell_type": "markdown",
      "metadata": {
        "id": "EhH59A4ShtBL"
      },
      "source": [
        "<img src='http://hilpisch.com/taim_logo.png' width=\"350px\" align=\"right\">"
      ]
    },
    {
      "cell_type": "markdown",
      "metadata": {
        "id": "SEQz4bschtBO"
      },
      "source": [
        "# Artificial Intelligence in Finance"
      ]
    },
    {
      "cell_type": "markdown",
      "metadata": {
        "id": "bS7UpXfzhtBO"
      },
      "source": [
        "## Machine Learning"
      ]
    },
    {
      "cell_type": "markdown",
      "metadata": {
        "id": "h7ilwnYXhtBP"
      },
      "source": [
        "Dr Yves J Hilpisch | The AI Machine\n",
        "\n",
        "http://aimachine.io | http://twitter.com/dyjh"
      ]
    },
    {
      "cell_type": "markdown",
      "metadata": {
        "id": "zo2lvaEwhtBP"
      },
      "source": [
        "## Learning"
      ]
    },
    {
      "cell_type": "markdown",
      "metadata": {
        "id": "GSDWm50qhtBP"
      },
      "source": [
        "<blockquote>\"A computer program is said to learn from experience 𝐸 with respect to some class of tasks 𝑇 and performance measure 𝑃, if its performance at tasks in 𝑇, as measured by 𝑃, improves with experience 𝐸.\" — Mitchell (1997)</blockquote>\n"
      ]
    },
    {
      "cell_type": "markdown",
      "metadata": {
        "id": "fbrCKnfGhtBQ"
      },
      "source": [
        "## Data"
      ]
    },
    {
      "cell_type": "code",
      "execution_count": 1,
      "metadata": {
        "id": "un2JUHt0htBQ"
      },
      "outputs": [],
      "source": [
        "import numpy as np\n",
        "import pandas as pd\n",
        "from pylab import plt, mpl \n",
        "# plt for plot and mpl for formating\n",
        "np.random.seed(100)\n",
        "plt.style.use('seaborn')\n",
        "mpl.rcParams['savefig.dpi'] = 300\n",
        "mpl.rcParams['font.family'] = 'serif'"
      ]
    },
    {
      "cell_type": "code",
      "execution_count": 2,
      "metadata": {
        "id": "KdYSzh0DhtBR"
      },
      "outputs": [],
      "source": [
        "# 10 years of market data: different companies' stocks price, silver, gold\n",
        "url = 'http://hilpisch.com/aiif_eikon_eod_data.csv'"
      ]
    },
    {
      "cell_type": "code",
      "execution_count": 3,
      "metadata": {
        "id": "12NI0t83htBS"
      },
      "outputs": [],
      "source": [
        "raw = pd.read_csv(url, index_col=0, parse_dates=True)['EUR='] #这里只看欧元 EUR="
      ]
    },
    {
      "cell_type": "code",
      "execution_count": 4,
      "metadata": {
        "colab": {
          "base_uri": "https://localhost:8080/"
        },
        "id": "_LhCOZrIhtBS",
        "outputId": "79a587d8-9a79-4c0b-961a-933c58fc8d04"
      },
      "outputs": [
        {
          "output_type": "execute_result",
          "data": {
            "text/plain": [
              "Date\n",
              "2010-01-01    1.4323\n",
              "2010-01-04    1.4411\n",
              "2010-01-05    1.4368\n",
              "2010-01-06    1.4412\n",
              "2010-01-07    1.4318\n",
              "Name: EUR=, dtype: float64"
            ]
          },
          "metadata": {},
          "execution_count": 4
        }
      ],
      "source": [
        "raw.head()"
      ]
    },
    {
      "cell_type": "code",
      "execution_count": 5,
      "metadata": {
        "colab": {
          "base_uri": "https://localhost:8080/"
        },
        "id": "2qTAiuKChtBT",
        "outputId": "20d41bee-cec6-45fe-ab21-190ecb6a20e7"
      },
      "outputs": [
        {
          "output_type": "execute_result",
          "data": {
            "text/plain": [
              "Date\n",
              "2019-12-26    1.1096\n",
              "2019-12-27    1.1175\n",
              "2019-12-30    1.1197\n",
              "2019-12-31    1.1210\n",
              "2020-01-01    1.1210\n",
              "Name: EUR=, dtype: float64"
            ]
          },
          "metadata": {},
          "execution_count": 5
        }
      ],
      "source": [
        "raw.tail()"
      ]
    },
    {
      "cell_type": "code",
      "execution_count": 6,
      "metadata": {
        "id": "nwhmMeNNhtBT"
      },
      "outputs": [],
      "source": [
        "# resample - 把天 换成 月\n",
        "l = raw.resample('1M').last()"
      ]
    },
    {
      "cell_type": "code",
      "source": [
        "l.head()"
      ],
      "metadata": {
        "colab": {
          "base_uri": "https://localhost:8080/"
        },
        "id": "FHf391OUnUC8",
        "outputId": "12e38d70-e259-4f91-f414-f4c911b5761a"
      },
      "execution_count": 7,
      "outputs": [
        {
          "output_type": "execute_result",
          "data": {
            "text/plain": [
              "Date\n",
              "2010-01-31    1.3862\n",
              "2010-02-28    1.3625\n",
              "2010-03-31    1.3510\n",
              "2010-04-30    1.3295\n",
              "2010-05-31    1.2305\n",
              "Freq: M, Name: EUR=, dtype: float64"
            ]
          },
          "metadata": {},
          "execution_count": 7
        }
      ]
    },
    {
      "cell_type": "code",
      "execution_count": 8,
      "metadata": {
        "colab": {
          "base_uri": "https://localhost:8080/"
        },
        "id": "u3r8LiqIhtBT",
        "outputId": "a3122bad-193c-457c-acac-501111edce0b"
      },
      "outputs": [
        {
          "output_type": "execute_result",
          "data": {
            "text/plain": [
              "Date\n",
              "2019-09-30    1.0898\n",
              "2019-10-31    1.1150\n",
              "2019-11-30    1.1015\n",
              "2019-12-31    1.1210\n",
              "2020-01-31    1.1210\n",
              "Freq: M, Name: EUR=, dtype: float64"
            ]
          },
          "metadata": {},
          "execution_count": 8
        }
      ],
      "source": [
        "l.tail()"
      ]
    },
    {
      "cell_type": "code",
      "execution_count": 9,
      "metadata": {
        "colab": {
          "base_uri": "https://localhost:8080/",
          "height": 403
        },
        "id": "rWg5BF_KhtBT",
        "outputId": "d2b57c61-95a7-4ea6-ddce-c477c4c95d36"
      },
      "outputs": [
        {
          "output_type": "display_data",
          "data": {
            "text/plain": [
              "<Figure size 720x432 with 1 Axes>"
            ],
            "image/png": "[encoded data removed]"
          },
          "metadata": {
            "needs_background": "light"
          }
        }
      ],
      "source": [
        "l.plot(figsize=(10, 6), title='EUR/USD monthly');"
      ]
    },
    {
      "cell_type": "code",
      "execution_count": 10,
      "metadata": {
        "id": "M3e0088ShtBT"
      },
      "outputs": [],
      "source": [
        "l = l.values\n",
        "l -= l.mean()"
      ]
    },
    {
      "cell_type": "code",
      "execution_count": 11,
      "metadata": {
        "id": "anNOtnzHhtBU"
      },
      "outputs": [],
      "source": [
        "f = np.linspace(-2, 2, len(l))"
      ]
    },
    {
      "cell_type": "code",
      "execution_count": 12,
      "metadata": {
        "colab": {
          "base_uri": "https://localhost:8080/",
          "height": 403
        },
        "id": "A-qXxK8BhtBU",
        "outputId": "503ed063-668e-4bbc-ebb2-f4d0c87e6bf6"
      },
      "outputs": [
        {
          "output_type": "display_data",
          "data": {
            "text/plain": [
              "<Figure size 720x432 with 1 Axes>"
            ],
            "image/png": "[encoded data removed]"
          },
          "metadata": {
            "needs_background": "light"
          }
        }
      ],
      "source": [
        "plt.figure(figsize=(10, 6))\n",
        "plt.plot(f, l, 'ro')\n",
        "plt.title('Sample Data Set')\n",
        "plt.xlabel('features')\n",
        "plt.ylabel('labels');"
      ]
    },
    {
      "cell_type": "markdown",
      "metadata": {
        "id": "9vVF_vtIhtBU"
      },
      "source": [
        "## Success"
      ]
    },
    {
      "cell_type": "code",
      "execution_count": 13,
      "metadata": {
        "id": "QK9vWgsghtBU"
      },
      "outputs": [],
      "source": [
        "def MSE(l, p):\n",
        "    return np.mean((l - p) ** 2)"
      ]
    },
    {
      "cell_type": "code",
      "execution_count": 14,
      "metadata": {
        "colab": {
          "base_uri": "https://localhost:8080/"
        },
        "id": "ZHo1YSgvhtBU",
        "outputId": "9711f558-b683-4992-fc8f-5b3adc6911a3"
      },
      "outputs": [
        {
          "output_type": "execute_result",
          "data": {
            "text/plain": [
              "array([-0.01910626, -0.0147182 ,  0.10990388,  0.06007211, -0.20833598,\n",
              "       -0.03275423])"
            ]
          },
          "metadata": {},
          "execution_count": 14
        }
      ],
      "source": [
        "reg = np.polyfit(f, l, deg=5)\n",
        "reg"
      ]
    },
    {
      "cell_type": "code",
      "execution_count": 15,
      "metadata": {
        "id": "K-eyEKaPhtBV"
      },
      "outputs": [],
      "source": [
        "p = np.polyval(reg, f)"
      ]
    },
    {
      "cell_type": "code",
      "execution_count": 16,
      "metadata": {
        "colab": {
          "base_uri": "https://localhost:8080/"
        },
        "id": "l5X9jbfghtBV",
        "outputId": "e6aed4b9-9c94-4571-c34d-4a81ee230a13"
      },
      "outputs": [
        {
          "output_type": "execute_result",
          "data": {
            "text/plain": [
              "0.003416642295737102"
            ]
          },
          "metadata": {},
          "execution_count": 16
        }
      ],
      "source": [
        "MSE(l, p)"
      ]
    },
    {
      "cell_type": "code",
      "execution_count": 17,
      "metadata": {
        "colab": {
          "base_uri": "https://localhost:8080/",
          "height": 373
        },
        "id": "I3SFZFMohtBV",
        "outputId": "fcee2aeb-f993-48bf-ff9d-12edcdb31815"
      },
      "outputs": [
        {
          "output_type": "display_data",
          "data": {
            "text/plain": [
              "<Figure size 720x432 with 1 Axes>"
            ],
            "image/png": "[encoded data removed]"
          },
          "metadata": {
            "needs_background": "light"
          }
        }
      ],
      "source": [
        "plt.figure(figsize=(10, 6))\n",
        "plt.plot(f, l, 'ro', label='sample data')\n",
        "plt.plot(f, p, '--', label='regression')\n",
        "plt.legend();"
      ]
    },
    {
      "cell_type": "code",
      "execution_count": 20,
      "metadata": {
        "colab": {
          "base_uri": "https://localhost:8080/"
        },
        "id": "h23QIgiPhtBV",
        "outputId": "402fa3e4-277b-472f-cf29-6ab43e5f187a"
      },
      "outputs": [
        {
          "output_type": "stream",
          "name": "stdout",
          "text": [
            " 10 | MSE=248628.10681642295\n",
            " 30 | MSE=731.9382249304656\n",
            " 50 | MSE=12.236088505004469\n",
            " 70 | MSE=0.7410590619743299\n",
            " 90 | MSE=0.00574306173040933\n",
            "110 | MSE=0.006492800939555579\n",
            "CPU times: user 6.56 ms, sys: 0 ns, total: 6.56 ms\n",
            "Wall time: 11.9 ms\n"
          ]
        }
      ],
      "source": [
        "# add some time\n",
        "%%time \n",
        "for i in range(10, len(f) + 1, 20): # 把数据分段然后计算MSE ex: 前10笔，前30笔，前50笔\n",
        "    reg = np.polyfit(f[:i], l[:i], deg=3)\n",
        "    p = np.polyval(reg, f)\n",
        "    mse = MSE(l, p)\n",
        "    print(f'{i:3d} | MSE={mse}')"
      ]
    },
    {
      "cell_type": "code",
      "source": [
        "for i in range(10, len(f) + 1, 20):\n",
        "  reg = np.polyfit(f[:i], l[:i], deg=3)\n",
        "  p = np.polyval(reg, f)\n",
        "  plt.figure(figsize=(10,6))\n",
        "  plt.plot(f, l, 'ro', label='sample data')\n",
        "  plt.plot(f, p, '--', label='regression')\n",
        "\n",
        "  plt.legend()"
      ],
      "metadata": {
        "colab": {
          "base_uri": "https://localhost:8080/",
          "height": 1000
        },
        "id": "n1uSq69ftz5u",
        "outputId": "787f5f02-7821-47ee-ef76-e616294bd893"
      },
      "execution_count": 22,
      "outputs": [
        {
          "output_type": "display_data",
          "data": {
            "text/plain": [
              "<Figure size 720x432 with 1 Axes>"
            ],
            "image/png": "[encoded data removed]"
          },
          "metadata": {
            "needs_background": "light"
          }
        },
        {
          "output_type": "display_data",
          "data": {
            "text/plain": [
              "<Figure size 720x432 with 1 Axes>"
            ],
            "image/png": "[encoded data removed]"
          },
          "metadata": {
            "needs_background": "light"
          }
        },
        {
          "output_type": "display_data",
          "data": {
            "text/plain": [
              "<Figure size 720x432 with 1 Axes>"
            ],
            "image/png": "[encoded data removed]"
          },
          "metadata": {
            "needs_background": "light"
          }
        },
        {
          "output_type": "display_data",
          "data": {
            "text/plain": [
              "<Figure size 720x432 with 1 Axes>"
            ],
            "image/png": "[encoded data removed]"
          },
          "metadata": {
            "needs_background": "light"
          }
        },
        {
          "output_type": "display_data",
          "data": {
            "text/plain": [
              "<Figure size 720x432 with 1 Axes>"
            ],
            "image/png": "[encoded data removed]"
          },
          "metadata": {
            "needs_background": "light"
          }
        },
        {
          "output_type": "display_data",
          "data": {
            "text/plain": [
              "<Figure size 720x432 with 1 Axes>"
            ],
            "image/png": "[encoded data removed]"
          },
          "metadata": {
            "needs_background": "light"
          }
        }
      ]
    },
    {
      "cell_type": "code",
      "execution_count": null,
      "metadata": {
        "id": "krrwDH12htBV"
      },
      "outputs": [],
      "source": [
        "import os\n",
        "os.environ['TF_CPP_MIN_LOG_LEVEL'] = '6'"
      ]
    },
    {
      "cell_type": "code",
      "execution_count": 23,
      "metadata": {
        "id": "nyE52MVMhtBW"
      },
      "outputs": [],
      "source": [
        "import tensorflow as tf\n",
        "from tensorflow import keras \n",
        "tf.random.set_seed(100)"
      ]
    },
    {
      "cell_type": "code",
      "execution_count": 24,
      "metadata": {
        "id": "mPtWGgTEhtBW"
      },
      "outputs": [],
      "source": [
        "from keras.layers import Dense\n",
        "from keras.models import Sequential"
      ]
    },
    {
      "cell_type": "code",
      "execution_count": 26,
      "metadata": {
        "id": "u7163EcXhtBW"
      },
      "outputs": [],
      "source": [
        "model = Sequential()  \n",
        "model.add(Dense(256, activation='relu', input_dim=1))\n",
        "model.add(Dense(1, activation='linear'))\n",
        "model.compile(loss='mse', optimizer='rmsprop')\n",
        "# loss function 损失函数: mse\n",
        "# 优化方程: rmsprop"
      ]
    },
    {
      "cell_type": "code",
      "execution_count": 27,
      "metadata": {
        "colab": {
          "base_uri": "https://localhost:8080/"
        },
        "id": "Qd67lQ04htBW",
        "outputId": "acd78035-d584-46a7-e616-a373e9917eaf"
      },
      "outputs": [
        {
          "output_type": "stream",
          "name": "stdout",
          "text": [
            "Model: \"sequential_1\"\n",
            "_________________________________________________________________\n",
            " Layer (type)                Output Shape              Param #   \n",
            "=================================================================\n",
            " dense_2 (Dense)             (None, 256)               512       \n",
            "                                                                 \n",
            " dense_3 (Dense)             (None, 1)                 257       \n",
            "                                                                 \n",
            "=================================================================\n",
            "Total params: 769\n",
            "Trainable params: 769\n",
            "Non-trainable params: 0\n",
            "_________________________________________________________________\n"
          ]
        }
      ],
      "source": [
        "model.summary()"
      ]
    },
    {
      "cell_type": "code",
      "execution_count": 28,
      "metadata": {
        "colab": {
          "base_uri": "https://localhost:8080/"
        },
        "id": "fZq12eaDhtBW",
        "outputId": "497b7cf6-5cc1-4344-f3e4-c306bf6a55ce"
      },
      "outputs": [
        {
          "output_type": "stream",
          "name": "stdout",
          "text": [
            "Epoch 1/1500\n",
            "4/4 [==============================] - 1s 5ms/step - loss: 0.0087\n",
            "Epoch 2/1500\n",
            "4/4 [==============================] - 0s 4ms/step - loss: 0.0044\n",
            "Epoch 3/1500\n",
            "4/4 [==============================] - 0s 3ms/step - loss: 0.0035\n",
            "Epoch 4/1500\n",
            "4/4 [==============================] - 0s 4ms/step - loss: 0.0033\n",
            "Epoch 5/1500\n",
            "4/4 [==============================] - 0s 4ms/step - loss: 0.0028\n",
            "Epoch 6/1500\n",
            "4/4 [==============================] - 0s 4ms/step - loss: 0.0028\n",
            "Epoch 7/1500\n",
            "4/4 [==============================] - 0s 5ms/step - loss: 0.0028\n",
            "Epoch 8/1500\n",
            "4/4 [==============================] - 0s 4ms/step - loss: 0.0028\n",
            "Epoch 9/1500\n",
            "4/4 [==============================] - 0s 5ms/step - loss: 0.0028\n",
            "Epoch 10/1500\n",
            "4/4 [==============================] - 0s 4ms/step - loss: 0.0029\n",
            "Epoch 11/1500\n",
            "4/4 [==============================] - 0s 4ms/step - loss: 0.0033\n",
            "Epoch 12/1500\n",
            "4/4 [==============================] - 0s 4ms/step - loss: 0.0027\n",
            "Epoch 13/1500\n",
            "4/4 [==============================] - 0s 4ms/step - loss: 0.0031\n",
            "Epoch 14/1500\n",
            "4/4 [==============================] - 0s 4ms/step - loss: 0.0031\n",
            "Epoch 15/1500\n",
            "4/4 [==============================] - 0s 4ms/step - loss: 0.0026\n",
            "Epoch 16/1500\n",
            "4/4 [==============================] - 0s 4ms/step - loss: 0.0026\n",
            "Epoch 17/1500\n",
            "4/4 [==============================] - 0s 5ms/step - loss: 0.0026\n",
            "Epoch 18/1500\n",
            "4/4 [==============================] - 0s 3ms/step - loss: 0.0026\n",
            "Epoch 19/1500\n",
            "4/4 [==============================] - 0s 4ms/step - loss: 0.0035\n",
            "Epoch 20/1500\n",
            "4/4 [==============================] - 0s 4ms/step - loss: 0.0027\n",
            "Epoch 21/1500\n",
            "4/4 [==============================] - 0s 4ms/step - loss: 0.0026\n",
            "Epoch 22/1500\n",
            "4/4 [==============================] - 0s 4ms/step - loss: 0.0025\n",
            "Epoch 23/1500\n",
            "4/4 [==============================] - 0s 4ms/step - loss: 0.0027\n",
            "Epoch 24/1500\n",
            "4/4 [==============================] - 0s 4ms/step - loss: 0.0034\n",
            "Epoch 25/1500\n",
            "4/4 [==============================] - 0s 3ms/step - loss: 0.0026\n",
            "Epoch 26/1500\n",
            "4/4 [==============================] - 0s 3ms/step - loss: 0.0031\n",
            "Epoch 27/1500\n",
            "4/4 [==============================] - 0s 4ms/step - loss: 0.0028\n",
            "Epoch 28/1500\n",
            "4/4 [==============================] - 0s 5ms/step - loss: 0.0027\n",
            "Epoch 29/1500\n",
            "4/4 [==============================] - 0s 4ms/step - loss: 0.0027\n",
            "Epoch 30/1500\n",
            "4/4 [==============================] - 0s 4ms/step - loss: 0.0027\n",
            "Epoch 31/1500\n",
            "4/4 [==============================] - 0s 4ms/step - loss: 0.0025\n",
            "Epoch 32/1500\n",
            "4/4 [==============================] - 0s 5ms/step - loss: 0.0028\n",
            "Epoch 33/1500\n",
            "4/4 [==============================] - 0s 4ms/step - loss: 0.0027\n",
            "Epoch 34/1500\n",
            "4/4 [==============================] - 0s 4ms/step - loss: 0.0026\n",
            "Epoch 35/1500\n",
            "4/4 [==============================] - 0s 4ms/step - loss: 0.0026\n",
            "Epoch 36/1500\n",
            "4/4 [==============================] - 0s 5ms/step - loss: 0.0029\n",
            "Epoch 37/1500\n",
            "4/4 [==============================] - 0s 4ms/step - loss: 0.0030\n",
            "Epoch 38/1500\n",
            "4/4 [==============================] - 0s 10ms/step - loss: 0.0025\n",
            "Epoch 39/1500\n",
            "4/4 [==============================] - 0s 13ms/step - loss: 0.0030\n",
            "Epoch 40/1500\n",
            "4/4 [==============================] - 0s 7ms/step - loss: 0.0025\n",
            "Epoch 41/1500\n",
            "4/4 [==============================] - 0s 8ms/step - loss: 0.0030\n",
            "Epoch 42/1500\n",
            "4/4 [==============================] - 0s 8ms/step - loss: 0.0025\n",
            "Epoch 43/1500\n",
            "4/4 [==============================] - 0s 7ms/step - loss: 0.0024\n",
            "Epoch 44/1500\n",
            "4/4 [==============================] - 0s 10ms/step - loss: 0.0032\n",
            "Epoch 45/1500\n",
            "4/4 [==============================] - 0s 9ms/step - loss: 0.0027\n",
            "Epoch 46/1500\n",
            "4/4 [==============================] - 0s 9ms/step - loss: 0.0027\n",
            "Epoch 47/1500\n",
            "4/4 [==============================] - 0s 9ms/step - loss: 0.0027\n",
            "Epoch 48/1500\n",
            "4/4 [==============================] - 0s 8ms/step - loss: 0.0029\n",
            "Epoch 49/1500\n",
            "4/4 [==============================] - 0s 10ms/step - loss: 0.0029\n",
            "Epoch 50/1500\n",
            "4/4 [==============================] - 0s 8ms/step - loss: 0.0030\n",
            "Epoch 51/1500\n",
            "4/4 [==============================] - 0s 9ms/step - loss: 0.0026\n",
            "Epoch 52/1500\n",
            "4/4 [==============================] - 0s 9ms/step - loss: 0.0027\n",
            "Epoch 53/1500\n",
            "4/4 [==============================] - 0s 6ms/step - loss: 0.0028\n",
            "Epoch 54/1500\n",
            "4/4 [==============================] - 0s 9ms/step - loss: 0.0028\n",
            "Epoch 55/1500\n",
            "4/4 [==============================] - 0s 9ms/step - loss: 0.0023\n",
            "Epoch 56/1500\n",
            "4/4 [==============================] - 0s 9ms/step - loss: 0.0031\n",
            "Epoch 57/1500\n",
            "4/4 [==============================] - 0s 9ms/step - loss: 0.0027\n",
            "Epoch 58/1500\n",
            "4/4 [==============================] - 0s 13ms/step - loss: 0.0031\n",
            "Epoch 59/1500\n",
            "4/4 [==============================] - 0s 10ms/step - loss: 0.0028\n",
            "Epoch 60/1500\n",
            "4/4 [==============================] - 0s 7ms/step - loss: 0.0028\n",
            "Epoch 61/1500\n",
            "4/4 [==============================] - 0s 9ms/step - loss: 0.0029\n",
            "Epoch 62/1500\n",
            "4/4 [==============================] - 0s 10ms/step - loss: 0.0027\n",
            "Epoch 63/1500\n",
            "4/4 [==============================] - 0s 6ms/step - loss: 0.0030\n",
            "Epoch 64/1500\n",
            "4/4 [==============================] - 0s 6ms/step - loss: 0.0025\n",
            "Epoch 65/1500\n",
            "4/4 [==============================] - 0s 6ms/step - loss: 0.0023\n",
            "Epoch 66/1500\n",
            "4/4 [==============================] - 0s 7ms/step - loss: 0.0031\n",
            "Epoch 67/1500\n",
            "4/4 [==============================] - 0s 8ms/step - loss: 0.0025\n",
            "Epoch 68/1500\n",
            "4/4 [==============================] - 0s 3ms/step - loss: 0.0027\n",
            "Epoch 69/1500\n",
            "4/4 [==============================] - 0s 3ms/step - loss: 0.0025\n",
            "Epoch 70/1500\n",
            "4/4 [==============================] - 0s 3ms/step - loss: 0.0027\n",
            "Epoch 71/1500\n",
            "4/4 [==============================] - 0s 4ms/step - loss: 0.0028\n",
            "Epoch 72/1500\n",
            "4/4 [==============================] - 0s 3ms/step - loss: 0.0033\n",
            "Epoch 73/1500\n",
            "4/4 [==============================] - 0s 3ms/step - loss: 0.0026\n",
            "Epoch 74/1500\n",
            "4/4 [==============================] - 0s 4ms/step - loss: 0.0029\n",
            "Epoch 75/1500\n",
            "4/4 [==============================] - 0s 3ms/step - loss: 0.0028\n",
            "Epoch 76/1500\n",
            "4/4 [==============================] - 0s 3ms/step - loss: 0.0027\n",
            "Epoch 77/1500\n",
            "4/4 [==============================] - 0s 3ms/step - loss: 0.0025\n",
            "Epoch 78/1500\n",
            "4/4 [==============================] - 0s 3ms/step - loss: 0.0025\n",
            "Epoch 79/1500\n",
            "4/4 [==============================] - 0s 3ms/step - loss: 0.0027\n",
            "Epoch 80/1500\n",
            "4/4 [==============================] - 0s 3ms/step - loss: 0.0028\n",
            "Epoch 81/1500\n",
            "4/4 [==============================] - 0s 5ms/step - loss: 0.0026\n",
            "Epoch 82/1500\n",
            "4/4 [==============================] - 0s 4ms/step - loss: 0.0028\n",
            "Epoch 83/1500\n",
            "4/4 [==============================] - 0s 3ms/step - loss: 0.0027\n",
            "Epoch 84/1500\n",
            "4/4 [==============================] - 0s 4ms/step - loss: 0.0027\n",
            "Epoch 85/1500\n",
            "4/4 [==============================] - 0s 3ms/step - loss: 0.0026\n",
            "Epoch 86/1500\n",
            "4/4 [==============================] - 0s 3ms/step - loss: 0.0027\n",
            "Epoch 87/1500\n",
            "4/4 [==============================] - 0s 3ms/step - loss: 0.0028\n",
            "Epoch 88/1500\n",
            "4/4 [==============================] - 0s 3ms/step - loss: 0.0028\n",
            "Epoch 89/1500\n",
            "4/4 [==============================] - 0s 3ms/step - loss: 0.0032\n",
            "Epoch 90/1500\n",
            "4/4 [==============================] - 0s 3ms/step - loss: 0.0029\n",
            "Epoch 91/1500\n",
            "4/4 [==============================] - 0s 3ms/step - loss: 0.0027\n",
            "Epoch 92/1500\n",
            "4/4 [==============================] - 0s 3ms/step - loss: 0.0029\n",
            "Epoch 93/1500\n",
            "4/4 [==============================] - 0s 3ms/step - loss: 0.0025\n",
            "Epoch 94/1500\n",
            "4/4 [==============================] - 0s 3ms/step - loss: 0.0028\n",
            "Epoch 95/1500\n",
            "4/4 [==============================] - 0s 3ms/step - loss: 0.0024\n",
            "Epoch 96/1500\n",
            "4/4 [==============================] - 0s 3ms/step - loss: 0.0027\n",
            "Epoch 97/1500\n",
            "4/4 [==============================] - 0s 3ms/step - loss: 0.0025\n",
            "Epoch 98/1500\n",
            "4/4 [==============================] - 0s 4ms/step - loss: 0.0026\n",
            "Epoch 99/1500\n",
            "4/4 [==============================] - 0s 3ms/step - loss: 0.0026\n",
            "Epoch 100/1500\n",
            "4/4 [==============================] - 0s 4ms/step - loss: 0.0037\n",
            "Epoch 101/1500\n",
            "4/4 [==============================] - 0s 4ms/step - loss: 0.0024\n",
            "Epoch 102/1500\n",
            "4/4 [==============================] - 0s 4ms/step - loss: 0.0024\n",
            "Epoch 103/1500\n",
            "4/4 [==============================] - 0s 3ms/step - loss: 0.0024\n",
            "Epoch 104/1500\n",
            "4/4 [==============================] - 0s 3ms/step - loss: 0.0026\n",
            "Epoch 105/1500\n",
            "4/4 [==============================] - 0s 4ms/step - loss: 0.0024\n",
            "Epoch 106/1500\n",
            "4/4 [==============================] - 0s 5ms/step - loss: 0.0033\n",
            "Epoch 107/1500\n",
            "4/4 [==============================] - 0s 5ms/step - loss: 0.0028\n",
            "Epoch 108/1500\n",
            "4/4 [==============================] - 0s 3ms/step - loss: 0.0024\n",
            "Epoch 109/1500\n",
            "4/4 [==============================] - 0s 5ms/step - loss: 0.0026\n",
            "Epoch 110/1500\n",
            "4/4 [==============================] - 0s 3ms/step - loss: 0.0030\n",
            "Epoch 111/1500\n",
            "4/4 [==============================] - 0s 3ms/step - loss: 0.0024\n",
            "Epoch 112/1500\n",
            "4/4 [==============================] - 0s 3ms/step - loss: 0.0025\n",
            "Epoch 113/1500\n",
            "4/4 [==============================] - 0s 3ms/step - loss: 0.0026\n",
            "Epoch 114/1500\n",
            "4/4 [==============================] - 0s 3ms/step - loss: 0.0024\n",
            "Epoch 115/1500\n",
            "4/4 [==============================] - 0s 3ms/step - loss: 0.0026\n",
            "Epoch 116/1500\n",
            "4/4 [==============================] - 0s 3ms/step - loss: 0.0030\n",
            "Epoch 117/1500\n",
            "4/4 [==============================] - 0s 3ms/step - loss: 0.0025\n",
            "Epoch 118/1500\n",
            "4/4 [==============================] - 0s 3ms/step - loss: 0.0029\n",
            "Epoch 119/1500\n",
            "4/4 [==============================] - 0s 3ms/step - loss: 0.0027\n",
            "Epoch 120/1500\n",
            "4/4 [==============================] - 0s 3ms/step - loss: 0.0025\n",
            "Epoch 121/1500\n",
            "4/4 [==============================] - 0s 3ms/step - loss: 0.0026\n",
            "Epoch 122/1500\n",
            "4/4 [==============================] - 0s 4ms/step - loss: 0.0027\n",
            "Epoch 123/1500\n",
            "4/4 [==============================] - 0s 3ms/step - loss: 0.0032\n",
            "Epoch 124/1500\n",
            "4/4 [==============================] - 0s 3ms/step - loss: 0.0023\n",
            "Epoch 125/1500\n",
            "4/4 [==============================] - 0s 3ms/step - loss: 0.0026\n",
            "Epoch 126/1500\n",
            "4/4 [==============================] - 0s 3ms/step - loss: 0.0025\n",
            "Epoch 127/1500\n",
            "4/4 [==============================] - 0s 3ms/step - loss: 0.0025\n",
            "Epoch 128/1500\n",
            "4/4 [==============================] - 0s 3ms/step - loss: 0.0031\n",
            "Epoch 129/1500\n",
            "4/4 [==============================] - 0s 3ms/step - loss: 0.0023\n",
            "Epoch 130/1500\n",
            "4/4 [==============================] - 0s 3ms/step - loss: 0.0028\n",
            "Epoch 131/1500\n",
            "4/4 [==============================] - 0s 3ms/step - loss: 0.0026\n",
            "Epoch 132/1500\n",
            "4/4 [==============================] - 0s 3ms/step - loss: 0.0026\n",
            "Epoch 133/1500\n",
            "4/4 [==============================] - 0s 3ms/step - loss: 0.0025\n",
            "Epoch 134/1500\n",
            "4/4 [==============================] - 0s 3ms/step - loss: 0.0029\n",
            "Epoch 135/1500\n",
            "4/4 [==============================] - 0s 3ms/step - loss: 0.0025\n",
            "Epoch 136/1500\n",
            "4/4 [==============================] - 0s 4ms/step - loss: 0.0027\n",
            "Epoch 137/1500\n",
            "4/4 [==============================] - 0s 3ms/step - loss: 0.0025\n",
            "Epoch 138/1500\n",
            "4/4 [==============================] - 0s 3ms/step - loss: 0.0027\n",
            "Epoch 139/1500\n",
            "4/4 [==============================] - 0s 3ms/step - loss: 0.0024\n",
            "Epoch 140/1500\n",
            "4/4 [==============================] - 0s 3ms/step - loss: 0.0026\n",
            "Epoch 141/1500\n",
            "4/4 [==============================] - 0s 3ms/step - loss: 0.0025\n",
            "Epoch 142/1500\n",
            "4/4 [==============================] - 0s 3ms/step - loss: 0.0026\n",
            "Epoch 143/1500\n",
            "4/4 [==============================] - 0s 3ms/step - loss: 0.0025\n",
            "Epoch 144/1500\n",
            "4/4 [==============================] - 0s 3ms/step - loss: 0.0024\n",
            "Epoch 145/1500\n",
            "4/4 [==============================] - 0s 3ms/step - loss: 0.0023\n",
            "Epoch 146/1500\n",
            "4/4 [==============================] - 0s 3ms/step - loss: 0.0026\n",
            "Epoch 147/1500\n",
            "4/4 [==============================] - 0s 3ms/step - loss: 0.0025\n",
            "Epoch 148/1500\n",
            "4/4 [==============================] - 0s 3ms/step - loss: 0.0025\n",
            "Epoch 149/1500\n",
            "4/4 [==============================] - 0s 3ms/step - loss: 0.0028\n",
            "Epoch 150/1500\n",
            "4/4 [==============================] - 0s 3ms/step - loss: 0.0025\n",
            "Epoch 151/1500\n",
            "4/4 [==============================] - 0s 3ms/step - loss: 0.0024\n",
            "Epoch 152/1500\n",
            "4/4 [==============================] - 0s 3ms/step - loss: 0.0022\n",
            "Epoch 153/1500\n",
            "4/4 [==============================] - 0s 3ms/step - loss: 0.0036\n",
            "Epoch 154/1500\n",
            "4/4 [==============================] - 0s 3ms/step - loss: 0.0022\n",
            "Epoch 155/1500\n",
            "4/4 [==============================] - 0s 3ms/step - loss: 0.0025\n",
            "Epoch 156/1500\n",
            "4/4 [==============================] - 0s 3ms/step - loss: 0.0023\n",
            "Epoch 157/1500\n",
            "4/4 [==============================] - 0s 3ms/step - loss: 0.0025\n",
            "Epoch 158/1500\n",
            "4/4 [==============================] - 0s 3ms/step - loss: 0.0025\n",
            "Epoch 159/1500\n",
            "4/4 [==============================] - 0s 3ms/step - loss: 0.0032\n",
            "Epoch 160/1500\n",
            "4/4 [==============================] - 0s 3ms/step - loss: 0.0024\n",
            "Epoch 161/1500\n",
            "4/4 [==============================] - 0s 3ms/step - loss: 0.0024\n",
            "Epoch 162/1500\n",
            "4/4 [==============================] - 0s 3ms/step - loss: 0.0024\n",
            "Epoch 163/1500\n",
            "4/4 [==============================] - 0s 3ms/step - loss: 0.0024\n",
            "Epoch 164/1500\n",
            "4/4 [==============================] - 0s 3ms/step - loss: 0.0024\n",
            "Epoch 165/1500\n",
            "4/4 [==============================] - 0s 5ms/step - loss: 0.0024\n",
            "Epoch 166/1500\n",
            "4/4 [==============================] - 0s 3ms/step - loss: 0.0029\n",
            "Epoch 167/1500\n",
            "4/4 [==============================] - 0s 3ms/step - loss: 0.0025\n",
            "Epoch 168/1500\n",
            "4/4 [==============================] - 0s 5ms/step - loss: 0.0026\n",
            "Epoch 169/1500\n",
            "4/4 [==============================] - 0s 3ms/step - loss: 0.0025\n",
            "Epoch 170/1500\n",
            "4/4 [==============================] - 0s 3ms/step - loss: 0.0025\n",
            "Epoch 171/1500\n",
            "4/4 [==============================] - 0s 2ms/step - loss: 0.0031\n",
            "Epoch 172/1500\n",
            "4/4 [==============================] - 0s 3ms/step - loss: 0.0022\n",
            "Epoch 173/1500\n",
            "4/4 [==============================] - 0s 3ms/step - loss: 0.0028\n",
            "Epoch 174/1500\n",
            "4/4 [==============================] - 0s 3ms/step - loss: 0.0027\n",
            "Epoch 175/1500\n",
            "4/4 [==============================] - 0s 3ms/step - loss: 0.0024\n",
            "Epoch 176/1500\n",
            "4/4 [==============================] - 0s 3ms/step - loss: 0.0023\n",
            "Epoch 177/1500\n",
            "4/4 [==============================] - 0s 3ms/step - loss: 0.0024\n",
            "Epoch 178/1500\n",
            "4/4 [==============================] - 0s 3ms/step - loss: 0.0023\n",
            "Epoch 179/1500\n",
            "4/4 [==============================] - 0s 3ms/step - loss: 0.0023\n",
            "Epoch 180/1500\n",
            "4/4 [==============================] - 0s 3ms/step - loss: 0.0029\n",
            "Epoch 181/1500\n",
            "4/4 [==============================] - 0s 3ms/step - loss: 0.0024\n",
            "Epoch 182/1500\n",
            "4/4 [==============================] - 0s 4ms/step - loss: 0.0024\n",
            "Epoch 183/1500\n",
            "4/4 [==============================] - 0s 3ms/step - loss: 0.0026\n",
            "Epoch 184/1500\n",
            "4/4 [==============================] - 0s 3ms/step - loss: 0.0024\n",
            "Epoch 185/1500\n",
            "4/4 [==============================] - 0s 3ms/step - loss: 0.0026\n",
            "Epoch 186/1500\n",
            "4/4 [==============================] - 0s 3ms/step - loss: 0.0024\n",
            "Epoch 187/1500\n",
            "4/4 [==============================] - 0s 3ms/step - loss: 0.0023\n",
            "Epoch 188/1500\n",
            "4/4 [==============================] - 0s 3ms/step - loss: 0.0028\n",
            "Epoch 189/1500\n",
            "4/4 [==============================] - 0s 3ms/step - loss: 0.0031\n",
            "Epoch 190/1500\n",
            "4/4 [==============================] - 0s 3ms/step - loss: 0.0024\n",
            "Epoch 191/1500\n",
            "4/4 [==============================] - 0s 3ms/step - loss: 0.0026\n",
            "Epoch 192/1500\n",
            "4/4 [==============================] - 0s 3ms/step - loss: 0.0021\n",
            "Epoch 193/1500\n",
            "4/4 [==============================] - 0s 3ms/step - loss: 0.0028\n",
            "Epoch 194/1500\n",
            "4/4 [==============================] - 0s 3ms/step - loss: 0.0027\n",
            "Epoch 195/1500\n",
            "4/4 [==============================] - 0s 3ms/step - loss: 0.0028\n",
            "Epoch 196/1500\n",
            "4/4 [==============================] - 0s 3ms/step - loss: 0.0022\n",
            "Epoch 197/1500\n",
            "4/4 [==============================] - 0s 3ms/step - loss: 0.0027\n",
            "Epoch 198/1500\n",
            "4/4 [==============================] - 0s 3ms/step - loss: 0.0022\n",
            "Epoch 199/1500\n",
            "4/4 [==============================] - 0s 3ms/step - loss: 0.0023\n",
            "Epoch 200/1500\n",
            "4/4 [==============================] - 0s 2ms/step - loss: 0.0023\n",
            "Epoch 201/1500\n",
            "4/4 [==============================] - 0s 3ms/step - loss: 0.0026\n",
            "Epoch 202/1500\n",
            "4/4 [==============================] - 0s 3ms/step - loss: 0.0021\n",
            "Epoch 203/1500\n",
            "4/4 [==============================] - 0s 3ms/step - loss: 0.0029\n",
            "Epoch 204/1500\n",
            "4/4 [==============================] - 0s 3ms/step - loss: 0.0026\n",
            "Epoch 205/1500\n",
            "4/4 [==============================] - 0s 3ms/step - loss: 0.0022\n",
            "Epoch 206/1500\n",
            "4/4 [==============================] - 0s 3ms/step - loss: 0.0028\n",
            "Epoch 207/1500\n",
            "4/4 [==============================] - 0s 3ms/step - loss: 0.0025\n",
            "Epoch 208/1500\n",
            "4/4 [==============================] - 0s 3ms/step - loss: 0.0023\n",
            "Epoch 209/1500\n",
            "4/4 [==============================] - 0s 3ms/step - loss: 0.0027\n",
            "Epoch 210/1500\n",
            "4/4 [==============================] - 0s 3ms/step - loss: 0.0028\n",
            "Epoch 211/1500\n",
            "4/4 [==============================] - 0s 3ms/step - loss: 0.0027\n",
            "Epoch 212/1500\n",
            "4/4 [==============================] - 0s 3ms/step - loss: 0.0022\n",
            "Epoch 213/1500\n",
            "4/4 [==============================] - 0s 3ms/step - loss: 0.0024\n",
            "Epoch 214/1500\n",
            "4/4 [==============================] - 0s 3ms/step - loss: 0.0021\n",
            "Epoch 215/1500\n",
            "4/4 [==============================] - 0s 3ms/step - loss: 0.0025\n",
            "Epoch 216/1500\n",
            "4/4 [==============================] - 0s 4ms/step - loss: 0.0029\n",
            "Epoch 217/1500\n",
            "4/4 [==============================] - 0s 3ms/step - loss: 0.0022\n",
            "Epoch 218/1500\n",
            "4/4 [==============================] - 0s 3ms/step - loss: 0.0023\n",
            "Epoch 219/1500\n",
            "4/4 [==============================] - 0s 5ms/step - loss: 0.0025\n",
            "Epoch 220/1500\n",
            "4/4 [==============================] - 0s 4ms/step - loss: 0.0021\n",
            "Epoch 221/1500\n",
            "4/4 [==============================] - 0s 3ms/step - loss: 0.0029\n",
            "Epoch 222/1500\n",
            "4/4 [==============================] - 0s 3ms/step - loss: 0.0025\n",
            "Epoch 223/1500\n",
            "4/4 [==============================] - 0s 3ms/step - loss: 0.0022\n",
            "Epoch 224/1500\n",
            "4/4 [==============================] - 0s 3ms/step - loss: 0.0023\n",
            "Epoch 225/1500\n",
            "4/4 [==============================] - 0s 3ms/step - loss: 0.0022\n",
            "Epoch 226/1500\n",
            "4/4 [==============================] - 0s 3ms/step - loss: 0.0025\n",
            "Epoch 227/1500\n",
            "4/4 [==============================] - 0s 3ms/step - loss: 0.0026\n",
            "Epoch 228/1500\n",
            "4/4 [==============================] - 0s 3ms/step - loss: 0.0027\n",
            "Epoch 229/1500\n",
            "4/4 [==============================] - 0s 3ms/step - loss: 0.0021\n",
            "Epoch 230/1500\n",
            "4/4 [==============================] - 0s 3ms/step - loss: 0.0021\n",
            "Epoch 231/1500\n",
            "4/4 [==============================] - 0s 5ms/step - loss: 0.0025\n",
            "Epoch 232/1500\n",
            "4/4 [==============================] - 0s 4ms/step - loss: 0.0024\n",
            "Epoch 233/1500\n",
            "4/4 [==============================] - 0s 4ms/step - loss: 0.0026\n",
            "Epoch 234/1500\n",
            "4/4 [==============================] - 0s 4ms/step - loss: 0.0024\n",
            "Epoch 235/1500\n",
            "4/4 [==============================] - 0s 4ms/step - loss: 0.0023\n",
            "Epoch 236/1500\n",
            "4/4 [==============================] - 0s 4ms/step - loss: 0.0028\n",
            "Epoch 237/1500\n",
            "4/4 [==============================] - 0s 3ms/step - loss: 0.0025\n",
            "Epoch 238/1500\n",
            "4/4 [==============================] - 0s 4ms/step - loss: 0.0022\n",
            "Epoch 239/1500\n",
            "4/4 [==============================] - 0s 3ms/step - loss: 0.0026\n",
            "Epoch 240/1500\n",
            "4/4 [==============================] - 0s 5ms/step - loss: 0.0021\n",
            "Epoch 241/1500\n",
            "4/4 [==============================] - 0s 4ms/step - loss: 0.0022\n",
            "Epoch 242/1500\n",
            "4/4 [==============================] - 0s 4ms/step - loss: 0.0021\n",
            "Epoch 243/1500\n",
            "4/4 [==============================] - 0s 4ms/step - loss: 0.0024\n",
            "Epoch 244/1500\n",
            "4/4 [==============================] - 0s 4ms/step - loss: 0.0023\n",
            "Epoch 245/1500\n",
            "4/4 [==============================] - 0s 4ms/step - loss: 0.0032\n",
            "Epoch 246/1500\n",
            "4/4 [==============================] - 0s 3ms/step - loss: 0.0026\n",
            "Epoch 247/1500\n",
            "4/4 [==============================] - 0s 3ms/step - loss: 0.0021\n",
            "Epoch 248/1500\n",
            "4/4 [==============================] - 0s 3ms/step - loss: 0.0023\n",
            "Epoch 249/1500\n",
            "4/4 [==============================] - 0s 3ms/step - loss: 0.0022\n",
            "Epoch 250/1500\n",
            "4/4 [==============================] - 0s 5ms/step - loss: 0.0029\n",
            "Epoch 251/1500\n",
            "4/4 [==============================] - 0s 4ms/step - loss: 0.0024\n",
            "Epoch 252/1500\n",
            "4/4 [==============================] - 0s 4ms/step - loss: 0.0022\n",
            "Epoch 253/1500\n",
            "4/4 [==============================] - 0s 3ms/step - loss: 0.0025\n",
            "Epoch 254/1500\n",
            "4/4 [==============================] - 0s 3ms/step - loss: 0.0024\n",
            "Epoch 255/1500\n",
            "4/4 [==============================] - 0s 3ms/step - loss: 0.0028\n",
            "Epoch 256/1500\n",
            "4/4 [==============================] - 0s 3ms/step - loss: 0.0023\n",
            "Epoch 257/1500\n",
            "4/4 [==============================] - 0s 3ms/step - loss: 0.0027\n",
            "Epoch 258/1500\n",
            "4/4 [==============================] - 0s 3ms/step - loss: 0.0022\n",
            "Epoch 259/1500\n",
            "4/4 [==============================] - 0s 4ms/step - loss: 0.0028\n",
            "Epoch 260/1500\n",
            "4/4 [==============================] - 0s 4ms/step - loss: 0.0021\n",
            "Epoch 261/1500\n",
            "4/4 [==============================] - 0s 4ms/step - loss: 0.0023\n",
            "Epoch 262/1500\n",
            "4/4 [==============================] - 0s 4ms/step - loss: 0.0023\n",
            "Epoch 263/1500\n",
            "4/4 [==============================] - 0s 4ms/step - loss: 0.0023\n",
            "Epoch 264/1500\n",
            "4/4 [==============================] - 0s 4ms/step - loss: 0.0026\n",
            "Epoch 265/1500\n",
            "4/4 [==============================] - 0s 5ms/step - loss: 0.0025\n",
            "Epoch 266/1500\n",
            "4/4 [==============================] - 0s 4ms/step - loss: 0.0020\n",
            "Epoch 267/1500\n",
            "4/4 [==============================] - 0s 3ms/step - loss: 0.0021\n",
            "Epoch 268/1500\n",
            "4/4 [==============================] - 0s 3ms/step - loss: 0.0025\n",
            "Epoch 269/1500\n",
            "4/4 [==============================] - 0s 3ms/step - loss: 0.0025\n",
            "Epoch 270/1500\n",
            "4/4 [==============================] - 0s 3ms/step - loss: 0.0022\n",
            "Epoch 271/1500\n",
            "4/4 [==============================] - 0s 3ms/step - loss: 0.0021\n",
            "Epoch 272/1500\n",
            "4/4 [==============================] - 0s 3ms/step - loss: 0.0024\n",
            "Epoch 273/1500\n",
            "4/4 [==============================] - 0s 3ms/step - loss: 0.0022\n",
            "Epoch 274/1500\n",
            "4/4 [==============================] - 0s 3ms/step - loss: 0.0030\n",
            "Epoch 275/1500\n",
            "4/4 [==============================] - 0s 3ms/step - loss: 0.0024\n",
            "Epoch 276/1500\n",
            "4/4 [==============================] - 0s 3ms/step - loss: 0.0024\n",
            "Epoch 277/1500\n",
            "4/4 [==============================] - 0s 3ms/step - loss: 0.0026\n",
            "Epoch 278/1500\n",
            "4/4 [==============================] - 0s 3ms/step - loss: 0.0023\n",
            "Epoch 279/1500\n",
            "4/4 [==============================] - 0s 3ms/step - loss: 0.0023\n",
            "Epoch 280/1500\n",
            "4/4 [==============================] - 0s 4ms/step - loss: 0.0023\n",
            "Epoch 281/1500\n",
            "4/4 [==============================] - 0s 3ms/step - loss: 0.0024\n",
            "Epoch 282/1500\n",
            "4/4 [==============================] - 0s 3ms/step - loss: 0.0023\n",
            "Epoch 283/1500\n",
            "4/4 [==============================] - 0s 3ms/step - loss: 0.0024\n",
            "Epoch 284/1500\n",
            "4/4 [==============================] - 0s 3ms/step - loss: 0.0027\n",
            "Epoch 285/1500\n",
            "4/4 [==============================] - 0s 3ms/step - loss: 0.0023\n",
            "Epoch 286/1500\n",
            "4/4 [==============================] - 0s 3ms/step - loss: 0.0020\n",
            "Epoch 287/1500\n",
            "4/4 [==============================] - 0s 3ms/step - loss: 0.0022\n",
            "Epoch 288/1500\n",
            "4/4 [==============================] - 0s 3ms/step - loss: 0.0023\n",
            "Epoch 289/1500\n",
            "4/4 [==============================] - 0s 3ms/step - loss: 0.0027\n",
            "Epoch 290/1500\n",
            "4/4 [==============================] - 0s 3ms/step - loss: 0.0021\n",
            "Epoch 291/1500\n",
            "4/4 [==============================] - 0s 3ms/step - loss: 0.0023\n",
            "Epoch 292/1500\n",
            "4/4 [==============================] - 0s 3ms/step - loss: 0.0022\n",
            "Epoch 293/1500\n",
            "4/4 [==============================] - 0s 3ms/step - loss: 0.0026\n",
            "Epoch 294/1500\n",
            "4/4 [==============================] - 0s 3ms/step - loss: 0.0021\n",
            "Epoch 295/1500\n",
            "4/4 [==============================] - 0s 3ms/step - loss: 0.0020\n",
            "Epoch 296/1500\n",
            "4/4 [==============================] - 0s 3ms/step - loss: 0.0022\n",
            "Epoch 297/1500\n",
            "4/4 [==============================] - 0s 3ms/step - loss: 0.0025\n",
            "Epoch 298/1500\n",
            "4/4 [==============================] - 0s 3ms/step - loss: 0.0024\n",
            "Epoch 299/1500\n",
            "4/4 [==============================] - 0s 3ms/step - loss: 0.0023\n",
            "Epoch 300/1500\n",
            "4/4 [==============================] - 0s 3ms/step - loss: 0.0026\n",
            "Epoch 301/1500\n",
            "4/4 [==============================] - 0s 3ms/step - loss: 0.0022\n",
            "Epoch 302/1500\n",
            "4/4 [==============================] - 0s 3ms/step - loss: 0.0020\n",
            "Epoch 303/1500\n",
            "4/4 [==============================] - 0s 3ms/step - loss: 0.0020\n",
            "Epoch 304/1500\n",
            "4/4 [==============================] - 0s 3ms/step - loss: 0.0027\n",
            "Epoch 305/1500\n",
            "4/4 [==============================] - 0s 3ms/step - loss: 0.0022\n",
            "Epoch 306/1500\n",
            "4/4 [==============================] - 0s 3ms/step - loss: 0.0024\n",
            "Epoch 307/1500\n",
            "4/4 [==============================] - 0s 3ms/step - loss: 0.0023\n",
            "Epoch 308/1500\n",
            "4/4 [==============================] - 0s 3ms/step - loss: 0.0027\n",
            "Epoch 309/1500\n",
            "4/4 [==============================] - 0s 3ms/step - loss: 0.0023\n",
            "Epoch 310/1500\n",
            "4/4 [==============================] - 0s 3ms/step - loss: 0.0022\n",
            "Epoch 311/1500\n",
            "4/4 [==============================] - 0s 3ms/step - loss: 0.0022\n",
            "Epoch 312/1500\n",
            "4/4 [==============================] - 0s 3ms/step - loss: 0.0026\n",
            "Epoch 313/1500\n",
            "4/4 [==============================] - 0s 3ms/step - loss: 0.0020\n",
            "Epoch 314/1500\n",
            "4/4 [==============================] - 0s 3ms/step - loss: 0.0021\n",
            "Epoch 315/1500\n",
            "4/4 [==============================] - 0s 5ms/step - loss: 0.0022\n",
            "Epoch 316/1500\n",
            "4/4 [==============================] - 0s 3ms/step - loss: 0.0025\n",
            "Epoch 317/1500\n",
            "4/4 [==============================] - 0s 3ms/step - loss: 0.0023\n",
            "Epoch 318/1500\n",
            "4/4 [==============================] - 0s 4ms/step - loss: 0.0022\n",
            "Epoch 319/1500\n",
            "4/4 [==============================] - 0s 5ms/step - loss: 0.0022\n",
            "Epoch 320/1500\n",
            "4/4 [==============================] - 0s 5ms/step - loss: 0.0026\n",
            "Epoch 321/1500\n",
            "4/4 [==============================] - 0s 5ms/step - loss: 0.0026\n",
            "Epoch 322/1500\n",
            "4/4 [==============================] - 0s 6ms/step - loss: 0.0020\n",
            "Epoch 323/1500\n",
            "4/4 [==============================] - 0s 4ms/step - loss: 0.0022\n",
            "Epoch 324/1500\n",
            "4/4 [==============================] - 0s 3ms/step - loss: 0.0021\n",
            "Epoch 325/1500\n",
            "4/4 [==============================] - 0s 3ms/step - loss: 0.0026\n",
            "Epoch 326/1500\n",
            "4/4 [==============================] - 0s 3ms/step - loss: 0.0023\n",
            "Epoch 327/1500\n",
            "4/4 [==============================] - 0s 3ms/step - loss: 0.0022\n",
            "Epoch 328/1500\n",
            "4/4 [==============================] - 0s 4ms/step - loss: 0.0023\n",
            "Epoch 329/1500\n",
            "4/4 [==============================] - 0s 4ms/step - loss: 0.0021\n",
            "Epoch 330/1500\n",
            "4/4 [==============================] - 0s 5ms/step - loss: 0.0022\n",
            "Epoch 331/1500\n",
            "4/4 [==============================] - 0s 5ms/step - loss: 0.0021\n",
            "Epoch 332/1500\n",
            "4/4 [==============================] - 0s 3ms/step - loss: 0.0023\n",
            "Epoch 333/1500\n",
            "4/4 [==============================] - 0s 3ms/step - loss: 0.0025\n",
            "Epoch 334/1500\n",
            "4/4 [==============================] - 0s 3ms/step - loss: 0.0023\n",
            "Epoch 335/1500\n",
            "4/4 [==============================] - 0s 3ms/step - loss: 0.0024\n",
            "Epoch 336/1500\n",
            "4/4 [==============================] - 0s 3ms/step - loss: 0.0021\n",
            "Epoch 337/1500\n",
            "4/4 [==============================] - 0s 3ms/step - loss: 0.0025\n",
            "Epoch 338/1500\n",
            "4/4 [==============================] - 0s 3ms/step - loss: 0.0030\n",
            "Epoch 339/1500\n",
            "4/4 [==============================] - 0s 3ms/step - loss: 0.0022\n",
            "Epoch 340/1500\n",
            "4/4 [==============================] - 0s 3ms/step - loss: 0.0019\n",
            "Epoch 341/1500\n",
            "4/4 [==============================] - 0s 3ms/step - loss: 0.0021\n",
            "Epoch 342/1500\n",
            "4/4 [==============================] - 0s 3ms/step - loss: 0.0023\n",
            "Epoch 343/1500\n",
            "4/4 [==============================] - 0s 5ms/step - loss: 0.0023\n",
            "Epoch 344/1500\n",
            "4/4 [==============================] - 0s 3ms/step - loss: 0.0022\n",
            "Epoch 345/1500\n",
            "4/4 [==============================] - 0s 4ms/step - loss: 0.0027\n",
            "Epoch 346/1500\n",
            "4/4 [==============================] - 0s 4ms/step - loss: 0.0020\n",
            "Epoch 347/1500\n",
            "4/4 [==============================] - 0s 3ms/step - loss: 0.0021\n",
            "Epoch 348/1500\n",
            "4/4 [==============================] - 0s 3ms/step - loss: 0.0021\n",
            "Epoch 349/1500\n",
            "4/4 [==============================] - 0s 3ms/step - loss: 0.0023\n",
            "Epoch 350/1500\n",
            "4/4 [==============================] - 0s 3ms/step - loss: 0.0023\n",
            "Epoch 351/1500\n",
            "4/4 [==============================] - 0s 3ms/step - loss: 0.0023\n",
            "Epoch 352/1500\n",
            "4/4 [==============================] - 0s 3ms/step - loss: 0.0021\n",
            "Epoch 353/1500\n",
            "4/4 [==============================] - 0s 3ms/step - loss: 0.0022\n",
            "Epoch 354/1500\n",
            "4/4 [==============================] - 0s 3ms/step - loss: 0.0027\n",
            "Epoch 355/1500\n",
            "4/4 [==============================] - 0s 4ms/step - loss: 0.0022\n",
            "Epoch 356/1500\n",
            "4/4 [==============================] - 0s 3ms/step - loss: 0.0025\n",
            "Epoch 357/1500\n",
            "4/4 [==============================] - 0s 5ms/step - loss: 0.0023\n",
            "Epoch 358/1500\n",
            "4/4 [==============================] - 0s 3ms/step - loss: 0.0026\n",
            "Epoch 359/1500\n",
            "4/4 [==============================] - 0s 4ms/step - loss: 0.0020\n",
            "Epoch 360/1500\n",
            "4/4 [==============================] - 0s 4ms/step - loss: 0.0021\n",
            "Epoch 361/1500\n",
            "4/4 [==============================] - 0s 4ms/step - loss: 0.0020\n",
            "Epoch 362/1500\n",
            "4/4 [==============================] - 0s 4ms/step - loss: 0.0023\n",
            "Epoch 363/1500\n",
            "4/4 [==============================] - 0s 4ms/step - loss: 0.0021\n",
            "Epoch 364/1500\n",
            "4/4 [==============================] - 0s 5ms/step - loss: 0.0021\n",
            "Epoch 365/1500\n",
            "4/4 [==============================] - 0s 4ms/step - loss: 0.0026\n",
            "Epoch 366/1500\n",
            "4/4 [==============================] - 0s 4ms/step - loss: 0.0021\n",
            "Epoch 367/1500\n",
            "4/4 [==============================] - 0s 4ms/step - loss: 0.0022\n",
            "Epoch 368/1500\n",
            "4/4 [==============================] - 0s 4ms/step - loss: 0.0022\n",
            "Epoch 369/1500\n",
            "4/4 [==============================] - 0s 5ms/step - loss: 0.0027\n",
            "Epoch 370/1500\n",
            "4/4 [==============================] - 0s 3ms/step - loss: 0.0024\n",
            "Epoch 371/1500\n",
            "4/4 [==============================] - 0s 3ms/step - loss: 0.0021\n",
            "Epoch 372/1500\n",
            "4/4 [==============================] - 0s 3ms/step - loss: 0.0020\n",
            "Epoch 373/1500\n",
            "4/4 [==============================] - 0s 3ms/step - loss: 0.0026\n",
            "Epoch 374/1500\n",
            "4/4 [==============================] - 0s 3ms/step - loss: 0.0022\n",
            "Epoch 375/1500\n",
            "4/4 [==============================] - 0s 3ms/step - loss: 0.0020\n",
            "Epoch 376/1500\n",
            "4/4 [==============================] - 0s 6ms/step - loss: 0.0023\n",
            "Epoch 377/1500\n",
            "4/4 [==============================] - 0s 4ms/step - loss: 0.0022\n",
            "Epoch 378/1500\n",
            "4/4 [==============================] - 0s 3ms/step - loss: 0.0023\n",
            "Epoch 379/1500\n",
            "4/4 [==============================] - 0s 4ms/step - loss: 0.0024\n",
            "Epoch 380/1500\n",
            "4/4 [==============================] - 0s 4ms/step - loss: 0.0020\n",
            "Epoch 381/1500\n",
            "4/4 [==============================] - 0s 3ms/step - loss: 0.0025\n",
            "Epoch 382/1500\n",
            "4/4 [==============================] - 0s 5ms/step - loss: 0.0022\n",
            "Epoch 383/1500\n",
            "4/4 [==============================] - 0s 3ms/step - loss: 0.0023\n",
            "Epoch 384/1500\n",
            "4/4 [==============================] - 0s 4ms/step - loss: 0.0024\n",
            "Epoch 385/1500\n",
            "4/4 [==============================] - 0s 3ms/step - loss: 0.0021\n",
            "Epoch 386/1500\n",
            "4/4 [==============================] - 0s 3ms/step - loss: 0.0020\n",
            "Epoch 387/1500\n",
            "4/4 [==============================] - 0s 4ms/step - loss: 0.0024\n",
            "Epoch 388/1500\n",
            "4/4 [==============================] - 0s 3ms/step - loss: 0.0019\n",
            "Epoch 389/1500\n",
            "4/4 [==============================] - 0s 3ms/step - loss: 0.0025\n",
            "Epoch 390/1500\n",
            "4/4 [==============================] - 0s 3ms/step - loss: 0.0023\n",
            "Epoch 391/1500\n",
            "4/4 [==============================] - 0s 4ms/step - loss: 0.0020\n",
            "Epoch 392/1500\n",
            "4/4 [==============================] - 0s 3ms/step - loss: 0.0024\n",
            "Epoch 393/1500\n",
            "4/4 [==============================] - 0s 3ms/step - loss: 0.0023\n",
            "Epoch 394/1500\n",
            "4/4 [==============================] - 0s 4ms/step - loss: 0.0024\n",
            "Epoch 395/1500\n",
            "4/4 [==============================] - 0s 3ms/step - loss: 0.0023\n",
            "Epoch 396/1500\n",
            "4/4 [==============================] - 0s 3ms/step - loss: 0.0020\n",
            "Epoch 397/1500\n",
            "4/4 [==============================] - 0s 3ms/step - loss: 0.0023\n",
            "Epoch 398/1500\n",
            "4/4 [==============================] - 0s 3ms/step - loss: 0.0022\n",
            "Epoch 399/1500\n",
            "4/4 [==============================] - 0s 3ms/step - loss: 0.0025\n",
            "Epoch 400/1500\n",
            "4/4 [==============================] - 0s 3ms/step - loss: 0.0023\n",
            "Epoch 401/1500\n",
            "4/4 [==============================] - 0s 3ms/step - loss: 0.0020\n",
            "Epoch 402/1500\n",
            "4/4 [==============================] - 0s 3ms/step - loss: 0.0026\n",
            "Epoch 403/1500\n",
            "4/4 [==============================] - 0s 3ms/step - loss: 0.0021\n",
            "Epoch 404/1500\n",
            "4/4 [==============================] - 0s 3ms/step - loss: 0.0024\n",
            "Epoch 405/1500\n",
            "4/4 [==============================] - 0s 3ms/step - loss: 0.0023\n",
            "Epoch 406/1500\n",
            "4/4 [==============================] - 0s 4ms/step - loss: 0.0020\n",
            "Epoch 407/1500\n",
            "4/4 [==============================] - 0s 4ms/step - loss: 0.0026\n",
            "Epoch 408/1500\n",
            "4/4 [==============================] - 0s 3ms/step - loss: 0.0022\n",
            "Epoch 409/1500\n",
            "4/4 [==============================] - 0s 3ms/step - loss: 0.0024\n",
            "Epoch 410/1500\n",
            "4/4 [==============================] - 0s 3ms/step - loss: 0.0020\n",
            "Epoch 411/1500\n",
            "4/4 [==============================] - 0s 3ms/step - loss: 0.0023\n",
            "Epoch 412/1500\n",
            "4/4 [==============================] - 0s 3ms/step - loss: 0.0021\n",
            "Epoch 413/1500\n",
            "4/4 [==============================] - 0s 4ms/step - loss: 0.0023\n",
            "Epoch 414/1500\n",
            "4/4 [==============================] - 0s 3ms/step - loss: 0.0021\n",
            "Epoch 415/1500\n",
            "4/4 [==============================] - 0s 4ms/step - loss: 0.0023\n",
            "Epoch 416/1500\n",
            "4/4 [==============================] - 0s 6ms/step - loss: 0.0022\n",
            "Epoch 417/1500\n",
            "4/4 [==============================] - 0s 5ms/step - loss: 0.0020\n",
            "Epoch 418/1500\n",
            "4/4 [==============================] - 0s 5ms/step - loss: 0.0021\n",
            "Epoch 419/1500\n",
            "4/4 [==============================] - 0s 3ms/step - loss: 0.0021\n",
            "Epoch 420/1500\n",
            "4/4 [==============================] - 0s 3ms/step - loss: 0.0025\n",
            "Epoch 421/1500\n",
            "4/4 [==============================] - 0s 3ms/step - loss: 0.0021\n",
            "Epoch 422/1500\n",
            "4/4 [==============================] - 0s 3ms/step - loss: 0.0020\n",
            "Epoch 423/1500\n",
            "4/4 [==============================] - 0s 3ms/step - loss: 0.0026\n",
            "Epoch 424/1500\n",
            "4/4 [==============================] - 0s 5ms/step - loss: 0.0025\n",
            "Epoch 425/1500\n",
            "4/4 [==============================] - 0s 4ms/step - loss: 0.0021\n",
            "Epoch 426/1500\n",
            "4/4 [==============================] - 0s 3ms/step - loss: 0.0021\n",
            "Epoch 427/1500\n",
            "4/4 [==============================] - 0s 3ms/step - loss: 0.0023\n",
            "Epoch 428/1500\n",
            "4/4 [==============================] - 0s 3ms/step - loss: 0.0022\n",
            "Epoch 429/1500\n",
            "4/4 [==============================] - 0s 3ms/step - loss: 0.0020\n",
            "Epoch 430/1500\n",
            "4/4 [==============================] - 0s 3ms/step - loss: 0.0022\n",
            "Epoch 431/1500\n",
            "4/4 [==============================] - 0s 3ms/step - loss: 0.0023\n",
            "Epoch 432/1500\n",
            "4/4 [==============================] - 0s 3ms/step - loss: 0.0023\n",
            "Epoch 433/1500\n",
            "4/4 [==============================] - 0s 5ms/step - loss: 0.0019\n",
            "Epoch 434/1500\n",
            "4/4 [==============================] - 0s 3ms/step - loss: 0.0024\n",
            "Epoch 435/1500\n",
            "4/4 [==============================] - 0s 4ms/step - loss: 0.0023\n",
            "Epoch 436/1500\n",
            "4/4 [==============================] - 0s 4ms/step - loss: 0.0022\n",
            "Epoch 437/1500\n",
            "4/4 [==============================] - 0s 4ms/step - loss: 0.0021\n",
            "Epoch 438/1500\n",
            "4/4 [==============================] - 0s 3ms/step - loss: 0.0021\n",
            "Epoch 439/1500\n",
            "4/4 [==============================] - 0s 4ms/step - loss: 0.0023\n",
            "Epoch 440/1500\n",
            "4/4 [==============================] - 0s 4ms/step - loss: 0.0021\n",
            "Epoch 441/1500\n",
            "4/4 [==============================] - 0s 3ms/step - loss: 0.0023\n",
            "Epoch 442/1500\n",
            "4/4 [==============================] - 0s 3ms/step - loss: 0.0021\n",
            "Epoch 443/1500\n",
            "4/4 [==============================] - 0s 3ms/step - loss: 0.0021\n",
            "Epoch 444/1500\n",
            "4/4 [==============================] - 0s 3ms/step - loss: 0.0020\n",
            "Epoch 445/1500\n",
            "4/4 [==============================] - 0s 4ms/step - loss: 0.0027\n",
            "Epoch 446/1500\n",
            "4/4 [==============================] - 0s 3ms/step - loss: 0.0024\n",
            "Epoch 447/1500\n",
            "4/4 [==============================] - 0s 4ms/step - loss: 0.0024\n",
            "Epoch 448/1500\n",
            "4/4 [==============================] - 0s 3ms/step - loss: 0.0021\n",
            "Epoch 449/1500\n",
            "4/4 [==============================] - 0s 3ms/step - loss: 0.0020\n",
            "Epoch 450/1500\n",
            "4/4 [==============================] - 0s 3ms/step - loss: 0.0022\n",
            "Epoch 451/1500\n",
            "4/4 [==============================] - 0s 3ms/step - loss: 0.0020\n",
            "Epoch 452/1500\n",
            "4/4 [==============================] - 0s 3ms/step - loss: 0.0019\n",
            "Epoch 453/1500\n",
            "4/4 [==============================] - 0s 3ms/step - loss: 0.0022\n",
            "Epoch 454/1500\n",
            "4/4 [==============================] - 0s 3ms/step - loss: 0.0026\n",
            "Epoch 455/1500\n",
            "4/4 [==============================] - 0s 4ms/step - loss: 0.0023\n",
            "Epoch 456/1500\n",
            "4/4 [==============================] - 0s 3ms/step - loss: 0.0021\n",
            "Epoch 457/1500\n",
            "4/4 [==============================] - 0s 3ms/step - loss: 0.0021\n",
            "Epoch 458/1500\n",
            "4/4 [==============================] - 0s 3ms/step - loss: 0.0021\n",
            "Epoch 459/1500\n",
            "4/4 [==============================] - 0s 3ms/step - loss: 0.0023\n",
            "Epoch 460/1500\n",
            "4/4 [==============================] - 0s 3ms/step - loss: 0.0022\n",
            "Epoch 461/1500\n",
            "4/4 [==============================] - 0s 3ms/step - loss: 0.0020\n",
            "Epoch 462/1500\n",
            "4/4 [==============================] - 0s 3ms/step - loss: 0.0021\n",
            "Epoch 463/1500\n",
            "4/4 [==============================] - 0s 3ms/step - loss: 0.0024\n",
            "Epoch 464/1500\n",
            "4/4 [==============================] - 0s 3ms/step - loss: 0.0023\n",
            "Epoch 465/1500\n",
            "4/4 [==============================] - 0s 3ms/step - loss: 0.0023\n",
            "Epoch 466/1500\n",
            "4/4 [==============================] - 0s 3ms/step - loss: 0.0020\n",
            "Epoch 467/1500\n",
            "4/4 [==============================] - 0s 4ms/step - loss: 0.0022\n",
            "Epoch 468/1500\n",
            "4/4 [==============================] - 0s 3ms/step - loss: 0.0021\n",
            "Epoch 469/1500\n",
            "4/4 [==============================] - 0s 3ms/step - loss: 0.0022\n",
            "Epoch 470/1500\n",
            "4/4 [==============================] - 0s 4ms/step - loss: 0.0024\n",
            "Epoch 471/1500\n",
            "4/4 [==============================] - 0s 3ms/step - loss: 0.0021\n",
            "Epoch 472/1500\n",
            "4/4 [==============================] - 0s 4ms/step - loss: 0.0021\n",
            "Epoch 473/1500\n",
            "4/4 [==============================] - 0s 3ms/step - loss: 0.0025\n",
            "Epoch 474/1500\n",
            "4/4 [==============================] - 0s 3ms/step - loss: 0.0020\n",
            "Epoch 475/1500\n",
            "4/4 [==============================] - 0s 4ms/step - loss: 0.0022\n",
            "Epoch 476/1500\n",
            "4/4 [==============================] - 0s 3ms/step - loss: 0.0020\n",
            "Epoch 477/1500\n",
            "4/4 [==============================] - 0s 3ms/step - loss: 0.0023\n",
            "Epoch 478/1500\n",
            "4/4 [==============================] - 0s 4ms/step - loss: 0.0022\n",
            "Epoch 479/1500\n",
            "4/4 [==============================] - 0s 3ms/step - loss: 0.0021\n",
            "Epoch 480/1500\n",
            "4/4 [==============================] - 0s 3ms/step - loss: 0.0022\n",
            "Epoch 481/1500\n",
            "4/4 [==============================] - 0s 3ms/step - loss: 0.0020\n",
            "Epoch 482/1500\n",
            "4/4 [==============================] - 0s 3ms/step - loss: 0.0020\n",
            "Epoch 483/1500\n",
            "4/4 [==============================] - 0s 3ms/step - loss: 0.0021\n",
            "Epoch 484/1500\n",
            "4/4 [==============================] - 0s 3ms/step - loss: 0.0026\n",
            "Epoch 485/1500\n",
            "4/4 [==============================] - 0s 3ms/step - loss: 0.0019\n",
            "Epoch 486/1500\n",
            "4/4 [==============================] - 0s 3ms/step - loss: 0.0020\n",
            "Epoch 487/1500\n",
            "4/4 [==============================] - 0s 3ms/step - loss: 0.0030\n",
            "Epoch 488/1500\n",
            "4/4 [==============================] - 0s 5ms/step - loss: 0.0020\n",
            "Epoch 489/1500\n",
            "4/4 [==============================] - 0s 4ms/step - loss: 0.0020\n",
            "Epoch 490/1500\n",
            "4/4 [==============================] - 0s 3ms/step - loss: 0.0022\n",
            "Epoch 491/1500\n",
            "4/4 [==============================] - 0s 4ms/step - loss: 0.0023\n",
            "Epoch 492/1500\n",
            "4/4 [==============================] - 0s 4ms/step - loss: 0.0020\n",
            "Epoch 493/1500\n",
            "4/4 [==============================] - 0s 3ms/step - loss: 0.0022\n",
            "Epoch 494/1500\n",
            "4/4 [==============================] - 0s 4ms/step - loss: 0.0023\n",
            "Epoch 495/1500\n",
            "4/4 [==============================] - 0s 4ms/step - loss: 0.0021\n",
            "Epoch 496/1500\n",
            "4/4 [==============================] - 0s 3ms/step - loss: 0.0022\n",
            "Epoch 497/1500\n",
            "4/4 [==============================] - 0s 4ms/step - loss: 0.0023\n",
            "Epoch 498/1500\n",
            "4/4 [==============================] - 0s 3ms/step - loss: 0.0020\n",
            "Epoch 499/1500\n",
            "4/4 [==============================] - 0s 4ms/step - loss: 0.0021\n",
            "Epoch 500/1500\n",
            "4/4 [==============================] - 0s 6ms/step - loss: 0.0022\n",
            "Epoch 501/1500\n",
            "4/4 [==============================] - 0s 4ms/step - loss: 0.0021\n",
            "Epoch 502/1500\n",
            "4/4 [==============================] - 0s 4ms/step - loss: 0.0022\n",
            "Epoch 503/1500\n",
            "4/4 [==============================] - 0s 5ms/step - loss: 0.0025\n",
            "Epoch 504/1500\n",
            "4/4 [==============================] - 0s 3ms/step - loss: 0.0024\n",
            "Epoch 505/1500\n",
            "4/4 [==============================] - 0s 3ms/step - loss: 0.0022\n",
            "Epoch 506/1500\n",
            "4/4 [==============================] - 0s 3ms/step - loss: 0.0020\n",
            "Epoch 507/1500\n",
            "4/4 [==============================] - 0s 3ms/step - loss: 0.0025\n",
            "Epoch 508/1500\n",
            "4/4 [==============================] - 0s 3ms/step - loss: 0.0019\n",
            "Epoch 509/1500\n",
            "4/4 [==============================] - 0s 3ms/step - loss: 0.0023\n",
            "Epoch 510/1500\n",
            "4/4 [==============================] - 0s 3ms/step - loss: 0.0023\n",
            "Epoch 511/1500\n",
            "4/4 [==============================] - 0s 3ms/step - loss: 0.0024\n",
            "Epoch 512/1500\n",
            "4/4 [==============================] - 0s 3ms/step - loss: 0.0021\n",
            "Epoch 513/1500\n",
            "4/4 [==============================] - 0s 3ms/step - loss: 0.0019\n",
            "Epoch 514/1500\n",
            "4/4 [==============================] - 0s 2ms/step - loss: 0.0025\n",
            "Epoch 515/1500\n",
            "4/4 [==============================] - 0s 3ms/step - loss: 0.0021\n",
            "Epoch 516/1500\n",
            "4/4 [==============================] - 0s 3ms/step - loss: 0.0023\n",
            "Epoch 517/1500\n",
            "4/4 [==============================] - 0s 3ms/step - loss: 0.0027\n",
            "Epoch 518/1500\n",
            "4/4 [==============================] - 0s 3ms/step - loss: 0.0022\n",
            "Epoch 519/1500\n",
            "4/4 [==============================] - 0s 3ms/step - loss: 0.0019\n",
            "Epoch 520/1500\n",
            "4/4 [==============================] - 0s 3ms/step - loss: 0.0021\n",
            "Epoch 521/1500\n",
            "4/4 [==============================] - 0s 3ms/step - loss: 0.0018\n",
            "Epoch 522/1500\n",
            "4/4 [==============================] - 0s 3ms/step - loss: 0.0021\n",
            "Epoch 523/1500\n",
            "4/4 [==============================] - 0s 3ms/step - loss: 0.0020\n",
            "Epoch 524/1500\n",
            "4/4 [==============================] - 0s 4ms/step - loss: 0.0019\n",
            "Epoch 525/1500\n",
            "4/4 [==============================] - 0s 4ms/step - loss: 0.0027\n",
            "Epoch 526/1500\n",
            "4/4 [==============================] - 0s 4ms/step - loss: 0.0023\n",
            "Epoch 527/1500\n",
            "4/4 [==============================] - 0s 5ms/step - loss: 0.0018\n",
            "Epoch 528/1500\n",
            "4/4 [==============================] - 0s 3ms/step - loss: 0.0020\n",
            "Epoch 529/1500\n",
            "4/4 [==============================] - 0s 3ms/step - loss: 0.0022\n",
            "Epoch 530/1500\n",
            "4/4 [==============================] - 0s 3ms/step - loss: 0.0026\n",
            "Epoch 531/1500\n",
            "4/4 [==============================] - 0s 3ms/step - loss: 0.0020\n",
            "Epoch 532/1500\n",
            "4/4 [==============================] - 0s 3ms/step - loss: 0.0023\n",
            "Epoch 533/1500\n",
            "4/4 [==============================] - 0s 4ms/step - loss: 0.0021\n",
            "Epoch 534/1500\n",
            "4/4 [==============================] - 0s 4ms/step - loss: 0.0023\n",
            "Epoch 535/1500\n",
            "4/4 [==============================] - 0s 3ms/step - loss: 0.0018\n",
            "Epoch 536/1500\n",
            "4/4 [==============================] - 0s 3ms/step - loss: 0.0022\n",
            "Epoch 537/1500\n",
            "4/4 [==============================] - 0s 3ms/step - loss: 0.0020\n",
            "Epoch 538/1500\n",
            "4/4 [==============================] - 0s 4ms/step - loss: 0.0024\n",
            "Epoch 539/1500\n",
            "4/4 [==============================] - 0s 3ms/step - loss: 0.0020\n",
            "Epoch 540/1500\n",
            "4/4 [==============================] - 0s 3ms/step - loss: 0.0020\n",
            "Epoch 541/1500\n",
            "4/4 [==============================] - 0s 3ms/step - loss: 0.0020\n",
            "Epoch 542/1500\n",
            "4/4 [==============================] - 0s 3ms/step - loss: 0.0024\n",
            "Epoch 543/1500\n",
            "4/4 [==============================] - 0s 3ms/step - loss: 0.0025\n",
            "Epoch 544/1500\n",
            "4/4 [==============================] - 0s 4ms/step - loss: 0.0021\n",
            "Epoch 545/1500\n",
            "4/4 [==============================] - 0s 3ms/step - loss: 0.0021\n",
            "Epoch 546/1500\n",
            "4/4 [==============================] - 0s 3ms/step - loss: 0.0022\n",
            "Epoch 547/1500\n",
            "4/4 [==============================] - 0s 3ms/step - loss: 0.0020\n",
            "Epoch 548/1500\n",
            "4/4 [==============================] - 0s 3ms/step - loss: 0.0023\n",
            "Epoch 549/1500\n",
            "4/4 [==============================] - 0s 3ms/step - loss: 0.0022\n",
            "Epoch 550/1500\n",
            "4/4 [==============================] - 0s 3ms/step - loss: 0.0021\n",
            "Epoch 551/1500\n",
            "4/4 [==============================] - 0s 4ms/step - loss: 0.0022\n",
            "Epoch 552/1500\n",
            "4/4 [==============================] - 0s 4ms/step - loss: 0.0024\n",
            "Epoch 553/1500\n",
            "4/4 [==============================] - 0s 3ms/step - loss: 0.0021\n",
            "Epoch 554/1500\n",
            "4/4 [==============================] - 0s 3ms/step - loss: 0.0026\n",
            "Epoch 555/1500\n",
            "4/4 [==============================] - 0s 3ms/step - loss: 0.0025\n",
            "Epoch 556/1500\n",
            "4/4 [==============================] - 0s 3ms/step - loss: 0.0020\n",
            "Epoch 557/1500\n",
            "4/4 [==============================] - 0s 3ms/step - loss: 0.0020\n",
            "Epoch 558/1500\n",
            "4/4 [==============================] - 0s 3ms/step - loss: 0.0019\n",
            "Epoch 559/1500\n",
            "4/4 [==============================] - 0s 3ms/step - loss: 0.0023\n",
            "Epoch 560/1500\n",
            "4/4 [==============================] - 0s 3ms/step - loss: 0.0020\n",
            "Epoch 561/1500\n",
            "4/4 [==============================] - 0s 3ms/step - loss: 0.0021\n",
            "Epoch 562/1500\n",
            "4/4 [==============================] - 0s 3ms/step - loss: 0.0024\n",
            "Epoch 563/1500\n",
            "4/4 [==============================] - 0s 6ms/step - loss: 0.0023\n",
            "Epoch 564/1500\n",
            "4/4 [==============================] - 0s 3ms/step - loss: 0.0023\n",
            "Epoch 565/1500\n",
            "4/4 [==============================] - 0s 3ms/step - loss: 0.0021\n",
            "Epoch 566/1500\n",
            "4/4 [==============================] - 0s 3ms/step - loss: 0.0024\n",
            "Epoch 567/1500\n",
            "4/4 [==============================] - 0s 3ms/step - loss: 0.0024\n",
            "Epoch 568/1500\n",
            "4/4 [==============================] - 0s 2ms/step - loss: 0.0023\n",
            "Epoch 569/1500\n",
            "4/4 [==============================] - 0s 3ms/step - loss: 0.0019\n",
            "Epoch 570/1500\n",
            "4/4 [==============================] - 0s 3ms/step - loss: 0.0023\n",
            "Epoch 571/1500\n",
            "4/4 [==============================] - 0s 3ms/step - loss: 0.0022\n",
            "Epoch 572/1500\n",
            "4/4 [==============================] - 0s 3ms/step - loss: 0.0021\n",
            "Epoch 573/1500\n",
            "4/4 [==============================] - 0s 3ms/step - loss: 0.0022\n",
            "Epoch 574/1500\n",
            "4/4 [==============================] - 0s 3ms/step - loss: 0.0019\n",
            "Epoch 575/1500\n",
            "4/4 [==============================] - 0s 3ms/step - loss: 0.0019\n",
            "Epoch 576/1500\n",
            "4/4 [==============================] - 0s 3ms/step - loss: 0.0019\n",
            "Epoch 577/1500\n",
            "4/4 [==============================] - 0s 4ms/step - loss: 0.0026\n",
            "Epoch 578/1500\n",
            "4/4 [==============================] - 0s 3ms/step - loss: 0.0020\n",
            "Epoch 579/1500\n",
            "4/4 [==============================] - 0s 3ms/step - loss: 0.0022\n",
            "Epoch 580/1500\n",
            "4/4 [==============================] - 0s 3ms/step - loss: 0.0025\n",
            "Epoch 581/1500\n",
            "4/4 [==============================] - 0s 3ms/step - loss: 0.0026\n",
            "Epoch 582/1500\n",
            "4/4 [==============================] - 0s 3ms/step - loss: 0.0020\n",
            "Epoch 583/1500\n",
            "4/4 [==============================] - 0s 4ms/step - loss: 0.0020\n",
            "Epoch 584/1500\n",
            "4/4 [==============================] - 0s 4ms/step - loss: 0.0019\n",
            "Epoch 585/1500\n",
            "4/4 [==============================] - 0s 4ms/step - loss: 0.0021\n",
            "Epoch 586/1500\n",
            "4/4 [==============================] - 0s 3ms/step - loss: 0.0020\n",
            "Epoch 587/1500\n",
            "4/4 [==============================] - 0s 3ms/step - loss: 0.0022\n",
            "Epoch 588/1500\n",
            "4/4 [==============================] - 0s 3ms/step - loss: 0.0022\n",
            "Epoch 589/1500\n",
            "4/4 [==============================] - 0s 4ms/step - loss: 0.0022\n",
            "Epoch 590/1500\n",
            "4/4 [==============================] - 0s 3ms/step - loss: 0.0019\n",
            "Epoch 591/1500\n",
            "4/4 [==============================] - 0s 3ms/step - loss: 0.0025\n",
            "Epoch 592/1500\n",
            "4/4 [==============================] - 0s 3ms/step - loss: 0.0022\n",
            "Epoch 593/1500\n",
            "4/4 [==============================] - 0s 3ms/step - loss: 0.0020\n",
            "Epoch 594/1500\n",
            "4/4 [==============================] - 0s 4ms/step - loss: 0.0019\n",
            "Epoch 595/1500\n",
            "4/4 [==============================] - 0s 3ms/step - loss: 0.0019\n",
            "Epoch 596/1500\n",
            "4/4 [==============================] - 0s 3ms/step - loss: 0.0019\n",
            "Epoch 597/1500\n",
            "4/4 [==============================] - 0s 3ms/step - loss: 0.0023\n",
            "Epoch 598/1500\n",
            "4/4 [==============================] - 0s 3ms/step - loss: 0.0023\n",
            "Epoch 599/1500\n",
            "4/4 [==============================] - 0s 4ms/step - loss: 0.0019\n",
            "Epoch 600/1500\n",
            "4/4 [==============================] - 0s 4ms/step - loss: 0.0022\n",
            "Epoch 601/1500\n",
            "4/4 [==============================] - 0s 7ms/step - loss: 0.0027\n",
            "Epoch 602/1500\n",
            "4/4 [==============================] - 0s 3ms/step - loss: 0.0021\n",
            "Epoch 603/1500\n",
            "4/4 [==============================] - 0s 3ms/step - loss: 0.0019\n",
            "Epoch 604/1500\n",
            "4/4 [==============================] - 0s 3ms/step - loss: 0.0019\n",
            "Epoch 605/1500\n",
            "4/4 [==============================] - 0s 4ms/step - loss: 0.0025\n",
            "Epoch 606/1500\n",
            "4/4 [==============================] - 0s 5ms/step - loss: 0.0021\n",
            "Epoch 607/1500\n",
            "4/4 [==============================] - 0s 4ms/step - loss: 0.0022\n",
            "Epoch 608/1500\n",
            "4/4 [==============================] - 0s 4ms/step - loss: 0.0023\n",
            "Epoch 609/1500\n",
            "4/4 [==============================] - 0s 5ms/step - loss: 0.0023\n",
            "Epoch 610/1500\n",
            "4/4 [==============================] - 0s 5ms/step - loss: 0.0018\n",
            "Epoch 611/1500\n",
            "4/4 [==============================] - 0s 3ms/step - loss: 0.0019\n",
            "Epoch 612/1500\n",
            "4/4 [==============================] - 0s 4ms/step - loss: 0.0022\n",
            "Epoch 613/1500\n",
            "4/4 [==============================] - 0s 3ms/step - loss: 0.0021\n",
            "Epoch 614/1500\n",
            "4/4 [==============================] - 0s 3ms/step - loss: 0.0019\n",
            "Epoch 615/1500\n",
            "4/4 [==============================] - 0s 4ms/step - loss: 0.0021\n",
            "Epoch 616/1500\n",
            "4/4 [==============================] - 0s 4ms/step - loss: 0.0018\n",
            "Epoch 617/1500\n",
            "4/4 [==============================] - 0s 4ms/step - loss: 0.0022\n",
            "Epoch 618/1500\n",
            "4/4 [==============================] - 0s 4ms/step - loss: 0.0018\n",
            "Epoch 619/1500\n",
            "4/4 [==============================] - 0s 3ms/step - loss: 0.0021\n",
            "Epoch 620/1500\n",
            "4/4 [==============================] - 0s 3ms/step - loss: 0.0025\n",
            "Epoch 621/1500\n",
            "4/4 [==============================] - 0s 3ms/step - loss: 0.0020\n",
            "Epoch 622/1500\n",
            "4/4 [==============================] - 0s 3ms/step - loss: 0.0020\n",
            "Epoch 623/1500\n",
            "4/4 [==============================] - 0s 4ms/step - loss: 0.0023\n",
            "Epoch 624/1500\n",
            "4/4 [==============================] - 0s 4ms/step - loss: 0.0019\n",
            "Epoch 625/1500\n",
            "4/4 [==============================] - 0s 4ms/step - loss: 0.0021\n",
            "Epoch 626/1500\n",
            "4/4 [==============================] - 0s 4ms/step - loss: 0.0020\n",
            "Epoch 627/1500\n",
            "4/4 [==============================] - 0s 4ms/step - loss: 0.0019\n",
            "Epoch 628/1500\n",
            "4/4 [==============================] - 0s 3ms/step - loss: 0.0020\n",
            "Epoch 629/1500\n",
            "4/4 [==============================] - 0s 3ms/step - loss: 0.0023\n",
            "Epoch 630/1500\n",
            "4/4 [==============================] - 0s 3ms/step - loss: 0.0019\n",
            "Epoch 631/1500\n",
            "4/4 [==============================] - 0s 4ms/step - loss: 0.0020\n",
            "Epoch 632/1500\n",
            "4/4 [==============================] - 0s 4ms/step - loss: 0.0028\n",
            "Epoch 633/1500\n",
            "4/4 [==============================] - 0s 4ms/step - loss: 0.0020\n",
            "Epoch 634/1500\n",
            "4/4 [==============================] - 0s 4ms/step - loss: 0.0021\n",
            "Epoch 635/1500\n",
            "4/4 [==============================] - 0s 3ms/step - loss: 0.0022\n",
            "Epoch 636/1500\n",
            "4/4 [==============================] - 0s 3ms/step - loss: 0.0019\n",
            "Epoch 637/1500\n",
            "4/4 [==============================] - 0s 3ms/step - loss: 0.0021\n",
            "Epoch 638/1500\n",
            "4/4 [==============================] - 0s 3ms/step - loss: 0.0023\n",
            "Epoch 639/1500\n",
            "4/4 [==============================] - 0s 3ms/step - loss: 0.0021\n",
            "Epoch 640/1500\n",
            "4/4 [==============================] - 0s 3ms/step - loss: 0.0020\n",
            "Epoch 641/1500\n",
            "4/4 [==============================] - 0s 3ms/step - loss: 0.0020\n",
            "Epoch 642/1500\n",
            "4/4 [==============================] - 0s 3ms/step - loss: 0.0018\n",
            "Epoch 643/1500\n",
            "4/4 [==============================] - 0s 3ms/step - loss: 0.0023\n",
            "Epoch 644/1500\n",
            "4/4 [==============================] - 0s 3ms/step - loss: 0.0020\n",
            "Epoch 645/1500\n",
            "4/4 [==============================] - 0s 4ms/step - loss: 0.0020\n",
            "Epoch 646/1500\n",
            "4/4 [==============================] - 0s 3ms/step - loss: 0.0021\n",
            "Epoch 647/1500\n",
            "4/4 [==============================] - 0s 5ms/step - loss: 0.0020\n",
            "Epoch 648/1500\n",
            "4/4 [==============================] - 0s 3ms/step - loss: 0.0019\n",
            "Epoch 649/1500\n",
            "4/4 [==============================] - 0s 4ms/step - loss: 0.0023\n",
            "Epoch 650/1500\n",
            "4/4 [==============================] - 0s 3ms/step - loss: 0.0023\n",
            "Epoch 651/1500\n",
            "4/4 [==============================] - 0s 3ms/step - loss: 0.0019\n",
            "Epoch 652/1500\n",
            "4/4 [==============================] - 0s 3ms/step - loss: 0.0022\n",
            "Epoch 653/1500\n",
            "4/4 [==============================] - 0s 4ms/step - loss: 0.0020\n",
            "Epoch 654/1500\n",
            "4/4 [==============================] - 0s 4ms/step - loss: 0.0024\n",
            "Epoch 655/1500\n",
            "4/4 [==============================] - 0s 4ms/step - loss: 0.0021\n",
            "Epoch 656/1500\n",
            "4/4 [==============================] - 0s 4ms/step - loss: 0.0020\n",
            "Epoch 657/1500\n",
            "4/4 [==============================] - 0s 3ms/step - loss: 0.0025\n",
            "Epoch 658/1500\n",
            "4/4 [==============================] - 0s 3ms/step - loss: 0.0019\n",
            "Epoch 659/1500\n",
            "4/4 [==============================] - 0s 3ms/step - loss: 0.0020\n",
            "Epoch 660/1500\n",
            "4/4 [==============================] - 0s 4ms/step - loss: 0.0020\n",
            "Epoch 661/1500\n",
            "4/4 [==============================] - 0s 3ms/step - loss: 0.0020\n",
            "Epoch 662/1500\n",
            "4/4 [==============================] - 0s 4ms/step - loss: 0.0018\n",
            "Epoch 663/1500\n",
            "4/4 [==============================] - 0s 3ms/step - loss: 0.0023\n",
            "Epoch 664/1500\n",
            "4/4 [==============================] - 0s 3ms/step - loss: 0.0025\n",
            "Epoch 665/1500\n",
            "4/4 [==============================] - 0s 3ms/step - loss: 0.0022\n",
            "Epoch 666/1500\n",
            "4/4 [==============================] - 0s 5ms/step - loss: 0.0023\n",
            "Epoch 667/1500\n",
            "4/4 [==============================] - 0s 5ms/step - loss: 0.0018\n",
            "Epoch 668/1500\n",
            "4/4 [==============================] - 0s 4ms/step - loss: 0.0020\n",
            "Epoch 669/1500\n",
            "4/4 [==============================] - 0s 4ms/step - loss: 0.0021\n",
            "Epoch 670/1500\n",
            "4/4 [==============================] - 0s 3ms/step - loss: 0.0018\n",
            "Epoch 671/1500\n",
            "4/4 [==============================] - 0s 3ms/step - loss: 0.0024\n",
            "Epoch 672/1500\n",
            "4/4 [==============================] - 0s 3ms/step - loss: 0.0024\n",
            "Epoch 673/1500\n",
            "4/4 [==============================] - 0s 3ms/step - loss: 0.0023\n",
            "Epoch 674/1500\n",
            "4/4 [==============================] - 0s 3ms/step - loss: 0.0018\n",
            "Epoch 675/1500\n",
            "4/4 [==============================] - 0s 3ms/step - loss: 0.0019\n",
            "Epoch 676/1500\n",
            "4/4 [==============================] - 0s 3ms/step - loss: 0.0018\n",
            "Epoch 677/1500\n",
            "4/4 [==============================] - 0s 3ms/step - loss: 0.0023\n",
            "Epoch 678/1500\n",
            "4/4 [==============================] - 0s 3ms/step - loss: 0.0023\n",
            "Epoch 679/1500\n",
            "4/4 [==============================] - 0s 3ms/step - loss: 0.0021\n",
            "Epoch 680/1500\n",
            "4/4 [==============================] - 0s 3ms/step - loss: 0.0021\n",
            "Epoch 681/1500\n",
            "4/4 [==============================] - 0s 3ms/step - loss: 0.0020\n",
            "Epoch 682/1500\n",
            "4/4 [==============================] - 0s 5ms/step - loss: 0.0022\n",
            "Epoch 683/1500\n",
            "4/4 [==============================] - 0s 3ms/step - loss: 0.0023\n",
            "Epoch 684/1500\n",
            "4/4 [==============================] - 0s 4ms/step - loss: 0.0020\n",
            "Epoch 685/1500\n",
            "4/4 [==============================] - 0s 5ms/step - loss: 0.0019\n",
            "Epoch 686/1500\n",
            "4/4 [==============================] - 0s 3ms/step - loss: 0.0018\n",
            "Epoch 687/1500\n",
            "4/4 [==============================] - 0s 3ms/step - loss: 0.0018\n",
            "Epoch 688/1500\n",
            "4/4 [==============================] - 0s 3ms/step - loss: 0.0021\n",
            "Epoch 689/1500\n",
            "4/4 [==============================] - 0s 3ms/step - loss: 0.0022\n",
            "Epoch 690/1500\n",
            "4/4 [==============================] - 0s 3ms/step - loss: 0.0020\n",
            "Epoch 691/1500\n",
            "4/4 [==============================] - 0s 3ms/step - loss: 0.0018\n",
            "Epoch 692/1500\n",
            "4/4 [==============================] - 0s 3ms/step - loss: 0.0018\n",
            "Epoch 693/1500\n",
            "4/4 [==============================] - 0s 3ms/step - loss: 0.0021\n",
            "Epoch 694/1500\n",
            "4/4 [==============================] - 0s 3ms/step - loss: 0.0023\n",
            "Epoch 695/1500\n",
            "4/4 [==============================] - 0s 3ms/step - loss: 0.0024\n",
            "Epoch 696/1500\n",
            "4/4 [==============================] - 0s 3ms/step - loss: 0.0020\n",
            "Epoch 697/1500\n",
            "4/4 [==============================] - 0s 3ms/step - loss: 0.0021\n",
            "Epoch 698/1500\n",
            "4/4 [==============================] - 0s 3ms/step - loss: 0.0020\n",
            "Epoch 699/1500\n",
            "4/4 [==============================] - 0s 3ms/step - loss: 0.0020\n",
            "Epoch 700/1500\n",
            "4/4 [==============================] - 0s 4ms/step - loss: 0.0027\n",
            "Epoch 701/1500\n",
            "4/4 [==============================] - 0s 3ms/step - loss: 0.0018\n",
            "Epoch 702/1500\n",
            "4/4 [==============================] - 0s 3ms/step - loss: 0.0021\n",
            "Epoch 703/1500\n",
            "4/4 [==============================] - 0s 4ms/step - loss: 0.0020\n",
            "Epoch 704/1500\n",
            "4/4 [==============================] - 0s 3ms/step - loss: 0.0019\n",
            "Epoch 705/1500\n",
            "4/4 [==============================] - 0s 3ms/step - loss: 0.0018\n",
            "Epoch 706/1500\n",
            "4/4 [==============================] - 0s 3ms/step - loss: 0.0025\n",
            "Epoch 707/1500\n",
            "4/4 [==============================] - 0s 3ms/step - loss: 0.0023\n",
            "Epoch 708/1500\n",
            "4/4 [==============================] - 0s 4ms/step - loss: 0.0021\n",
            "Epoch 709/1500\n",
            "4/4 [==============================] - 0s 3ms/step - loss: 0.0022\n",
            "Epoch 710/1500\n",
            "4/4 [==============================] - 0s 3ms/step - loss: 0.0018\n",
            "Epoch 711/1500\n",
            "4/4 [==============================] - 0s 2ms/step - loss: 0.0022\n",
            "Epoch 712/1500\n",
            "4/4 [==============================] - 0s 4ms/step - loss: 0.0019\n",
            "Epoch 713/1500\n",
            "4/4 [==============================] - 0s 4ms/step - loss: 0.0018\n",
            "Epoch 714/1500\n",
            "4/4 [==============================] - 0s 4ms/step - loss: 0.0023\n",
            "Epoch 715/1500\n",
            "4/4 [==============================] - 0s 4ms/step - loss: 0.0022\n",
            "Epoch 716/1500\n",
            "4/4 [==============================] - 0s 5ms/step - loss: 0.0019\n",
            "Epoch 717/1500\n",
            "4/4 [==============================] - 0s 5ms/step - loss: 0.0021\n",
            "Epoch 718/1500\n",
            "4/4 [==============================] - 0s 3ms/step - loss: 0.0018\n",
            "Epoch 719/1500\n",
            "4/4 [==============================] - 0s 3ms/step - loss: 0.0020\n",
            "Epoch 720/1500\n",
            "4/4 [==============================] - 0s 3ms/step - loss: 0.0021\n",
            "Epoch 721/1500\n",
            "4/4 [==============================] - 0s 3ms/step - loss: 0.0019\n",
            "Epoch 722/1500\n",
            "4/4 [==============================] - 0s 4ms/step - loss: 0.0020\n",
            "Epoch 723/1500\n",
            "4/4 [==============================] - 0s 4ms/step - loss: 0.0020\n",
            "Epoch 724/1500\n",
            "4/4 [==============================] - 0s 3ms/step - loss: 0.0022\n",
            "Epoch 725/1500\n",
            "4/4 [==============================] - 0s 3ms/step - loss: 0.0023\n",
            "Epoch 726/1500\n",
            "4/4 [==============================] - 0s 4ms/step - loss: 0.0018\n",
            "Epoch 727/1500\n",
            "4/4 [==============================] - 0s 4ms/step - loss: 0.0021\n",
            "Epoch 728/1500\n",
            "4/4 [==============================] - 0s 3ms/step - loss: 0.0020\n",
            "Epoch 729/1500\n",
            "4/4 [==============================] - 0s 3ms/step - loss: 0.0018\n",
            "Epoch 730/1500\n",
            "4/4 [==============================] - 0s 4ms/step - loss: 0.0026\n",
            "Epoch 731/1500\n",
            "4/4 [==============================] - 0s 4ms/step - loss: 0.0019\n",
            "Epoch 732/1500\n",
            "4/4 [==============================] - 0s 4ms/step - loss: 0.0022\n",
            "Epoch 733/1500\n",
            "4/4 [==============================] - 0s 3ms/step - loss: 0.0019\n",
            "Epoch 734/1500\n",
            "4/4 [==============================] - 0s 3ms/step - loss: 0.0023\n",
            "Epoch 735/1500\n",
            "4/4 [==============================] - 0s 3ms/step - loss: 0.0019\n",
            "Epoch 736/1500\n",
            "4/4 [==============================] - 0s 3ms/step - loss: 0.0017\n",
            "Epoch 737/1500\n",
            "4/4 [==============================] - 0s 3ms/step - loss: 0.0026\n",
            "Epoch 738/1500\n",
            "4/4 [==============================] - 0s 3ms/step - loss: 0.0022\n",
            "Epoch 739/1500\n",
            "4/4 [==============================] - 0s 3ms/step - loss: 0.0017\n",
            "Epoch 740/1500\n",
            "4/4 [==============================] - 0s 3ms/step - loss: 0.0021\n",
            "Epoch 741/1500\n",
            "4/4 [==============================] - 0s 3ms/step - loss: 0.0020\n",
            "Epoch 742/1500\n",
            "4/4 [==============================] - 0s 3ms/step - loss: 0.0018\n",
            "Epoch 743/1500\n",
            "4/4 [==============================] - 0s 3ms/step - loss: 0.0020\n",
            "Epoch 744/1500\n",
            "4/4 [==============================] - 0s 3ms/step - loss: 0.0028\n",
            "Epoch 745/1500\n",
            "4/4 [==============================] - 0s 3ms/step - loss: 0.0020\n",
            "Epoch 746/1500\n",
            "4/4 [==============================] - 0s 3ms/step - loss: 0.0018\n",
            "Epoch 747/1500\n",
            "4/4 [==============================] - 0s 3ms/step - loss: 0.0018\n",
            "Epoch 748/1500\n",
            "4/4 [==============================] - 0s 3ms/step - loss: 0.0021\n",
            "Epoch 749/1500\n",
            "4/4 [==============================] - 0s 3ms/step - loss: 0.0019\n",
            "Epoch 750/1500\n",
            "4/4 [==============================] - 0s 3ms/step - loss: 0.0020\n",
            "Epoch 751/1500\n",
            "4/4 [==============================] - 0s 3ms/step - loss: 0.0023\n",
            "Epoch 752/1500\n",
            "4/4 [==============================] - 0s 3ms/step - loss: 0.0019\n",
            "Epoch 753/1500\n",
            "4/4 [==============================] - 0s 3ms/step - loss: 0.0018\n",
            "Epoch 754/1500\n",
            "4/4 [==============================] - 0s 3ms/step - loss: 0.0019\n",
            "Epoch 755/1500\n",
            "4/4 [==============================] - 0s 3ms/step - loss: 0.0022\n",
            "Epoch 756/1500\n",
            "4/4 [==============================] - 0s 3ms/step - loss: 0.0020\n",
            "Epoch 757/1500\n",
            "4/4 [==============================] - 0s 3ms/step - loss: 0.0022\n",
            "Epoch 758/1500\n",
            "4/4 [==============================] - 0s 5ms/step - loss: 0.0020\n",
            "Epoch 759/1500\n",
            "4/4 [==============================] - 0s 3ms/step - loss: 0.0020\n",
            "Epoch 760/1500\n",
            "4/4 [==============================] - 0s 3ms/step - loss: 0.0020\n",
            "Epoch 761/1500\n",
            "4/4 [==============================] - 0s 3ms/step - loss: 0.0018\n",
            "Epoch 762/1500\n",
            "4/4 [==============================] - 0s 3ms/step - loss: 0.0020\n",
            "Epoch 763/1500\n",
            "4/4 [==============================] - 0s 3ms/step - loss: 0.0020\n",
            "Epoch 764/1500\n",
            "4/4 [==============================] - 0s 3ms/step - loss: 0.0022\n",
            "Epoch 765/1500\n",
            "4/4 [==============================] - 0s 6ms/step - loss: 0.0023\n",
            "Epoch 766/1500\n",
            "4/4 [==============================] - 0s 5ms/step - loss: 0.0021\n",
            "Epoch 767/1500\n",
            "4/4 [==============================] - 0s 4ms/step - loss: 0.0021\n",
            "Epoch 768/1500\n",
            "4/4 [==============================] - 0s 4ms/step - loss: 0.0019\n",
            "Epoch 769/1500\n",
            "4/4 [==============================] - 0s 4ms/step - loss: 0.0018\n",
            "Epoch 770/1500\n",
            "4/4 [==============================] - 0s 3ms/step - loss: 0.0021\n",
            "Epoch 771/1500\n",
            "4/4 [==============================] - 0s 4ms/step - loss: 0.0022\n",
            "Epoch 772/1500\n",
            "4/4 [==============================] - 0s 4ms/step - loss: 0.0018\n",
            "Epoch 773/1500\n",
            "4/4 [==============================] - 0s 4ms/step - loss: 0.0018\n",
            "Epoch 774/1500\n",
            "4/4 [==============================] - 0s 3ms/step - loss: 0.0019\n",
            "Epoch 775/1500\n",
            "4/4 [==============================] - 0s 4ms/step - loss: 0.0017\n",
            "Epoch 776/1500\n",
            "4/4 [==============================] - 0s 4ms/step - loss: 0.0023\n",
            "Epoch 777/1500\n",
            "4/4 [==============================] - 0s 3ms/step - loss: 0.0020\n",
            "Epoch 778/1500\n",
            "4/4 [==============================] - 0s 3ms/step - loss: 0.0017\n",
            "Epoch 779/1500\n",
            "4/4 [==============================] - 0s 4ms/step - loss: 0.0021\n",
            "Epoch 780/1500\n",
            "4/4 [==============================] - 0s 4ms/step - loss: 0.0024\n",
            "Epoch 781/1500\n",
            "4/4 [==============================] - 0s 3ms/step - loss: 0.0017\n",
            "Epoch 782/1500\n",
            "4/4 [==============================] - 0s 3ms/step - loss: 0.0022\n",
            "Epoch 783/1500\n",
            "4/4 [==============================] - 0s 3ms/step - loss: 0.0017\n",
            "Epoch 784/1500\n",
            "4/4 [==============================] - 0s 3ms/step - loss: 0.0017\n",
            "Epoch 785/1500\n",
            "4/4 [==============================] - 0s 3ms/step - loss: 0.0024\n",
            "Epoch 786/1500\n",
            "4/4 [==============================] - 0s 3ms/step - loss: 0.0020\n",
            "Epoch 787/1500\n",
            "4/4 [==============================] - 0s 3ms/step - loss: 0.0017\n",
            "Epoch 788/1500\n",
            "4/4 [==============================] - 0s 3ms/step - loss: 0.0018\n",
            "Epoch 789/1500\n",
            "4/4 [==============================] - 0s 3ms/step - loss: 0.0019\n",
            "Epoch 790/1500\n",
            "4/4 [==============================] - 0s 3ms/step - loss: 0.0019\n",
            "Epoch 791/1500\n",
            "4/4 [==============================] - 0s 3ms/step - loss: 0.0019\n",
            "Epoch 792/1500\n",
            "4/4 [==============================] - 0s 2ms/step - loss: 0.0024\n",
            "Epoch 793/1500\n",
            "4/4 [==============================] - 0s 3ms/step - loss: 0.0023\n",
            "Epoch 794/1500\n",
            "4/4 [==============================] - 0s 3ms/step - loss: 0.0019\n",
            "Epoch 795/1500\n",
            "4/4 [==============================] - 0s 4ms/step - loss: 0.0018\n",
            "Epoch 796/1500\n",
            "4/4 [==============================] - 0s 4ms/step - loss: 0.0019\n",
            "Epoch 797/1500\n",
            "4/4 [==============================] - 0s 3ms/step - loss: 0.0018\n",
            "Epoch 798/1500\n",
            "4/4 [==============================] - 0s 4ms/step - loss: 0.0019\n",
            "Epoch 799/1500\n",
            "4/4 [==============================] - 0s 3ms/step - loss: 0.0025\n",
            "Epoch 800/1500\n",
            "4/4 [==============================] - 0s 3ms/step - loss: 0.0019\n",
            "Epoch 801/1500\n",
            "4/4 [==============================] - 0s 3ms/step - loss: 0.0020\n",
            "Epoch 802/1500\n",
            "4/4 [==============================] - 0s 3ms/step - loss: 0.0017\n",
            "Epoch 803/1500\n",
            "4/4 [==============================] - 0s 3ms/step - loss: 0.0021\n",
            "Epoch 804/1500\n",
            "4/4 [==============================] - 0s 3ms/step - loss: 0.0024\n",
            "Epoch 805/1500\n",
            "4/4 [==============================] - 0s 3ms/step - loss: 0.0020\n",
            "Epoch 806/1500\n",
            "4/4 [==============================] - 0s 4ms/step - loss: 0.0016\n",
            "Epoch 807/1500\n",
            "4/4 [==============================] - 0s 3ms/step - loss: 0.0020\n",
            "Epoch 808/1500\n",
            "4/4 [==============================] - 0s 3ms/step - loss: 0.0018\n",
            "Epoch 809/1500\n",
            "4/4 [==============================] - 0s 3ms/step - loss: 0.0018\n",
            "Epoch 810/1500\n",
            "4/4 [==============================] - 0s 3ms/step - loss: 0.0020\n",
            "Epoch 811/1500\n",
            "4/4 [==============================] - 0s 5ms/step - loss: 0.0019\n",
            "Epoch 812/1500\n",
            "4/4 [==============================] - 0s 3ms/step - loss: 0.0019\n",
            "Epoch 813/1500\n",
            "4/4 [==============================] - 0s 3ms/step - loss: 0.0021\n",
            "Epoch 814/1500\n",
            "4/4 [==============================] - 0s 4ms/step - loss: 0.0019\n",
            "Epoch 815/1500\n",
            "4/4 [==============================] - 0s 3ms/step - loss: 0.0018\n",
            "Epoch 816/1500\n",
            "4/4 [==============================] - 0s 3ms/step - loss: 0.0017\n",
            "Epoch 817/1500\n",
            "4/4 [==============================] - 0s 4ms/step - loss: 0.0020\n",
            "Epoch 818/1500\n",
            "4/4 [==============================] - 0s 4ms/step - loss: 0.0018\n",
            "Epoch 819/1500\n",
            "4/4 [==============================] - 0s 3ms/step - loss: 0.0020\n",
            "Epoch 820/1500\n",
            "4/4 [==============================] - 0s 3ms/step - loss: 0.0020\n",
            "Epoch 821/1500\n",
            "4/4 [==============================] - 0s 5ms/step - loss: 0.0017\n",
            "Epoch 822/1500\n",
            "4/4 [==============================] - 0s 3ms/step - loss: 0.0020\n",
            "Epoch 823/1500\n",
            "4/4 [==============================] - 0s 3ms/step - loss: 0.0018\n",
            "Epoch 824/1500\n",
            "4/4 [==============================] - 0s 3ms/step - loss: 0.0025\n",
            "Epoch 825/1500\n",
            "4/4 [==============================] - 0s 4ms/step - loss: 0.0021\n",
            "Epoch 826/1500\n",
            "4/4 [==============================] - 0s 3ms/step - loss: 0.0017\n",
            "Epoch 827/1500\n",
            "4/4 [==============================] - 0s 4ms/step - loss: 0.0020\n",
            "Epoch 828/1500\n",
            "4/4 [==============================] - 0s 5ms/step - loss: 0.0019\n",
            "Epoch 829/1500\n",
            "4/4 [==============================] - 0s 3ms/step - loss: 0.0025\n",
            "Epoch 830/1500\n",
            "4/4 [==============================] - 0s 5ms/step - loss: 0.0020\n",
            "Epoch 831/1500\n",
            "4/4 [==============================] - 0s 4ms/step - loss: 0.0017\n",
            "Epoch 832/1500\n",
            "4/4 [==============================] - 0s 5ms/step - loss: 0.0019\n",
            "Epoch 833/1500\n",
            "4/4 [==============================] - 0s 3ms/step - loss: 0.0020\n",
            "Epoch 834/1500\n",
            "4/4 [==============================] - 0s 4ms/step - loss: 0.0018\n",
            "Epoch 835/1500\n",
            "4/4 [==============================] - 0s 4ms/step - loss: 0.0021\n",
            "Epoch 836/1500\n",
            "4/4 [==============================] - 0s 4ms/step - loss: 0.0017\n",
            "Epoch 837/1500\n",
            "4/4 [==============================] - 0s 4ms/step - loss: 0.0017\n",
            "Epoch 838/1500\n",
            "4/4 [==============================] - 0s 3ms/step - loss: 0.0019\n",
            "Epoch 839/1500\n",
            "4/4 [==============================] - 0s 3ms/step - loss: 0.0018\n",
            "Epoch 840/1500\n",
            "4/4 [==============================] - 0s 3ms/step - loss: 0.0020\n",
            "Epoch 841/1500\n",
            "4/4 [==============================] - 0s 3ms/step - loss: 0.0021\n",
            "Epoch 842/1500\n",
            "4/4 [==============================] - 0s 3ms/step - loss: 0.0019\n",
            "Epoch 843/1500\n",
            "4/4 [==============================] - 0s 3ms/step - loss: 0.0020\n",
            "Epoch 844/1500\n",
            "4/4 [==============================] - 0s 4ms/step - loss: 0.0021\n",
            "Epoch 845/1500\n",
            "4/4 [==============================] - 0s 3ms/step - loss: 0.0018\n",
            "Epoch 846/1500\n",
            "4/4 [==============================] - 0s 4ms/step - loss: 0.0019\n",
            "Epoch 847/1500\n",
            "4/4 [==============================] - 0s 3ms/step - loss: 0.0021\n",
            "Epoch 848/1500\n",
            "4/4 [==============================] - 0s 4ms/step - loss: 0.0024\n",
            "Epoch 849/1500\n",
            "4/4 [==============================] - 0s 3ms/step - loss: 0.0017\n",
            "Epoch 850/1500\n",
            "4/4 [==============================] - 0s 4ms/step - loss: 0.0019\n",
            "Epoch 851/1500\n",
            "4/4 [==============================] - 0s 3ms/step - loss: 0.0017\n",
            "Epoch 852/1500\n",
            "4/4 [==============================] - 0s 3ms/step - loss: 0.0021\n",
            "Epoch 853/1500\n",
            "4/4 [==============================] - 0s 4ms/step - loss: 0.0019\n",
            "Epoch 854/1500\n",
            "4/4 [==============================] - 0s 3ms/step - loss: 0.0024\n",
            "Epoch 855/1500\n",
            "4/4 [==============================] - 0s 4ms/step - loss: 0.0018\n",
            "Epoch 856/1500\n",
            "4/4 [==============================] - 0s 4ms/step - loss: 0.0018\n",
            "Epoch 857/1500\n",
            "4/4 [==============================] - 0s 4ms/step - loss: 0.0018\n",
            "Epoch 858/1500\n",
            "4/4 [==============================] - 0s 4ms/step - loss: 0.0017\n",
            "Epoch 859/1500\n",
            "4/4 [==============================] - 0s 4ms/step - loss: 0.0022\n",
            "Epoch 860/1500\n",
            "4/4 [==============================] - 0s 3ms/step - loss: 0.0020\n",
            "Epoch 861/1500\n",
            "4/4 [==============================] - 0s 3ms/step - loss: 0.0017\n",
            "Epoch 862/1500\n",
            "4/4 [==============================] - 0s 4ms/step - loss: 0.0017\n",
            "Epoch 863/1500\n",
            "4/4 [==============================] - 0s 4ms/step - loss: 0.0017\n",
            "Epoch 864/1500\n",
            "4/4 [==============================] - 0s 3ms/step - loss: 0.0024\n",
            "Epoch 865/1500\n",
            "4/4 [==============================] - 0s 3ms/step - loss: 0.0017\n",
            "Epoch 866/1500\n",
            "4/4 [==============================] - 0s 3ms/step - loss: 0.0025\n",
            "Epoch 867/1500\n",
            "4/4 [==============================] - 0s 4ms/step - loss: 0.0021\n",
            "Epoch 868/1500\n",
            "4/4 [==============================] - 0s 4ms/step - loss: 0.0019\n",
            "Epoch 869/1500\n",
            "4/4 [==============================] - 0s 4ms/step - loss: 0.0019\n",
            "Epoch 870/1500\n",
            "4/4 [==============================] - 0s 4ms/step - loss: 0.0018\n",
            "Epoch 871/1500\n",
            "4/4 [==============================] - 0s 3ms/step - loss: 0.0022\n",
            "Epoch 872/1500\n",
            "4/4 [==============================] - 0s 3ms/step - loss: 0.0017\n",
            "Epoch 873/1500\n",
            "4/4 [==============================] - 0s 3ms/step - loss: 0.0026\n",
            "Epoch 874/1500\n",
            "4/4 [==============================] - 0s 4ms/step - loss: 0.0019\n",
            "Epoch 875/1500\n",
            "4/4 [==============================] - 0s 4ms/step - loss: 0.0017\n",
            "Epoch 876/1500\n",
            "4/4 [==============================] - 0s 4ms/step - loss: 0.0016\n",
            "Epoch 877/1500\n",
            "4/4 [==============================] - 0s 4ms/step - loss: 0.0017\n",
            "Epoch 878/1500\n",
            "4/4 [==============================] - 0s 5ms/step - loss: 0.0021\n",
            "Epoch 879/1500\n",
            "4/4 [==============================] - 0s 4ms/step - loss: 0.0017\n",
            "Epoch 880/1500\n",
            "4/4 [==============================] - 0s 4ms/step - loss: 0.0019\n",
            "Epoch 881/1500\n",
            "4/4 [==============================] - 0s 3ms/step - loss: 0.0023\n",
            "Epoch 882/1500\n",
            "4/4 [==============================] - 0s 4ms/step - loss: 0.0016\n",
            "Epoch 883/1500\n",
            "4/4 [==============================] - 0s 4ms/step - loss: 0.0018\n",
            "Epoch 884/1500\n",
            "4/4 [==============================] - 0s 3ms/step - loss: 0.0022\n",
            "Epoch 885/1500\n",
            "4/4 [==============================] - 0s 4ms/step - loss: 0.0017\n",
            "Epoch 886/1500\n",
            "4/4 [==============================] - 0s 4ms/step - loss: 0.0017\n",
            "Epoch 887/1500\n",
            "4/4 [==============================] - 0s 4ms/step - loss: 0.0018\n",
            "Epoch 888/1500\n",
            "4/4 [==============================] - 0s 3ms/step - loss: 0.0016\n",
            "Epoch 889/1500\n",
            "4/4 [==============================] - 0s 4ms/step - loss: 0.0022\n",
            "Epoch 890/1500\n",
            "4/4 [==============================] - 0s 4ms/step - loss: 0.0015\n",
            "Epoch 891/1500\n",
            "4/4 [==============================] - 0s 4ms/step - loss: 0.0017\n",
            "Epoch 892/1500\n",
            "4/4 [==============================] - 0s 3ms/step - loss: 0.0024\n",
            "Epoch 893/1500\n",
            "4/4 [==============================] - 0s 4ms/step - loss: 0.0019\n",
            "Epoch 894/1500\n",
            "4/4 [==============================] - 0s 4ms/step - loss: 0.0019\n",
            "Epoch 895/1500\n",
            "4/4 [==============================] - 0s 3ms/step - loss: 0.0020\n",
            "Epoch 896/1500\n",
            "4/4 [==============================] - 0s 5ms/step - loss: 0.0017\n",
            "Epoch 897/1500\n",
            "4/4 [==============================] - 0s 3ms/step - loss: 0.0020\n",
            "Epoch 898/1500\n",
            "4/4 [==============================] - 0s 3ms/step - loss: 0.0023\n",
            "Epoch 899/1500\n",
            "4/4 [==============================] - 0s 3ms/step - loss: 0.0016\n",
            "Epoch 900/1500\n",
            "4/4 [==============================] - 0s 3ms/step - loss: 0.0018\n",
            "Epoch 901/1500\n",
            "4/4 [==============================] - 0s 3ms/step - loss: 0.0020\n",
            "Epoch 902/1500\n",
            "4/4 [==============================] - 0s 2ms/step - loss: 0.0023\n",
            "Epoch 903/1500\n",
            "4/4 [==============================] - 0s 3ms/step - loss: 0.0020\n",
            "Epoch 904/1500\n",
            "4/4 [==============================] - 0s 3ms/step - loss: 0.0019\n",
            "Epoch 905/1500\n",
            "4/4 [==============================] - 0s 3ms/step - loss: 0.0019\n",
            "Epoch 906/1500\n",
            "4/4 [==============================] - 0s 3ms/step - loss: 0.0016\n",
            "Epoch 907/1500\n",
            "4/4 [==============================] - 0s 3ms/step - loss: 0.0022\n",
            "Epoch 908/1500\n",
            "4/4 [==============================] - 0s 3ms/step - loss: 0.0017\n",
            "Epoch 909/1500\n",
            "4/4 [==============================] - 0s 3ms/step - loss: 0.0018\n",
            "Epoch 910/1500\n",
            "4/4 [==============================] - 0s 4ms/step - loss: 0.0018\n",
            "Epoch 911/1500\n",
            "4/4 [==============================] - 0s 4ms/step - loss: 0.0019\n",
            "Epoch 912/1500\n",
            "4/4 [==============================] - 0s 3ms/step - loss: 0.0018\n",
            "Epoch 913/1500\n",
            "4/4 [==============================] - 0s 3ms/step - loss: 0.0016\n",
            "Epoch 914/1500\n",
            "4/4 [==============================] - 0s 3ms/step - loss: 0.0016\n",
            "Epoch 915/1500\n",
            "4/4 [==============================] - 0s 3ms/step - loss: 0.0017\n",
            "Epoch 916/1500\n",
            "4/4 [==============================] - 0s 3ms/step - loss: 0.0018\n",
            "Epoch 917/1500\n",
            "4/4 [==============================] - 0s 5ms/step - loss: 0.0020\n",
            "Epoch 918/1500\n",
            "4/4 [==============================] - 0s 4ms/step - loss: 0.0019\n",
            "Epoch 919/1500\n",
            "4/4 [==============================] - 0s 4ms/step - loss: 0.0019\n",
            "Epoch 920/1500\n",
            "4/4 [==============================] - 0s 3ms/step - loss: 0.0020\n",
            "Epoch 921/1500\n",
            "4/4 [==============================] - 0s 3ms/step - loss: 0.0018\n",
            "Epoch 922/1500\n",
            "4/4 [==============================] - 0s 4ms/step - loss: 0.0018\n",
            "Epoch 923/1500\n",
            "4/4 [==============================] - 0s 4ms/step - loss: 0.0023\n",
            "Epoch 924/1500\n",
            "4/4 [==============================] - 0s 4ms/step - loss: 0.0017\n",
            "Epoch 925/1500\n",
            "4/4 [==============================] - 0s 4ms/step - loss: 0.0017\n",
            "Epoch 926/1500\n",
            "4/4 [==============================] - 0s 4ms/step - loss: 0.0017\n",
            "Epoch 927/1500\n",
            "4/4 [==============================] - 0s 3ms/step - loss: 0.0024\n",
            "Epoch 928/1500\n",
            "4/4 [==============================] - 0s 4ms/step - loss: 0.0018\n",
            "Epoch 929/1500\n",
            "4/4 [==============================] - 0s 4ms/step - loss: 0.0017\n",
            "Epoch 930/1500\n",
            "4/4 [==============================] - 0s 3ms/step - loss: 0.0019\n",
            "Epoch 931/1500\n",
            "4/4 [==============================] - 0s 3ms/step - loss: 0.0018\n",
            "Epoch 932/1500\n",
            "4/4 [==============================] - 0s 3ms/step - loss: 0.0018\n",
            "Epoch 933/1500\n",
            "4/4 [==============================] - 0s 3ms/step - loss: 0.0023\n",
            "Epoch 934/1500\n",
            "4/4 [==============================] - 0s 3ms/step - loss: 0.0017\n",
            "Epoch 935/1500\n",
            "4/4 [==============================] - 0s 3ms/step - loss: 0.0019\n",
            "Epoch 936/1500\n",
            "4/4 [==============================] - 0s 3ms/step - loss: 0.0022\n",
            "Epoch 937/1500\n",
            "4/4 [==============================] - 0s 3ms/step - loss: 0.0017\n",
            "Epoch 938/1500\n",
            "4/4 [==============================] - 0s 4ms/step - loss: 0.0017\n",
            "Epoch 939/1500\n",
            "4/4 [==============================] - 0s 3ms/step - loss: 0.0015\n",
            "Epoch 940/1500\n",
            "4/4 [==============================] - 0s 3ms/step - loss: 0.0019\n",
            "Epoch 941/1500\n",
            "4/4 [==============================] - 0s 3ms/step - loss: 0.0017\n",
            "Epoch 942/1500\n",
            "4/4 [==============================] - 0s 5ms/step - loss: 0.0021\n",
            "Epoch 943/1500\n",
            "4/4 [==============================] - 0s 4ms/step - loss: 0.0018\n",
            "Epoch 944/1500\n",
            "4/4 [==============================] - 0s 3ms/step - loss: 0.0019\n",
            "Epoch 945/1500\n",
            "4/4 [==============================] - 0s 4ms/step - loss: 0.0018\n",
            "Epoch 946/1500\n",
            "4/4 [==============================] - 0s 3ms/step - loss: 0.0016\n",
            "Epoch 947/1500\n",
            "4/4 [==============================] - 0s 3ms/step - loss: 0.0018\n",
            "Epoch 948/1500\n",
            "4/4 [==============================] - 0s 3ms/step - loss: 0.0027\n",
            "Epoch 949/1500\n",
            "4/4 [==============================] - 0s 3ms/step - loss: 0.0018\n",
            "Epoch 950/1500\n",
            "4/4 [==============================] - 0s 5ms/step - loss: 0.0015\n",
            "Epoch 951/1500\n",
            "4/4 [==============================] - 0s 3ms/step - loss: 0.0017\n",
            "Epoch 952/1500\n",
            "4/4 [==============================] - 0s 3ms/step - loss: 0.0024\n",
            "Epoch 953/1500\n",
            "4/4 [==============================] - 0s 3ms/step - loss: 0.0018\n",
            "Epoch 954/1500\n",
            "4/4 [==============================] - 0s 2ms/step - loss: 0.0018\n",
            "Epoch 955/1500\n",
            "4/4 [==============================] - 0s 2ms/step - loss: 0.0018\n",
            "Epoch 956/1500\n",
            "4/4 [==============================] - 0s 3ms/step - loss: 0.0017\n",
            "Epoch 957/1500\n",
            "4/4 [==============================] - 0s 4ms/step - loss: 0.0019\n",
            "Epoch 958/1500\n",
            "4/4 [==============================] - 0s 3ms/step - loss: 0.0019\n",
            "Epoch 959/1500\n",
            "4/4 [==============================] - 0s 3ms/step - loss: 0.0021\n",
            "Epoch 960/1500\n",
            "4/4 [==============================] - 0s 3ms/step - loss: 0.0017\n",
            "Epoch 961/1500\n",
            "4/4 [==============================] - 0s 3ms/step - loss: 0.0018\n",
            "Epoch 962/1500\n",
            "4/4 [==============================] - 0s 3ms/step - loss: 0.0017\n",
            "Epoch 963/1500\n",
            "4/4 [==============================] - 0s 3ms/step - loss: 0.0019\n",
            "Epoch 964/1500\n",
            "4/4 [==============================] - 0s 3ms/step - loss: 0.0019\n",
            "Epoch 965/1500\n",
            "4/4 [==============================] - 0s 3ms/step - loss: 0.0016\n",
            "Epoch 966/1500\n",
            "4/4 [==============================] - 0s 5ms/step - loss: 0.0016\n",
            "Epoch 967/1500\n",
            "4/4 [==============================] - 0s 4ms/step - loss: 0.0022\n",
            "Epoch 968/1500\n",
            "4/4 [==============================] - 0s 5ms/step - loss: 0.0018\n",
            "Epoch 969/1500\n",
            "4/4 [==============================] - 0s 5ms/step - loss: 0.0018\n",
            "Epoch 970/1500\n",
            "4/4 [==============================] - 0s 3ms/step - loss: 0.0019\n",
            "Epoch 971/1500\n",
            "4/4 [==============================] - 0s 3ms/step - loss: 0.0019\n",
            "Epoch 972/1500\n",
            "4/4 [==============================] - 0s 3ms/step - loss: 0.0017\n",
            "Epoch 973/1500\n",
            "4/4 [==============================] - 0s 3ms/step - loss: 0.0022\n",
            "Epoch 974/1500\n",
            "4/4 [==============================] - 0s 3ms/step - loss: 0.0015\n",
            "Epoch 975/1500\n",
            "4/4 [==============================] - 0s 3ms/step - loss: 0.0015\n",
            "Epoch 976/1500\n",
            "4/4 [==============================] - 0s 3ms/step - loss: 0.0018\n",
            "Epoch 977/1500\n",
            "4/4 [==============================] - 0s 3ms/step - loss: 0.0019\n",
            "Epoch 978/1500\n",
            "4/4 [==============================] - 0s 3ms/step - loss: 0.0025\n",
            "Epoch 979/1500\n",
            "4/4 [==============================] - 0s 3ms/step - loss: 0.0017\n",
            "Epoch 980/1500\n",
            "4/4 [==============================] - 0s 3ms/step - loss: 0.0016\n",
            "Epoch 981/1500\n",
            "4/4 [==============================] - 0s 3ms/step - loss: 0.0015\n",
            "Epoch 982/1500\n",
            "4/4 [==============================] - 0s 3ms/step - loss: 0.0022\n",
            "Epoch 983/1500\n",
            "4/4 [==============================] - 0s 3ms/step - loss: 0.0016\n",
            "Epoch 984/1500\n",
            "4/4 [==============================] - 0s 3ms/step - loss: 0.0015\n",
            "Epoch 985/1500\n",
            "4/4 [==============================] - 0s 4ms/step - loss: 0.0020\n",
            "Epoch 986/1500\n",
            "4/4 [==============================] - 0s 3ms/step - loss: 0.0017\n",
            "Epoch 987/1500\n",
            "4/4 [==============================] - 0s 4ms/step - loss: 0.0016\n",
            "Epoch 988/1500\n",
            "4/4 [==============================] - 0s 3ms/step - loss: 0.0022\n",
            "Epoch 989/1500\n",
            "4/4 [==============================] - 0s 3ms/step - loss: 0.0018\n",
            "Epoch 990/1500\n",
            "4/4 [==============================] - 0s 3ms/step - loss: 0.0018\n",
            "Epoch 991/1500\n",
            "4/4 [==============================] - 0s 6ms/step - loss: 0.0017\n",
            "Epoch 992/1500\n",
            "4/4 [==============================] - 0s 3ms/step - loss: 0.0016\n",
            "Epoch 993/1500\n",
            "4/4 [==============================] - 0s 3ms/step - loss: 0.0017\n",
            "Epoch 994/1500\n",
            "4/4 [==============================] - 0s 3ms/step - loss: 0.0018\n",
            "Epoch 995/1500\n",
            "4/4 [==============================] - 0s 3ms/step - loss: 0.0019\n",
            "Epoch 996/1500\n",
            "4/4 [==============================] - 0s 3ms/step - loss: 0.0021\n",
            "Epoch 997/1500\n",
            "4/4 [==============================] - 0s 3ms/step - loss: 0.0017\n",
            "Epoch 998/1500\n",
            "4/4 [==============================] - 0s 3ms/step - loss: 0.0016\n",
            "Epoch 999/1500\n",
            "4/4 [==============================] - 0s 3ms/step - loss: 0.0016\n",
            "Epoch 1000/1500\n",
            "4/4 [==============================] - 0s 5ms/step - loss: 0.0016\n",
            "Epoch 1001/1500\n",
            "4/4 [==============================] - 0s 3ms/step - loss: 0.0016\n",
            "Epoch 1002/1500\n",
            "4/4 [==============================] - 0s 3ms/step - loss: 0.0018\n",
            "Epoch 1003/1500\n",
            "4/4 [==============================] - 0s 3ms/step - loss: 0.0021\n",
            "Epoch 1004/1500\n",
            "4/4 [==============================] - 0s 3ms/step - loss: 0.0017\n",
            "Epoch 1005/1500\n",
            "4/4 [==============================] - 0s 3ms/step - loss: 0.0020\n",
            "Epoch 1006/1500\n",
            "4/4 [==============================] - 0s 3ms/step - loss: 0.0016\n",
            "Epoch 1007/1500\n",
            "4/4 [==============================] - 0s 3ms/step - loss: 0.0021\n",
            "Epoch 1008/1500\n",
            "4/4 [==============================] - 0s 3ms/step - loss: 0.0016\n",
            "Epoch 1009/1500\n",
            "4/4 [==============================] - 0s 3ms/step - loss: 0.0018\n",
            "Epoch 1010/1500\n",
            "4/4 [==============================] - 0s 3ms/step - loss: 0.0016\n",
            "Epoch 1011/1500\n",
            "4/4 [==============================] - 0s 3ms/step - loss: 0.0020\n",
            "Epoch 1012/1500\n",
            "4/4 [==============================] - 0s 3ms/step - loss: 0.0015\n",
            "Epoch 1013/1500\n",
            "4/4 [==============================] - 0s 3ms/step - loss: 0.0023\n",
            "Epoch 1014/1500\n",
            "4/4 [==============================] - 0s 3ms/step - loss: 0.0016\n",
            "Epoch 1015/1500\n",
            "4/4 [==============================] - 0s 3ms/step - loss: 0.0021\n",
            "Epoch 1016/1500\n",
            "4/4 [==============================] - 0s 6ms/step - loss: 0.0017\n",
            "Epoch 1017/1500\n",
            "4/4 [==============================] - 0s 4ms/step - loss: 0.0015\n",
            "Epoch 1018/1500\n",
            "4/4 [==============================] - 0s 4ms/step - loss: 0.0018\n",
            "Epoch 1019/1500\n",
            "4/4 [==============================] - 0s 3ms/step - loss: 0.0017\n",
            "Epoch 1020/1500\n",
            "4/4 [==============================] - 0s 4ms/step - loss: 0.0017\n",
            "Epoch 1021/1500\n",
            "4/4 [==============================] - 0s 4ms/step - loss: 0.0018\n",
            "Epoch 1022/1500\n",
            "4/4 [==============================] - 0s 4ms/step - loss: 0.0019\n",
            "Epoch 1023/1500\n",
            "4/4 [==============================] - 0s 4ms/step - loss: 0.0017\n",
            "Epoch 1024/1500\n",
            "4/4 [==============================] - 0s 4ms/step - loss: 0.0020\n",
            "Epoch 1025/1500\n",
            "4/4 [==============================] - 0s 4ms/step - loss: 0.0015\n",
            "Epoch 1026/1500\n",
            "4/4 [==============================] - 0s 3ms/step - loss: 0.0019\n",
            "Epoch 1027/1500\n",
            "4/4 [==============================] - 0s 5ms/step - loss: 0.0017\n",
            "Epoch 1028/1500\n",
            "4/4 [==============================] - 0s 4ms/step - loss: 0.0015\n",
            "Epoch 1029/1500\n",
            "4/4 [==============================] - 0s 4ms/step - loss: 0.0021\n",
            "Epoch 1030/1500\n",
            "4/4 [==============================] - 0s 5ms/step - loss: 0.0017\n",
            "Epoch 1031/1500\n",
            "4/4 [==============================] - 0s 3ms/step - loss: 0.0014\n",
            "Epoch 1032/1500\n",
            "4/4 [==============================] - 0s 4ms/step - loss: 0.0018\n",
            "Epoch 1033/1500\n",
            "4/4 [==============================] - 0s 4ms/step - loss: 0.0016\n",
            "Epoch 1034/1500\n",
            "4/4 [==============================] - 0s 4ms/step - loss: 0.0022\n",
            "Epoch 1035/1500\n",
            "4/4 [==============================] - 0s 4ms/step - loss: 0.0020\n",
            "Epoch 1036/1500\n",
            "4/4 [==============================] - 0s 4ms/step - loss: 0.0015\n",
            "Epoch 1037/1500\n",
            "4/4 [==============================] - 0s 4ms/step - loss: 0.0018\n",
            "Epoch 1038/1500\n",
            "4/4 [==============================] - 0s 3ms/step - loss: 0.0017\n",
            "Epoch 1039/1500\n",
            "4/4 [==============================] - 0s 4ms/step - loss: 0.0018\n",
            "Epoch 1040/1500\n",
            "4/4 [==============================] - 0s 4ms/step - loss: 0.0017\n",
            "Epoch 1041/1500\n",
            "4/4 [==============================] - 0s 3ms/step - loss: 0.0020\n",
            "Epoch 1042/1500\n",
            "4/4 [==============================] - 0s 3ms/step - loss: 0.0017\n",
            "Epoch 1043/1500\n",
            "4/4 [==============================] - 0s 4ms/step - loss: 0.0017\n",
            "Epoch 1044/1500\n",
            "4/4 [==============================] - 0s 3ms/step - loss: 0.0018\n",
            "Epoch 1045/1500\n",
            "4/4 [==============================] - 0s 3ms/step - loss: 0.0017\n",
            "Epoch 1046/1500\n",
            "4/4 [==============================] - 0s 3ms/step - loss: 0.0018\n",
            "Epoch 1047/1500\n",
            "4/4 [==============================] - 0s 4ms/step - loss: 0.0017\n",
            "Epoch 1048/1500\n",
            "4/4 [==============================] - 0s 4ms/step - loss: 0.0020\n",
            "Epoch 1049/1500\n",
            "4/4 [==============================] - 0s 4ms/step - loss: 0.0019\n",
            "Epoch 1050/1500\n",
            "4/4 [==============================] - 0s 3ms/step - loss: 0.0015\n",
            "Epoch 1051/1500\n",
            "4/4 [==============================] - 0s 3ms/step - loss: 0.0017\n",
            "Epoch 1052/1500\n",
            "4/4 [==============================] - 0s 3ms/step - loss: 0.0021\n",
            "Epoch 1053/1500\n",
            "4/4 [==============================] - 0s 3ms/step - loss: 0.0015\n",
            "Epoch 1054/1500\n",
            "4/4 [==============================] - 0s 3ms/step - loss: 0.0020\n",
            "Epoch 1055/1500\n",
            "4/4 [==============================] - 0s 3ms/step - loss: 0.0015\n",
            "Epoch 1056/1500\n",
            "4/4 [==============================] - 0s 3ms/step - loss: 0.0018\n",
            "Epoch 1057/1500\n",
            "4/4 [==============================] - 0s 3ms/step - loss: 0.0016\n",
            "Epoch 1058/1500\n",
            "4/4 [==============================] - 0s 3ms/step - loss: 0.0020\n",
            "Epoch 1059/1500\n",
            "4/4 [==============================] - 0s 4ms/step - loss: 0.0016\n",
            "Epoch 1060/1500\n",
            "4/4 [==============================] - 0s 3ms/step - loss: 0.0019\n",
            "Epoch 1061/1500\n",
            "4/4 [==============================] - 0s 3ms/step - loss: 0.0017\n",
            "Epoch 1062/1500\n",
            "4/4 [==============================] - 0s 3ms/step - loss: 0.0016\n",
            "Epoch 1063/1500\n",
            "4/4 [==============================] - 0s 3ms/step - loss: 0.0014\n",
            "Epoch 1064/1500\n",
            "4/4 [==============================] - 0s 3ms/step - loss: 0.0025\n",
            "Epoch 1065/1500\n",
            "4/4 [==============================] - 0s 3ms/step - loss: 0.0017\n",
            "Epoch 1066/1500\n",
            "4/4 [==============================] - 0s 3ms/step - loss: 0.0019\n",
            "Epoch 1067/1500\n",
            "4/4 [==============================] - 0s 3ms/step - loss: 0.0019\n",
            "Epoch 1068/1500\n",
            "4/4 [==============================] - 0s 3ms/step - loss: 0.0018\n",
            "Epoch 1069/1500\n",
            "4/4 [==============================] - 0s 4ms/step - loss: 0.0016\n",
            "Epoch 1070/1500\n",
            "4/4 [==============================] - 0s 3ms/step - loss: 0.0019\n",
            "Epoch 1071/1500\n",
            "4/4 [==============================] - 0s 4ms/step - loss: 0.0016\n",
            "Epoch 1072/1500\n",
            "4/4 [==============================] - 0s 4ms/step - loss: 0.0015\n",
            "Epoch 1073/1500\n",
            "4/4 [==============================] - 0s 3ms/step - loss: 0.0016\n",
            "Epoch 1074/1500\n",
            "4/4 [==============================] - 0s 4ms/step - loss: 0.0015\n",
            "Epoch 1075/1500\n",
            "4/4 [==============================] - 0s 4ms/step - loss: 0.0016\n",
            "Epoch 1076/1500\n",
            "4/4 [==============================] - 0s 4ms/step - loss: 0.0015\n",
            "Epoch 1077/1500\n",
            "4/4 [==============================] - 0s 4ms/step - loss: 0.0023\n",
            "Epoch 1078/1500\n",
            "4/4 [==============================] - 0s 5ms/step - loss: 0.0017\n",
            "Epoch 1079/1500\n",
            "4/4 [==============================] - 0s 4ms/step - loss: 0.0017\n",
            "Epoch 1080/1500\n",
            "4/4 [==============================] - 0s 4ms/step - loss: 0.0016\n",
            "Epoch 1081/1500\n",
            "4/4 [==============================] - 0s 4ms/step - loss: 0.0018\n",
            "Epoch 1082/1500\n",
            "4/4 [==============================] - 0s 4ms/step - loss: 0.0019\n",
            "Epoch 1083/1500\n",
            "4/4 [==============================] - 0s 5ms/step - loss: 0.0015\n",
            "Epoch 1084/1500\n",
            "4/4 [==============================] - 0s 3ms/step - loss: 0.0015\n",
            "Epoch 1085/1500\n",
            "4/4 [==============================] - 0s 3ms/step - loss: 0.0014\n",
            "Epoch 1086/1500\n",
            "4/4 [==============================] - 0s 4ms/step - loss: 0.0019\n",
            "Epoch 1087/1500\n",
            "4/4 [==============================] - 0s 4ms/step - loss: 0.0016\n",
            "Epoch 1088/1500\n",
            "4/4 [==============================] - 0s 3ms/step - loss: 0.0017\n",
            "Epoch 1089/1500\n",
            "4/4 [==============================] - 0s 3ms/step - loss: 0.0017\n",
            "Epoch 1090/1500\n",
            "4/4 [==============================] - 0s 3ms/step - loss: 0.0015\n",
            "Epoch 1091/1500\n",
            "4/4 [==============================] - 0s 4ms/step - loss: 0.0017\n",
            "Epoch 1092/1500\n",
            "4/4 [==============================] - 0s 3ms/step - loss: 0.0017\n",
            "Epoch 1093/1500\n",
            "4/4 [==============================] - 0s 3ms/step - loss: 0.0015\n",
            "Epoch 1094/1500\n",
            "4/4 [==============================] - 0s 4ms/step - loss: 0.0015\n",
            "Epoch 1095/1500\n",
            "4/4 [==============================] - 0s 3ms/step - loss: 0.0021\n",
            "Epoch 1096/1500\n",
            "4/4 [==============================] - 0s 3ms/step - loss: 0.0018\n",
            "Epoch 1097/1500\n",
            "4/4 [==============================] - 0s 4ms/step - loss: 0.0019\n",
            "Epoch 1098/1500\n",
            "4/4 [==============================] - 0s 4ms/step - loss: 0.0015\n",
            "Epoch 1099/1500\n",
            "4/4 [==============================] - 0s 4ms/step - loss: 0.0017\n",
            "Epoch 1100/1500\n",
            "4/4 [==============================] - 0s 3ms/step - loss: 0.0019\n",
            "Epoch 1101/1500\n",
            "4/4 [==============================] - 0s 3ms/step - loss: 0.0017\n",
            "Epoch 1102/1500\n",
            "4/4 [==============================] - 0s 4ms/step - loss: 0.0015\n",
            "Epoch 1103/1500\n",
            "4/4 [==============================] - 0s 4ms/step - loss: 0.0018\n",
            "Epoch 1104/1500\n",
            "4/4 [==============================] - 0s 4ms/step - loss: 0.0020\n",
            "Epoch 1105/1500\n",
            "4/4 [==============================] - 0s 4ms/step - loss: 0.0015\n",
            "Epoch 1106/1500\n",
            "4/4 [==============================] - 0s 4ms/step - loss: 0.0017\n",
            "Epoch 1107/1500\n",
            "4/4 [==============================] - 0s 4ms/step - loss: 0.0019\n",
            "Epoch 1108/1500\n",
            "4/4 [==============================] - 0s 4ms/step - loss: 0.0018\n",
            "Epoch 1109/1500\n",
            "4/4 [==============================] - 0s 4ms/step - loss: 0.0017\n",
            "Epoch 1110/1500\n",
            "4/4 [==============================] - 0s 4ms/step - loss: 0.0018\n",
            "Epoch 1111/1500\n",
            "4/4 [==============================] - 0s 4ms/step - loss: 0.0016\n",
            "Epoch 1112/1500\n",
            "4/4 [==============================] - 0s 3ms/step - loss: 0.0018\n",
            "Epoch 1113/1500\n",
            "4/4 [==============================] - 0s 3ms/step - loss: 0.0019\n",
            "Epoch 1114/1500\n",
            "4/4 [==============================] - 0s 3ms/step - loss: 0.0014\n",
            "Epoch 1115/1500\n",
            "4/4 [==============================] - 0s 3ms/step - loss: 0.0017\n",
            "Epoch 1116/1500\n",
            "4/4 [==============================] - 0s 3ms/step - loss: 0.0020\n",
            "Epoch 1117/1500\n",
            "4/4 [==============================] - 0s 4ms/step - loss: 0.0016\n",
            "Epoch 1118/1500\n",
            "4/4 [==============================] - 0s 4ms/step - loss: 0.0015\n",
            "Epoch 1119/1500\n",
            "4/4 [==============================] - 0s 4ms/step - loss: 0.0019\n",
            "Epoch 1120/1500\n",
            "4/4 [==============================] - 0s 4ms/step - loss: 0.0014\n",
            "Epoch 1121/1500\n",
            "4/4 [==============================] - 0s 4ms/step - loss: 0.0016\n",
            "Epoch 1122/1500\n",
            "4/4 [==============================] - 0s 3ms/step - loss: 0.0019\n",
            "Epoch 1123/1500\n",
            "4/4 [==============================] - 0s 3ms/step - loss: 0.0019\n",
            "Epoch 1124/1500\n",
            "4/4 [==============================] - 0s 3ms/step - loss: 0.0019\n",
            "Epoch 1125/1500\n",
            "4/4 [==============================] - 0s 3ms/step - loss: 0.0016\n",
            "Epoch 1126/1500\n",
            "4/4 [==============================] - 0s 3ms/step - loss: 0.0016\n",
            "Epoch 1127/1500\n",
            "4/4 [==============================] - 0s 3ms/step - loss: 0.0020\n",
            "Epoch 1128/1500\n",
            "4/4 [==============================] - 0s 3ms/step - loss: 0.0017\n",
            "Epoch 1129/1500\n",
            "4/4 [==============================] - 0s 3ms/step - loss: 0.0014\n",
            "Epoch 1130/1500\n",
            "4/4 [==============================] - 0s 5ms/step - loss: 0.0015\n",
            "Epoch 1131/1500\n",
            "4/4 [==============================] - 0s 5ms/step - loss: 0.0019\n",
            "Epoch 1132/1500\n",
            "4/4 [==============================] - 0s 4ms/step - loss: 0.0017\n",
            "Epoch 1133/1500\n",
            "4/4 [==============================] - 0s 3ms/step - loss: 0.0019\n",
            "Epoch 1134/1500\n",
            "4/4 [==============================] - 0s 3ms/step - loss: 0.0020\n",
            "Epoch 1135/1500\n",
            "4/4 [==============================] - 0s 3ms/step - loss: 0.0017\n",
            "Epoch 1136/1500\n",
            "4/4 [==============================] - 0s 4ms/step - loss: 0.0014\n",
            "Epoch 1137/1500\n",
            "4/4 [==============================] - 0s 4ms/step - loss: 0.0015\n",
            "Epoch 1138/1500\n",
            "4/4 [==============================] - 0s 3ms/step - loss: 0.0018\n",
            "Epoch 1139/1500\n",
            "4/4 [==============================] - 0s 3ms/step - loss: 0.0018\n",
            "Epoch 1140/1500\n",
            "4/4 [==============================] - 0s 3ms/step - loss: 0.0022\n",
            "Epoch 1141/1500\n",
            "4/4 [==============================] - 0s 3ms/step - loss: 0.0016\n",
            "Epoch 1142/1500\n",
            "4/4 [==============================] - 0s 3ms/step - loss: 0.0016\n",
            "Epoch 1143/1500\n",
            "4/4 [==============================] - 0s 3ms/step - loss: 0.0016\n",
            "Epoch 1144/1500\n",
            "4/4 [==============================] - 0s 5ms/step - loss: 0.0021\n",
            "Epoch 1145/1500\n",
            "4/4 [==============================] - 0s 5ms/step - loss: 0.0014\n",
            "Epoch 1146/1500\n",
            "4/4 [==============================] - 0s 4ms/step - loss: 0.0015\n",
            "Epoch 1147/1500\n",
            "4/4 [==============================] - 0s 4ms/step - loss: 0.0015\n",
            "Epoch 1148/1500\n",
            "4/4 [==============================] - 0s 3ms/step - loss: 0.0014\n",
            "Epoch 1149/1500\n",
            "4/4 [==============================] - 0s 3ms/step - loss: 0.0021\n",
            "Epoch 1150/1500\n",
            "4/4 [==============================] - 0s 4ms/step - loss: 0.0016\n",
            "Epoch 1151/1500\n",
            "4/4 [==============================] - 0s 4ms/step - loss: 0.0015\n",
            "Epoch 1152/1500\n",
            "4/4 [==============================] - 0s 3ms/step - loss: 0.0021\n",
            "Epoch 1153/1500\n",
            "4/4 [==============================] - 0s 4ms/step - loss: 0.0014\n",
            "Epoch 1154/1500\n",
            "4/4 [==============================] - 0s 4ms/step - loss: 0.0018\n",
            "Epoch 1155/1500\n",
            "4/4 [==============================] - 0s 3ms/step - loss: 0.0016\n",
            "Epoch 1156/1500\n",
            "4/4 [==============================] - 0s 3ms/step - loss: 0.0014\n",
            "Epoch 1157/1500\n",
            "4/4 [==============================] - 0s 4ms/step - loss: 0.0020\n",
            "Epoch 1158/1500\n",
            "4/4 [==============================] - 0s 7ms/step - loss: 0.0014\n",
            "Epoch 1159/1500\n",
            "4/4 [==============================] - 0s 5ms/step - loss: 0.0018\n",
            "Epoch 1160/1500\n",
            "4/4 [==============================] - 0s 3ms/step - loss: 0.0020\n",
            "Epoch 1161/1500\n",
            "4/4 [==============================] - 0s 4ms/step - loss: 0.0017\n",
            "Epoch 1162/1500\n",
            "4/4 [==============================] - 0s 4ms/step - loss: 0.0017\n",
            "Epoch 1163/1500\n",
            "4/4 [==============================] - 0s 4ms/step - loss: 0.0014\n",
            "Epoch 1164/1500\n",
            "4/4 [==============================] - 0s 6ms/step - loss: 0.0017\n",
            "Epoch 1165/1500\n",
            "4/4 [==============================] - 0s 4ms/step - loss: 0.0018\n",
            "Epoch 1166/1500\n",
            "4/4 [==============================] - 0s 4ms/step - loss: 0.0016\n",
            "Epoch 1167/1500\n",
            "4/4 [==============================] - 0s 4ms/step - loss: 0.0018\n",
            "Epoch 1168/1500\n",
            "4/4 [==============================] - 0s 5ms/step - loss: 0.0018\n",
            "Epoch 1169/1500\n",
            "4/4 [==============================] - 0s 3ms/step - loss: 0.0014\n",
            "Epoch 1170/1500\n",
            "4/4 [==============================] - 0s 4ms/step - loss: 0.0016\n",
            "Epoch 1171/1500\n",
            "4/4 [==============================] - 0s 3ms/step - loss: 0.0015\n",
            "Epoch 1172/1500\n",
            "4/4 [==============================] - 0s 4ms/step - loss: 0.0016\n",
            "Epoch 1173/1500\n",
            "4/4 [==============================] - 0s 3ms/step - loss: 0.0016\n",
            "Epoch 1174/1500\n",
            "4/4 [==============================] - 0s 3ms/step - loss: 0.0017\n",
            "Epoch 1175/1500\n",
            "4/4 [==============================] - 0s 3ms/step - loss: 0.0014\n",
            "Epoch 1176/1500\n",
            "4/4 [==============================] - 0s 4ms/step - loss: 0.0018\n",
            "Epoch 1177/1500\n",
            "4/4 [==============================] - 0s 5ms/step - loss: 0.0019\n",
            "Epoch 1178/1500\n",
            "4/4 [==============================] - 0s 4ms/step - loss: 0.0016\n",
            "Epoch 1179/1500\n",
            "4/4 [==============================] - 0s 3ms/step - loss: 0.0017\n",
            "Epoch 1180/1500\n",
            "4/4 [==============================] - 0s 5ms/step - loss: 0.0015\n",
            "Epoch 1181/1500\n",
            "4/4 [==============================] - 0s 4ms/step - loss: 0.0020\n",
            "Epoch 1182/1500\n",
            "4/4 [==============================] - 0s 4ms/step - loss: 0.0019\n",
            "Epoch 1183/1500\n",
            "4/4 [==============================] - 0s 4ms/step - loss: 0.0018\n",
            "Epoch 1184/1500\n",
            "4/4 [==============================] - 0s 4ms/step - loss: 0.0014\n",
            "Epoch 1185/1500\n",
            "4/4 [==============================] - 0s 3ms/step - loss: 0.0014\n",
            "Epoch 1186/1500\n",
            "4/4 [==============================] - 0s 3ms/step - loss: 0.0014\n",
            "Epoch 1187/1500\n",
            "4/4 [==============================] - 0s 4ms/step - loss: 0.0016\n",
            "Epoch 1188/1500\n",
            "4/4 [==============================] - 0s 5ms/step - loss: 0.0021\n",
            "Epoch 1189/1500\n",
            "4/4 [==============================] - 0s 3ms/step - loss: 0.0015\n",
            "Epoch 1190/1500\n",
            "4/4 [==============================] - 0s 3ms/step - loss: 0.0014\n",
            "Epoch 1191/1500\n",
            "4/4 [==============================] - 0s 3ms/step - loss: 0.0017\n",
            "Epoch 1192/1500\n",
            "4/4 [==============================] - 0s 3ms/step - loss: 0.0021\n",
            "Epoch 1193/1500\n",
            "4/4 [==============================] - 0s 4ms/step - loss: 0.0018\n",
            "Epoch 1194/1500\n",
            "4/4 [==============================] - 0s 3ms/step - loss: 0.0014\n",
            "Epoch 1195/1500\n",
            "4/4 [==============================] - 0s 3ms/step - loss: 0.0015\n",
            "Epoch 1196/1500\n",
            "4/4 [==============================] - 0s 3ms/step - loss: 0.0015\n",
            "Epoch 1197/1500\n",
            "4/4 [==============================] - 0s 3ms/step - loss: 0.0016\n",
            "Epoch 1198/1500\n",
            "4/4 [==============================] - 0s 3ms/step - loss: 0.0015\n",
            "Epoch 1199/1500\n",
            "4/4 [==============================] - 0s 3ms/step - loss: 0.0014\n",
            "Epoch 1200/1500\n",
            "4/4 [==============================] - 0s 3ms/step - loss: 0.0020\n",
            "Epoch 1201/1500\n",
            "4/4 [==============================] - 0s 4ms/step - loss: 0.0017\n",
            "Epoch 1202/1500\n",
            "4/4 [==============================] - 0s 2ms/step - loss: 0.0014\n",
            "Epoch 1203/1500\n",
            "4/4 [==============================] - 0s 4ms/step - loss: 0.0015\n",
            "Epoch 1204/1500\n",
            "4/4 [==============================] - 0s 5ms/step - loss: 0.0017\n",
            "Epoch 1205/1500\n",
            "4/4 [==============================] - 0s 3ms/step - loss: 0.0017\n",
            "Epoch 1206/1500\n",
            "4/4 [==============================] - 0s 3ms/step - loss: 0.0016\n",
            "Epoch 1207/1500\n",
            "4/4 [==============================] - 0s 4ms/step - loss: 0.0014\n",
            "Epoch 1208/1500\n",
            "4/4 [==============================] - 0s 4ms/step - loss: 0.0019\n",
            "Epoch 1209/1500\n",
            "4/4 [==============================] - 0s 4ms/step - loss: 0.0015\n",
            "Epoch 1210/1500\n",
            "4/4 [==============================] - 0s 5ms/step - loss: 0.0014\n",
            "Epoch 1211/1500\n",
            "4/4 [==============================] - 0s 3ms/step - loss: 0.0019\n",
            "Epoch 1212/1500\n",
            "4/4 [==============================] - 0s 3ms/step - loss: 0.0016\n",
            "Epoch 1213/1500\n",
            "4/4 [==============================] - 0s 3ms/step - loss: 0.0017\n",
            "Epoch 1214/1500\n",
            "4/4 [==============================] - 0s 3ms/step - loss: 0.0020\n",
            "Epoch 1215/1500\n",
            "4/4 [==============================] - 0s 3ms/step - loss: 0.0013\n",
            "Epoch 1216/1500\n",
            "4/4 [==============================] - 0s 3ms/step - loss: 0.0016\n",
            "Epoch 1217/1500\n",
            "4/4 [==============================] - 0s 3ms/step - loss: 0.0014\n",
            "Epoch 1218/1500\n",
            "4/4 [==============================] - 0s 3ms/step - loss: 0.0015\n",
            "Epoch 1219/1500\n",
            "4/4 [==============================] - 0s 3ms/step - loss: 0.0017\n",
            "Epoch 1220/1500\n",
            "4/4 [==============================] - 0s 3ms/step - loss: 0.0014\n",
            "Epoch 1221/1500\n",
            "4/4 [==============================] - 0s 3ms/step - loss: 0.0017\n",
            "Epoch 1222/1500\n",
            "4/4 [==============================] - 0s 3ms/step - loss: 0.0022\n",
            "Epoch 1223/1500\n",
            "4/4 [==============================] - 0s 3ms/step - loss: 0.0012\n",
            "Epoch 1224/1500\n",
            "4/4 [==============================] - 0s 3ms/step - loss: 0.0015\n",
            "Epoch 1225/1500\n",
            "4/4 [==============================] - 0s 4ms/step - loss: 0.0019\n",
            "Epoch 1226/1500\n",
            "4/4 [==============================] - 0s 4ms/step - loss: 0.0015\n",
            "Epoch 1227/1500\n",
            "4/4 [==============================] - 0s 4ms/step - loss: 0.0018\n",
            "Epoch 1228/1500\n",
            "4/4 [==============================] - 0s 4ms/step - loss: 0.0020\n",
            "Epoch 1229/1500\n",
            "4/4 [==============================] - 0s 4ms/step - loss: 0.0015\n",
            "Epoch 1230/1500\n",
            "4/4 [==============================] - 0s 4ms/step - loss: 0.0018\n",
            "Epoch 1231/1500\n",
            "4/4 [==============================] - 0s 3ms/step - loss: 0.0013\n",
            "Epoch 1232/1500\n",
            "4/4 [==============================] - 0s 3ms/step - loss: 0.0017\n",
            "Epoch 1233/1500\n",
            "4/4 [==============================] - 0s 3ms/step - loss: 0.0016\n",
            "Epoch 1234/1500\n",
            "4/4 [==============================] - 0s 5ms/step - loss: 0.0018\n",
            "Epoch 1235/1500\n",
            "4/4 [==============================] - 0s 3ms/step - loss: 0.0017\n",
            "Epoch 1236/1500\n",
            "4/4 [==============================] - 0s 3ms/step - loss: 0.0014\n",
            "Epoch 1237/1500\n",
            "4/4 [==============================] - 0s 3ms/step - loss: 0.0017\n",
            "Epoch 1238/1500\n",
            "4/4 [==============================] - 0s 3ms/step - loss: 0.0014\n",
            "Epoch 1239/1500\n",
            "4/4 [==============================] - 0s 3ms/step - loss: 0.0016\n",
            "Epoch 1240/1500\n",
            "4/4 [==============================] - 0s 3ms/step - loss: 0.0014\n",
            "Epoch 1241/1500\n",
            "4/4 [==============================] - 0s 3ms/step - loss: 0.0016\n",
            "Epoch 1242/1500\n",
            "4/4 [==============================] - 0s 3ms/step - loss: 0.0017\n",
            "Epoch 1243/1500\n",
            "4/4 [==============================] - 0s 3ms/step - loss: 0.0017\n",
            "Epoch 1244/1500\n",
            "4/4 [==============================] - 0s 3ms/step - loss: 0.0016\n",
            "Epoch 1245/1500\n",
            "4/4 [==============================] - 0s 3ms/step - loss: 0.0018\n",
            "Epoch 1246/1500\n",
            "4/4 [==============================] - 0s 3ms/step - loss: 0.0014\n",
            "Epoch 1247/1500\n",
            "4/4 [==============================] - 0s 5ms/step - loss: 0.0017\n",
            "Epoch 1248/1500\n",
            "4/4 [==============================] - 0s 5ms/step - loss: 0.0015\n",
            "Epoch 1249/1500\n",
            "4/4 [==============================] - 0s 4ms/step - loss: 0.0016\n",
            "Epoch 1250/1500\n",
            "4/4 [==============================] - 0s 3ms/step - loss: 0.0015\n",
            "Epoch 1251/1500\n",
            "4/4 [==============================] - 0s 4ms/step - loss: 0.0019\n",
            "Epoch 1252/1500\n",
            "4/4 [==============================] - 0s 4ms/step - loss: 0.0020\n",
            "Epoch 1253/1500\n",
            "4/4 [==============================] - 0s 4ms/step - loss: 0.0014\n",
            "Epoch 1254/1500\n",
            "4/4 [==============================] - 0s 4ms/step - loss: 0.0014\n",
            "Epoch 1255/1500\n",
            "4/4 [==============================] - 0s 4ms/step - loss: 0.0020\n",
            "Epoch 1256/1500\n",
            "4/4 [==============================] - 0s 4ms/step - loss: 0.0016\n",
            "Epoch 1257/1500\n",
            "4/4 [==============================] - 0s 4ms/step - loss: 0.0015\n",
            "Epoch 1258/1500\n",
            "4/4 [==============================] - 0s 3ms/step - loss: 0.0014\n",
            "Epoch 1259/1500\n",
            "4/4 [==============================] - 0s 4ms/step - loss: 0.0015\n",
            "Epoch 1260/1500\n",
            "4/4 [==============================] - 0s 3ms/step - loss: 0.0015\n",
            "Epoch 1261/1500\n",
            "4/4 [==============================] - 0s 4ms/step - loss: 0.0020\n",
            "Epoch 1262/1500\n",
            "4/4 [==============================] - 0s 5ms/step - loss: 0.0017\n",
            "Epoch 1263/1500\n",
            "4/4 [==============================] - 0s 4ms/step - loss: 0.0015\n",
            "Epoch 1264/1500\n",
            "4/4 [==============================] - 0s 4ms/step - loss: 0.0014\n",
            "Epoch 1265/1500\n",
            "4/4 [==============================] - 0s 4ms/step - loss: 0.0014\n",
            "Epoch 1266/1500\n",
            "4/4 [==============================] - 0s 4ms/step - loss: 0.0016\n",
            "Epoch 1267/1500\n",
            "4/4 [==============================] - 0s 4ms/step - loss: 0.0018\n",
            "Epoch 1268/1500\n",
            "4/4 [==============================] - 0s 3ms/step - loss: 0.0017\n",
            "Epoch 1269/1500\n",
            "4/4 [==============================] - 0s 4ms/step - loss: 0.0019\n",
            "Epoch 1270/1500\n",
            "4/4 [==============================] - 0s 3ms/step - loss: 0.0023\n",
            "Epoch 1271/1500\n",
            "4/4 [==============================] - 0s 4ms/step - loss: 0.0013\n",
            "Epoch 1272/1500\n",
            "4/4 [==============================] - 0s 4ms/step - loss: 0.0016\n",
            "Epoch 1273/1500\n",
            "4/4 [==============================] - 0s 3ms/step - loss: 0.0016\n",
            "Epoch 1274/1500\n",
            "4/4 [==============================] - 0s 4ms/step - loss: 0.0016\n",
            "Epoch 1275/1500\n",
            "4/4 [==============================] - 0s 4ms/step - loss: 0.0017\n",
            "Epoch 1276/1500\n",
            "4/4 [==============================] - 0s 4ms/step - loss: 0.0017\n",
            "Epoch 1277/1500\n",
            "4/4 [==============================] - 0s 4ms/step - loss: 0.0019\n",
            "Epoch 1278/1500\n",
            "4/4 [==============================] - 0s 3ms/step - loss: 0.0014\n",
            "Epoch 1279/1500\n",
            "4/4 [==============================] - 0s 4ms/step - loss: 0.0016\n",
            "Epoch 1280/1500\n",
            "4/4 [==============================] - 0s 3ms/step - loss: 0.0016\n",
            "Epoch 1281/1500\n",
            "4/4 [==============================] - 0s 4ms/step - loss: 0.0015\n",
            "Epoch 1282/1500\n",
            "4/4 [==============================] - 0s 3ms/step - loss: 0.0017\n",
            "Epoch 1283/1500\n",
            "4/4 [==============================] - 0s 4ms/step - loss: 0.0014\n",
            "Epoch 1284/1500\n",
            "4/4 [==============================] - 0s 4ms/step - loss: 0.0015\n",
            "Epoch 1285/1500\n",
            "4/4 [==============================] - 0s 4ms/step - loss: 0.0015\n",
            "Epoch 1286/1500\n",
            "4/4 [==============================] - 0s 5ms/step - loss: 0.0016\n",
            "Epoch 1287/1500\n",
            "4/4 [==============================] - 0s 3ms/step - loss: 0.0018\n",
            "Epoch 1288/1500\n",
            "4/4 [==============================] - 0s 3ms/step - loss: 0.0015\n",
            "Epoch 1289/1500\n",
            "4/4 [==============================] - 0s 4ms/step - loss: 0.0014\n",
            "Epoch 1290/1500\n",
            "4/4 [==============================] - 0s 5ms/step - loss: 0.0015\n",
            "Epoch 1291/1500\n",
            "4/4 [==============================] - 0s 5ms/step - loss: 0.0017\n",
            "Epoch 1292/1500\n",
            "4/4 [==============================] - 0s 5ms/step - loss: 0.0016\n",
            "Epoch 1293/1500\n",
            "4/4 [==============================] - 0s 4ms/step - loss: 0.0013\n",
            "Epoch 1294/1500\n",
            "4/4 [==============================] - 0s 5ms/step - loss: 0.0017\n",
            "Epoch 1295/1500\n",
            "4/4 [==============================] - 0s 3ms/step - loss: 0.0016\n",
            "Epoch 1296/1500\n",
            "4/4 [==============================] - 0s 3ms/step - loss: 0.0014\n",
            "Epoch 1297/1500\n",
            "4/4 [==============================] - 0s 3ms/step - loss: 0.0013\n",
            "Epoch 1298/1500\n",
            "4/4 [==============================] - 0s 3ms/step - loss: 0.0018\n",
            "Epoch 1299/1500\n",
            "4/4 [==============================] - 0s 3ms/step - loss: 0.0018\n",
            "Epoch 1300/1500\n",
            "4/4 [==============================] - 0s 4ms/step - loss: 0.0018\n",
            "Epoch 1301/1500\n",
            "4/4 [==============================] - 0s 3ms/step - loss: 0.0013\n",
            "Epoch 1302/1500\n",
            "4/4 [==============================] - 0s 3ms/step - loss: 0.0013\n",
            "Epoch 1303/1500\n",
            "4/4 [==============================] - 0s 3ms/step - loss: 0.0015\n",
            "Epoch 1304/1500\n",
            "4/4 [==============================] - 0s 4ms/step - loss: 0.0014\n",
            "Epoch 1305/1500\n",
            "4/4 [==============================] - 0s 4ms/step - loss: 0.0020\n",
            "Epoch 1306/1500\n",
            "4/4 [==============================] - 0s 4ms/step - loss: 0.0015\n",
            "Epoch 1307/1500\n",
            "4/4 [==============================] - 0s 4ms/step - loss: 0.0018\n",
            "Epoch 1308/1500\n",
            "4/4 [==============================] - 0s 3ms/step - loss: 0.0016\n",
            "Epoch 1309/1500\n",
            "4/4 [==============================] - 0s 4ms/step - loss: 0.0019\n",
            "Epoch 1310/1500\n",
            "4/4 [==============================] - 0s 3ms/step - loss: 0.0014\n",
            "Epoch 1311/1500\n",
            "4/4 [==============================] - 0s 3ms/step - loss: 0.0017\n",
            "Epoch 1312/1500\n",
            "4/4 [==============================] - 0s 5ms/step - loss: 0.0014\n",
            "Epoch 1313/1500\n",
            "4/4 [==============================] - 0s 4ms/step - loss: 0.0016\n",
            "Epoch 1314/1500\n",
            "4/4 [==============================] - 0s 5ms/step - loss: 0.0013\n",
            "Epoch 1315/1500\n",
            "4/4 [==============================] - 0s 4ms/step - loss: 0.0014\n",
            "Epoch 1316/1500\n",
            "4/4 [==============================] - 0s 4ms/step - loss: 0.0024\n",
            "Epoch 1317/1500\n",
            "4/4 [==============================] - 0s 4ms/step - loss: 0.0014\n",
            "Epoch 1318/1500\n",
            "4/4 [==============================] - 0s 4ms/step - loss: 0.0018\n",
            "Epoch 1319/1500\n",
            "4/4 [==============================] - 0s 4ms/step - loss: 0.0014\n",
            "Epoch 1320/1500\n",
            "4/4 [==============================] - 0s 4ms/step - loss: 0.0018\n",
            "Epoch 1321/1500\n",
            "4/4 [==============================] - 0s 4ms/step - loss: 0.0013\n",
            "Epoch 1322/1500\n",
            "4/4 [==============================] - 0s 4ms/step - loss: 0.0014\n",
            "Epoch 1323/1500\n",
            "4/4 [==============================] - 0s 4ms/step - loss: 0.0016\n",
            "Epoch 1324/1500\n",
            "4/4 [==============================] - 0s 4ms/step - loss: 0.0016\n",
            "Epoch 1325/1500\n",
            "4/4 [==============================] - 0s 4ms/step - loss: 0.0015\n",
            "Epoch 1326/1500\n",
            "4/4 [==============================] - 0s 4ms/step - loss: 0.0016\n",
            "Epoch 1327/1500\n",
            "4/4 [==============================] - 0s 4ms/step - loss: 0.0022\n",
            "Epoch 1328/1500\n",
            "4/4 [==============================] - 0s 3ms/step - loss: 0.0014\n",
            "Epoch 1329/1500\n",
            "4/4 [==============================] - 0s 4ms/step - loss: 0.0018\n",
            "Epoch 1330/1500\n",
            "4/4 [==============================] - 0s 4ms/step - loss: 0.0013\n",
            "Epoch 1331/1500\n",
            "4/4 [==============================] - 0s 5ms/step - loss: 0.0015\n",
            "Epoch 1332/1500\n",
            "4/4 [==============================] - 0s 4ms/step - loss: 0.0015\n",
            "Epoch 1333/1500\n",
            "4/4 [==============================] - 0s 4ms/step - loss: 0.0012\n",
            "Epoch 1334/1500\n",
            "4/4 [==============================] - 0s 5ms/step - loss: 0.0017\n",
            "Epoch 1335/1500\n",
            "4/4 [==============================] - 0s 5ms/step - loss: 0.0022\n",
            "Epoch 1336/1500\n",
            "4/4 [==============================] - 0s 4ms/step - loss: 0.0013\n",
            "Epoch 1337/1500\n",
            "4/4 [==============================] - 0s 5ms/step - loss: 0.0015\n",
            "Epoch 1338/1500\n",
            "4/4 [==============================] - 0s 4ms/step - loss: 0.0014\n",
            "Epoch 1339/1500\n",
            "4/4 [==============================] - 0s 3ms/step - loss: 0.0014\n",
            "Epoch 1340/1500\n",
            "4/4 [==============================] - 0s 4ms/step - loss: 0.0016\n",
            "Epoch 1341/1500\n",
            "4/4 [==============================] - 0s 3ms/step - loss: 0.0016\n",
            "Epoch 1342/1500\n",
            "4/4 [==============================] - 0s 4ms/step - loss: 0.0013\n",
            "Epoch 1343/1500\n",
            "4/4 [==============================] - 0s 4ms/step - loss: 0.0018\n",
            "Epoch 1344/1500\n",
            "4/4 [==============================] - 0s 3ms/step - loss: 0.0013\n",
            "Epoch 1345/1500\n",
            "4/4 [==============================] - 0s 4ms/step - loss: 0.0016\n",
            "Epoch 1346/1500\n",
            "4/4 [==============================] - 0s 4ms/step - loss: 0.0016\n",
            "Epoch 1347/1500\n",
            "4/4 [==============================] - 0s 3ms/step - loss: 0.0014\n",
            "Epoch 1348/1500\n",
            "4/4 [==============================] - 0s 3ms/step - loss: 0.0016\n",
            "Epoch 1349/1500\n",
            "4/4 [==============================] - 0s 3ms/step - loss: 0.0015\n",
            "Epoch 1350/1500\n",
            "4/4 [==============================] - 0s 3ms/step - loss: 0.0014\n",
            "Epoch 1351/1500\n",
            "4/4 [==============================] - 0s 4ms/step - loss: 0.0016\n",
            "Epoch 1352/1500\n",
            "4/4 [==============================] - 0s 4ms/step - loss: 0.0018\n",
            "Epoch 1353/1500\n",
            "4/4 [==============================] - 0s 4ms/step - loss: 0.0016\n",
            "Epoch 1354/1500\n",
            "4/4 [==============================] - 0s 4ms/step - loss: 0.0013\n",
            "Epoch 1355/1500\n",
            "4/4 [==============================] - 0s 4ms/step - loss: 0.0012\n",
            "Epoch 1356/1500\n",
            "4/4 [==============================] - 0s 5ms/step - loss: 0.0018\n",
            "Epoch 1357/1500\n",
            "4/4 [==============================] - 0s 6ms/step - loss: 0.0017\n",
            "Epoch 1358/1500\n",
            "4/4 [==============================] - 0s 4ms/step - loss: 0.0013\n",
            "Epoch 1359/1500\n",
            "4/4 [==============================] - 0s 5ms/step - loss: 0.0013\n",
            "Epoch 1360/1500\n",
            "4/4 [==============================] - 0s 3ms/step - loss: 0.0018\n",
            "Epoch 1361/1500\n",
            "4/4 [==============================] - 0s 3ms/step - loss: 0.0014\n",
            "Epoch 1362/1500\n",
            "4/4 [==============================] - 0s 4ms/step - loss: 0.0016\n",
            "Epoch 1363/1500\n",
            "4/4 [==============================] - 0s 5ms/step - loss: 0.0016\n",
            "Epoch 1364/1500\n",
            "4/4 [==============================] - 0s 4ms/step - loss: 0.0017\n",
            "Epoch 1365/1500\n",
            "4/4 [==============================] - 0s 4ms/step - loss: 0.0013\n",
            "Epoch 1366/1500\n",
            "4/4 [==============================] - 0s 4ms/step - loss: 0.0020\n",
            "Epoch 1367/1500\n",
            "4/4 [==============================] - 0s 4ms/step - loss: 0.0015\n",
            "Epoch 1368/1500\n",
            "4/4 [==============================] - 0s 3ms/step - loss: 0.0014\n",
            "Epoch 1369/1500\n",
            "4/4 [==============================] - 0s 4ms/step - loss: 0.0014\n",
            "Epoch 1370/1500\n",
            "4/4 [==============================] - 0s 5ms/step - loss: 0.0019\n",
            "Epoch 1371/1500\n",
            "4/4 [==============================] - 0s 5ms/step - loss: 0.0016\n",
            "Epoch 1372/1500\n",
            "4/4 [==============================] - 0s 4ms/step - loss: 0.0014\n",
            "Epoch 1373/1500\n",
            "4/4 [==============================] - 0s 4ms/step - loss: 0.0013\n",
            "Epoch 1374/1500\n",
            "4/4 [==============================] - 0s 4ms/step - loss: 0.0015\n",
            "Epoch 1375/1500\n",
            "4/4 [==============================] - 0s 4ms/step - loss: 0.0018\n",
            "Epoch 1376/1500\n",
            "4/4 [==============================] - 0s 4ms/step - loss: 0.0020\n",
            "Epoch 1377/1500\n",
            "4/4 [==============================] - 0s 4ms/step - loss: 0.0017\n",
            "Epoch 1378/1500\n",
            "4/4 [==============================] - 0s 4ms/step - loss: 0.0013\n",
            "Epoch 1379/1500\n",
            "4/4 [==============================] - 0s 4ms/step - loss: 0.0016\n",
            "Epoch 1380/1500\n",
            "4/4 [==============================] - 0s 4ms/step - loss: 0.0014\n",
            "Epoch 1381/1500\n",
            "4/4 [==============================] - 0s 4ms/step - loss: 0.0019\n",
            "Epoch 1382/1500\n",
            "4/4 [==============================] - 0s 3ms/step - loss: 0.0013\n",
            "Epoch 1383/1500\n",
            "4/4 [==============================] - 0s 3ms/step - loss: 0.0016\n",
            "Epoch 1384/1500\n",
            "4/4 [==============================] - 0s 4ms/step - loss: 0.0015\n",
            "Epoch 1385/1500\n",
            "4/4 [==============================] - 0s 3ms/step - loss: 0.0014\n",
            "Epoch 1386/1500\n",
            "4/4 [==============================] - 0s 3ms/step - loss: 0.0014\n",
            "Epoch 1387/1500\n",
            "4/4 [==============================] - 0s 4ms/step - loss: 0.0015\n",
            "Epoch 1388/1500\n",
            "4/4 [==============================] - 0s 4ms/step - loss: 0.0016\n",
            "Epoch 1389/1500\n",
            "4/4 [==============================] - 0s 4ms/step - loss: 0.0018\n",
            "Epoch 1390/1500\n",
            "4/4 [==============================] - 0s 3ms/step - loss: 0.0014\n",
            "Epoch 1391/1500\n",
            "4/4 [==============================] - 0s 4ms/step - loss: 0.0014\n",
            "Epoch 1392/1500\n",
            "4/4 [==============================] - 0s 5ms/step - loss: 0.0015\n",
            "Epoch 1393/1500\n",
            "4/4 [==============================] - 0s 4ms/step - loss: 0.0017\n",
            "Epoch 1394/1500\n",
            "4/4 [==============================] - 0s 4ms/step - loss: 0.0017\n",
            "Epoch 1395/1500\n",
            "4/4 [==============================] - 0s 4ms/step - loss: 0.0018\n",
            "Epoch 1396/1500\n",
            "4/4 [==============================] - 0s 3ms/step - loss: 0.0012\n",
            "Epoch 1397/1500\n",
            "4/4 [==============================] - 0s 3ms/step - loss: 0.0014\n",
            "Epoch 1398/1500\n",
            "4/4 [==============================] - 0s 3ms/step - loss: 0.0014\n",
            "Epoch 1399/1500\n",
            "4/4 [==============================] - 0s 3ms/step - loss: 0.0018\n",
            "Epoch 1400/1500\n",
            "4/4 [==============================] - 0s 3ms/step - loss: 0.0014\n",
            "Epoch 1401/1500\n",
            "4/4 [==============================] - 0s 3ms/step - loss: 0.0017\n",
            "Epoch 1402/1500\n",
            "4/4 [==============================] - 0s 3ms/step - loss: 0.0013\n",
            "Epoch 1403/1500\n",
            "4/4 [==============================] - 0s 4ms/step - loss: 0.0014\n",
            "Epoch 1404/1500\n",
            "4/4 [==============================] - 0s 3ms/step - loss: 0.0021\n",
            "Epoch 1405/1500\n",
            "4/4 [==============================] - 0s 3ms/step - loss: 0.0013\n",
            "Epoch 1406/1500\n",
            "4/4 [==============================] - 0s 3ms/step - loss: 0.0012\n",
            "Epoch 1407/1500\n",
            "4/4 [==============================] - 0s 3ms/step - loss: 0.0016\n",
            "Epoch 1408/1500\n",
            "4/4 [==============================] - 0s 3ms/step - loss: 0.0014\n",
            "Epoch 1409/1500\n",
            "4/4 [==============================] - 0s 3ms/step - loss: 0.0013\n",
            "Epoch 1410/1500\n",
            "4/4 [==============================] - 0s 3ms/step - loss: 0.0014\n",
            "Epoch 1411/1500\n",
            "4/4 [==============================] - 0s 5ms/step - loss: 0.0013\n",
            "Epoch 1412/1500\n",
            "4/4 [==============================] - 0s 5ms/step - loss: 0.0019\n",
            "Epoch 1413/1500\n",
            "4/4 [==============================] - 0s 5ms/step - loss: 0.0013\n",
            "Epoch 1414/1500\n",
            "4/4 [==============================] - 0s 4ms/step - loss: 0.0015\n",
            "Epoch 1415/1500\n",
            "4/4 [==============================] - 0s 4ms/step - loss: 0.0012\n",
            "Epoch 1416/1500\n",
            "4/4 [==============================] - 0s 4ms/step - loss: 0.0018\n",
            "Epoch 1417/1500\n",
            "4/4 [==============================] - 0s 4ms/step - loss: 0.0012\n",
            "Epoch 1418/1500\n",
            "4/4 [==============================] - 0s 3ms/step - loss: 0.0017\n",
            "Epoch 1419/1500\n",
            "4/4 [==============================] - 0s 4ms/step - loss: 0.0018\n",
            "Epoch 1420/1500\n",
            "4/4 [==============================] - 0s 4ms/step - loss: 0.0014\n",
            "Epoch 1421/1500\n",
            "4/4 [==============================] - 0s 4ms/step - loss: 0.0012\n",
            "Epoch 1422/1500\n",
            "4/4 [==============================] - 0s 4ms/step - loss: 0.0015\n",
            "Epoch 1423/1500\n",
            "4/4 [==============================] - 0s 4ms/step - loss: 0.0012\n",
            "Epoch 1424/1500\n",
            "4/4 [==============================] - 0s 3ms/step - loss: 0.0012\n",
            "Epoch 1425/1500\n",
            "4/4 [==============================] - 0s 3ms/step - loss: 0.0017\n",
            "Epoch 1426/1500\n",
            "4/4 [==============================] - 0s 3ms/step - loss: 0.0015\n",
            "Epoch 1427/1500\n",
            "4/4 [==============================] - 0s 4ms/step - loss: 0.0014\n",
            "Epoch 1428/1500\n",
            "4/4 [==============================] - 0s 4ms/step - loss: 0.0020\n",
            "Epoch 1429/1500\n",
            "4/4 [==============================] - 0s 4ms/step - loss: 0.0013\n",
            "Epoch 1430/1500\n",
            "4/4 [==============================] - 0s 4ms/step - loss: 0.0013\n",
            "Epoch 1431/1500\n",
            "4/4 [==============================] - 0s 5ms/step - loss: 0.0014\n",
            "Epoch 1432/1500\n",
            "4/4 [==============================] - 0s 3ms/step - loss: 0.0016\n",
            "Epoch 1433/1500\n",
            "4/4 [==============================] - 0s 4ms/step - loss: 0.0012\n",
            "Epoch 1434/1500\n",
            "4/4 [==============================] - 0s 3ms/step - loss: 0.0015\n",
            "Epoch 1435/1500\n",
            "4/4 [==============================] - 0s 5ms/step - loss: 0.0018\n",
            "Epoch 1436/1500\n",
            "4/4 [==============================] - 0s 4ms/step - loss: 0.0014\n",
            "Epoch 1437/1500\n",
            "4/4 [==============================] - 0s 4ms/step - loss: 0.0012\n",
            "Epoch 1438/1500\n",
            "4/4 [==============================] - 0s 4ms/step - loss: 0.0016\n",
            "Epoch 1439/1500\n",
            "4/4 [==============================] - 0s 4ms/step - loss: 0.0014\n",
            "Epoch 1440/1500\n",
            "4/4 [==============================] - 0s 3ms/step - loss: 0.0020\n",
            "Epoch 1441/1500\n",
            "4/4 [==============================] - 0s 3ms/step - loss: 0.0013\n",
            "Epoch 1442/1500\n",
            "4/4 [==============================] - 0s 3ms/step - loss: 0.0011\n",
            "Epoch 1443/1500\n",
            "4/4 [==============================] - 0s 4ms/step - loss: 0.0016\n",
            "Epoch 1444/1500\n",
            "4/4 [==============================] - 0s 3ms/step - loss: 0.0015\n",
            "Epoch 1445/1500\n",
            "4/4 [==============================] - 0s 5ms/step - loss: 0.0015\n",
            "Epoch 1446/1500\n",
            "4/4 [==============================] - 0s 4ms/step - loss: 0.0013\n",
            "Epoch 1447/1500\n",
            "4/4 [==============================] - 0s 4ms/step - loss: 0.0016\n",
            "Epoch 1448/1500\n",
            "4/4 [==============================] - 0s 3ms/step - loss: 0.0012\n",
            "Epoch 1449/1500\n",
            "4/4 [==============================] - 0s 4ms/step - loss: 0.0015\n",
            "Epoch 1450/1500\n",
            "4/4 [==============================] - 0s 4ms/step - loss: 0.0018\n",
            "Epoch 1451/1500\n",
            "4/4 [==============================] - 0s 4ms/step - loss: 0.0013\n",
            "Epoch 1452/1500\n",
            "4/4 [==============================] - 0s 4ms/step - loss: 0.0016\n",
            "Epoch 1453/1500\n",
            "4/4 [==============================] - 0s 4ms/step - loss: 0.0016\n",
            "Epoch 1454/1500\n",
            "4/4 [==============================] - 0s 4ms/step - loss: 0.0016\n",
            "Epoch 1455/1500\n",
            "4/4 [==============================] - 0s 3ms/step - loss: 0.0016\n",
            "Epoch 1456/1500\n",
            "4/4 [==============================] - 0s 4ms/step - loss: 0.0014\n",
            "Epoch 1457/1500\n",
            "4/4 [==============================] - 0s 3ms/step - loss: 0.0012\n",
            "Epoch 1458/1500\n",
            "4/4 [==============================] - 0s 3ms/step - loss: 0.0017\n",
            "Epoch 1459/1500\n",
            "4/4 [==============================] - 0s 4ms/step - loss: 0.0016\n",
            "Epoch 1460/1500\n",
            "4/4 [==============================] - 0s 3ms/step - loss: 0.0017\n",
            "Epoch 1461/1500\n",
            "4/4 [==============================] - 0s 3ms/step - loss: 0.0017\n",
            "Epoch 1462/1500\n",
            "4/4 [==============================] - 0s 3ms/step - loss: 0.0013\n",
            "Epoch 1463/1500\n",
            "4/4 [==============================] - 0s 4ms/step - loss: 0.0017\n",
            "Epoch 1464/1500\n",
            "4/4 [==============================] - 0s 3ms/step - loss: 0.0012\n",
            "Epoch 1465/1500\n",
            "4/4 [==============================] - 0s 3ms/step - loss: 0.0014\n",
            "Epoch 1466/1500\n",
            "4/4 [==============================] - 0s 5ms/step - loss: 0.0016\n",
            "Epoch 1467/1500\n",
            "4/4 [==============================] - 0s 6ms/step - loss: 0.0015\n",
            "Epoch 1468/1500\n",
            "4/4 [==============================] - 0s 6ms/step - loss: 0.0014\n",
            "Epoch 1469/1500\n",
            "4/4 [==============================] - 0s 6ms/step - loss: 0.0016\n",
            "Epoch 1470/1500\n",
            "4/4 [==============================] - 0s 4ms/step - loss: 0.0013\n",
            "Epoch 1471/1500\n",
            "4/4 [==============================] - 0s 5ms/step - loss: 0.0014\n",
            "Epoch 1472/1500\n",
            "4/4 [==============================] - 0s 5ms/step - loss: 0.0017\n",
            "Epoch 1473/1500\n",
            "4/4 [==============================] - 0s 4ms/step - loss: 0.0014\n",
            "Epoch 1474/1500\n",
            "4/4 [==============================] - 0s 5ms/step - loss: 0.0019\n",
            "Epoch 1475/1500\n",
            "4/4 [==============================] - 0s 6ms/step - loss: 0.0013\n",
            "Epoch 1476/1500\n",
            "4/4 [==============================] - 0s 5ms/step - loss: 0.0012\n",
            "Epoch 1477/1500\n",
            "4/4 [==============================] - 0s 4ms/step - loss: 0.0015\n",
            "Epoch 1478/1500\n",
            "4/4 [==============================] - 0s 4ms/step - loss: 0.0021\n",
            "Epoch 1479/1500\n",
            "4/4 [==============================] - 0s 5ms/step - loss: 0.0015\n",
            "Epoch 1480/1500\n",
            "4/4 [==============================] - 0s 4ms/step - loss: 0.0012\n",
            "Epoch 1481/1500\n",
            "4/4 [==============================] - 0s 4ms/step - loss: 0.0013\n",
            "Epoch 1482/1500\n",
            "4/4 [==============================] - 0s 4ms/step - loss: 0.0016\n",
            "Epoch 1483/1500\n",
            "4/4 [==============================] - 0s 4ms/step - loss: 0.0013\n",
            "Epoch 1484/1500\n",
            "4/4 [==============================] - 0s 4ms/step - loss: 0.0014\n",
            "Epoch 1485/1500\n",
            "4/4 [==============================] - 0s 4ms/step - loss: 0.0012\n",
            "Epoch 1486/1500\n",
            "4/4 [==============================] - 0s 4ms/step - loss: 0.0014\n",
            "Epoch 1487/1500\n",
            "4/4 [==============================] - 0s 4ms/step - loss: 0.0022\n",
            "Epoch 1488/1500\n",
            "4/4 [==============================] - 0s 3ms/step - loss: 0.0016\n",
            "Epoch 1489/1500\n",
            "4/4 [==============================] - 0s 3ms/step - loss: 0.0013\n",
            "Epoch 1490/1500\n",
            "4/4 [==============================] - 0s 4ms/step - loss: 0.0013\n",
            "Epoch 1491/1500\n",
            "4/4 [==============================] - 0s 3ms/step - loss: 0.0013\n",
            "Epoch 1492/1500\n",
            "4/4 [==============================] - 0s 3ms/step - loss: 0.0018\n",
            "Epoch 1493/1500\n",
            "4/4 [==============================] - 0s 3ms/step - loss: 0.0016\n",
            "Epoch 1494/1500\n",
            "4/4 [==============================] - 0s 4ms/step - loss: 0.0014\n",
            "Epoch 1495/1500\n",
            "4/4 [==============================] - 0s 4ms/step - loss: 0.0012\n",
            "Epoch 1496/1500\n",
            "4/4 [==============================] - 0s 4ms/step - loss: 0.0012\n",
            "Epoch 1497/1500\n",
            "4/4 [==============================] - 0s 4ms/step - loss: 0.0014\n",
            "Epoch 1498/1500\n",
            "4/4 [==============================] - 0s 4ms/step - loss: 0.0014\n",
            "Epoch 1499/1500\n",
            "4/4 [==============================] - 0s 4ms/step - loss: 0.0014\n",
            "Epoch 1500/1500\n",
            "4/4 [==============================] - 0s 3ms/step - loss: 0.0017\n",
            "CPU times: user 25.8 s, sys: 1.66 s, total: 27.5 s\n",
            "Wall time: 30.6 s\n"
          ]
        }
      ],
      "source": [
        "%time hist = model.fit(f, l, epochs=1500, verbose=True)"
      ]
    },
    {
      "cell_type": "code",
      "execution_count": 30,
      "metadata": {
        "id": "SKwFeB-qhtBW"
      },
      "outputs": [],
      "source": [
        "p = model.predict(f).flatten() # transfer multiple dimension into on-dimension"
      ]
    },
    {
      "cell_type": "code",
      "execution_count": 31,
      "metadata": {
        "colab": {
          "base_uri": "https://localhost:8080/"
        },
        "id": "Tx6hnfFthtBW",
        "outputId": "db89c16e-5250-4e0f-ad8a-8c22e5b24f1d"
      },
      "outputs": [
        {
          "output_type": "execute_result",
          "data": {
            "text/plain": [
              "0.0011343851756047746"
            ]
          },
          "metadata": {},
          "execution_count": 31
        }
      ],
      "source": [
        "MSE(l, p)"
      ]
    },
    {
      "cell_type": "code",
      "execution_count": 32,
      "metadata": {
        "colab": {
          "base_uri": "https://localhost:8080/",
          "height": 373
        },
        "id": "5Tz-Ny6ahtBW",
        "outputId": "4fc93c6f-2eb4-4951-db2e-4aacb19751ba"
      },
      "outputs": [
        {
          "output_type": "display_data",
          "data": {
            "text/plain": [
              "<Figure size 720x432 with 1 Axes>"
            ],
            "image/png": "[encoded data removed]"
          },
          "metadata": {
            "needs_background": "light"
          }
        }
      ],
      "source": [
        "plt.figure(figsize=(10, 6))\n",
        "plt.plot(f, l, 'ro', label='sample data')\n",
        "plt.plot(f, p, '--', label='DNN approximation')\n",
        "plt.legend();"
      ]
    },
    {
      "cell_type": "code",
      "execution_count": 33,
      "metadata": {
        "id": "dg1KxEtzhtBW"
      },
      "outputs": [],
      "source": [
        "import pandas as pd"
      ]
    },
    {
      "cell_type": "code",
      "execution_count": 34,
      "metadata": {
        "id": "ftruA39vhtBX"
      },
      "outputs": [],
      "source": [
        "res = pd.DataFrame(hist.history)"
      ]
    },
    {
      "cell_type": "code",
      "execution_count": 38,
      "metadata": {
        "colab": {
          "base_uri": "https://localhost:8080/",
          "height": 206
        },
        "id": "hWcqEnANhtBX",
        "outputId": "49d16c5f-ec68-4a59-c440-abfdc8726ddf"
      },
      "outputs": [
        {
          "output_type": "execute_result",
          "data": {
            "text/plain": [
              "          loss\n",
              "1495  0.001234\n",
              "1496  0.001439\n",
              "1497  0.001428\n",
              "1498  0.001351\n",
              "1499  0.001687"
            ],
            "text/html": [
              "\n",
              "  <div id=\"df-417cb9b4-3f87-4dc5-91e2-cc3a13b6e834\">\n",
              "    <div class=\"colab-df-container\">\n",
              "      <div>\n",
              "<style scoped>\n",
              "    .dataframe tbody tr th:only-of-type {\n",
              "        vertical-align: middle;\n",
              "    }\n",
              "\n",
              "    .dataframe tbody tr th {\n",
              "        vertical-align: top;\n",
              "    }\n",
              "\n",
              "    .dataframe thead th {\n",
              "        text-align: right;\n",
              "    }\n",
              "</style>\n",
              "<table border=\"1\" class=\"dataframe\">\n",
              "  <thead>\n",
              "    <tr style=\"text-align: right;\">\n",
              "      <th></th>\n",
              "      <th>loss</th>\n",
              "    </tr>\n",
              "  </thead>\n",
              "  <tbody>\n",
              "    <tr>\n",
              "      <th>1495</th>\n",
              "      <td>0.001234</td>\n",
              "    </tr>\n",
              "    <tr>\n",
              "      <th>1496</th>\n",
              "      <td>0.001439</td>\n",
              "    </tr>\n",
              "    <tr>\n",
              "      <th>1497</th>\n",
              "      <td>0.001428</td>\n",
              "    </tr>\n",
              "    <tr>\n",
              "      <th>1498</th>\n",
              "      <td>0.001351</td>\n",
              "    </tr>\n",
              "    <tr>\n",
              "      <th>1499</th>\n",
              "      <td>0.001687</td>\n",
              "    </tr>\n",
              "  </tbody>\n",
              "</table>\n",
              "</div>\n",
              "      <button class=\"colab-df-convert\" onclick=\"convertToInteractive('df-417cb9b4-3f87-4dc5-91e2-cc3a13b6e834')\"\n",
              "              title=\"Convert this dataframe to an interactive table.\"\n",
              "              style=\"display:none;\">\n",
              "        \n",
              "  <svg xmlns=\"http://www.w3.org/2000/svg\" height=\"24px\"viewBox=\"0 0 24 24\"\n",
              "       width=\"24px\">\n",
              "    <path d=\"M0 0h24v24H0V0z\" fill=\"none\"/>\n",
              "    <path d=\"M18.56 5.44l.94 2.06.94-2.06 2.06-.94-2.06-.94-.94-2.06-.94 2.06-2.06.94zm-11 1L8.5 8.5l.94-2.06 2.06-.94-2.06-.94L8.5 2.5l-.94 2.06-2.06.94zm10 10l.94 2.06.94-2.06 2.06-.94-2.06-.94-.94-2.06-.94 2.06-2.06.94z\"/><path d=\"M17.41 7.96l-1.37-1.37c-.4-.4-.92-.59-1.43-.59-.52 0-1.04.2-1.43.59L10.3 9.45l-7.72 7.72c-.78.78-.78 2.05 0 2.83L4 21.41c.39.39.9.59 1.41.59.51 0 1.02-.2 1.41-.59l7.78-7.78 2.81-2.81c.8-.78.8-2.07 0-2.86zM5.41 20L4 18.59l7.72-7.72 1.47 1.35L5.41 20z\"/>\n",
              "  </svg>\n",
              "      </button>\n",
              "      \n",
              "  <style>\n",
              "    .colab-df-container {\n",
              "      display:flex;\n",
              "      flex-wrap:wrap;\n",
              "      gap: 12px;\n",
              "    }\n",
              "\n",
              "    .colab-df-convert {\n",
              "      background-color: #E8F0FE;\n",
              "      border: none;\n",
              "      border-radius: 50%;\n",
              "      cursor: pointer;\n",
              "      display: none;\n",
              "      fill: #1967D2;\n",
              "      height: 32px;\n",
              "      padding: 0 0 0 0;\n",
              "      width: 32px;\n",
              "    }\n",
              "\n",
              "    .colab-df-convert:hover {\n",
              "      background-color: #E2EBFA;\n",
              "      box-shadow: 0px 1px 2px rgba(60, 64, 67, 0.3), 0px 1px 3px 1px rgba(60, 64, 67, 0.15);\n",
              "      fill: #174EA6;\n",
              "    }\n",
              "\n",
              "    [theme=dark] .colab-df-convert {\n",
              "      background-color: #3B4455;\n",
              "      fill: #D2E3FC;\n",
              "    }\n",
              "\n",
              "    [theme=dark] .colab-df-convert:hover {\n",
              "      background-color: #434B5C;\n",
              "      box-shadow: 0px 1px 3px 1px rgba(0, 0, 0, 0.15);\n",
              "      filter: drop-shadow(0px 1px 2px rgba(0, 0, 0, 0.3));\n",
              "      fill: #FFFFFF;\n",
              "    }\n",
              "  </style>\n",
              "\n",
              "      <script>\n",
              "        const buttonEl =\n",
              "          document.querySelector('#df-417cb9b4-3f87-4dc5-91e2-cc3a13b6e834 button.colab-df-convert');\n",
              "        buttonEl.style.display =\n",
              "          google.colab.kernel.accessAllowed ? 'block' : 'none';\n",
              "\n",
              "        async function convertToInteractive(key) {\n",
              "          const element = document.querySelector('#df-417cb9b4-3f87-4dc5-91e2-cc3a13b6e834');\n",
              "          const dataTable =\n",
              "            await google.colab.kernel.invokeFunction('convertToInteractive',\n",
              "                                                     [key], {});\n",
              "          if (!dataTable) return;\n",
              "\n",
              "          const docLinkHtml = 'Like what you see? Visit the ' +\n",
              "            '<a target=\"_blank\" href=https://colab.research.google.com/notebooks/data_table.ipynb>data table notebook</a>'\n",
              "            + ' to learn more about interactive tables.';\n",
              "          element.innerHTML = '';\n",
              "          dataTable['output_type'] = 'display_data';\n",
              "          await google.colab.output.renderOutput(dataTable, element);\n",
              "          const docLink = document.createElement('div');\n",
              "          docLink.innerHTML = docLinkHtml;\n",
              "          element.appendChild(docLink);\n",
              "        }\n",
              "      </script>\n",
              "    </div>\n",
              "  </div>\n",
              "  "
            ]
          },
          "metadata": {},
          "execution_count": 38
        }
      ],
      "source": [
        "res.tail()"
      ]
    },
    {
      "cell_type": "code",
      "execution_count": 36,
      "metadata": {
        "colab": {
          "base_uri": "https://localhost:8080/",
          "height": 387
        },
        "id": "ycQziX7XhtBX",
        "outputId": "4c1cb27e-a66e-4c24-d9dc-e65f1b7b4c68"
      },
      "outputs": [
        {
          "output_type": "display_data",
          "data": {
            "text/plain": [
              "<Figure size 720x432 with 1 Axes>"
            ],
            "image/png": "[encoded data removed]"
          },
          "metadata": {
            "needs_background": "light"
          }
        }
      ],
      "source": [
        "res.iloc[100:].plot(figsize=(10, 6))\n",
        "plt.ylabel('MSE')\n",
        "plt.xlabel('epochs');"
      ]
    },
    {
      "cell_type": "code",
      "source": [
        "res.plot(figsize=(10, 6))\n",
        "plt.ylabel('MSE')\n",
        "plt.xlabel('epochs');"
      ],
      "metadata": {
        "colab": {
          "base_uri": "https://localhost:8080/",
          "height": 387
        },
        "id": "whN79DFG1T2T",
        "outputId": "dc6c9e3d-27ae-47b7-b77c-181a0c2993d2"
      },
      "execution_count": 39,
      "outputs": [
        {
          "output_type": "display_data",
          "data": {
            "text/plain": [
              "<Figure size 720x432 with 1 Axes>"
            ],
            "image/png": "[encoded data removed]"
          },
          "metadata": {
            "needs_background": "light"
          }
        }
      ]
    },
    {
      "cell_type": "markdown",
      "metadata": {
        "id": "IUJlHhWihtBX"
      },
      "source": [
        "## Capacity"
      ]
    },
    {
      "cell_type": "code",
      "execution_count": 40,
      "metadata": {
        "colab": {
          "base_uri": "https://localhost:8080/"
        },
        "id": "9yNouGIghtBX",
        "outputId": "8c245eb9-edca-4d6b-c93f-d05ca2446cd1"
      },
      "outputs": [
        {
          "output_type": "stream",
          "name": "stdout",
          "text": [
            " 1 | MSE=0.005322474034260403\n",
            " 3 | MSE=0.004353110724143182\n",
            " 5 | MSE=0.003416642295737102\n",
            " 7 | MSE=0.0027389501772354017\n",
            " 9 | MSE=0.0014119616263308492\n",
            "11 | MSE=0.00126512378687523\n"
          ]
        }
      ],
      "source": [
        "reg = {}\n",
        "for d in range(1, 12, 2):\n",
        "    reg[d] = np.polyfit(f, l, deg=d)\n",
        "    p = np.polyval(reg[d], f)\n",
        "    mse = MSE(l, p)\n",
        "    print(f'{d:2d} | MSE={mse}')"
      ]
    },
    {
      "cell_type": "code",
      "execution_count": 41,
      "metadata": {
        "colab": {
          "base_uri": "https://localhost:8080/",
          "height": 373
        },
        "id": "mgpyvr2ehtBX",
        "outputId": "e75660f2-0a87-401a-a116-afd66260ef3b"
      },
      "outputs": [
        {
          "output_type": "display_data",
          "data": {
            "text/plain": [
              "<Figure size 720x432 with 1 Axes>"
            ],
            "image/png": "[encoded data removed]"
          },
          "metadata": {
            "needs_background": "light"
          }
        }
      ],
      "source": [
        "plt.figure(figsize=(10, 6))\n",
        "plt.plot(f, l, 'ro', label='sample data')\n",
        "for d in reg:\n",
        "    p = np.polyval(reg[d], f)\n",
        "    plt.plot(f, p, '--', label=f'deg={d}')\n",
        "plt.legend(); "
      ]
    },
    {
      "cell_type": "code",
      "execution_count": 42,
      "metadata": {
        "id": "av3TgbjPhtBX"
      },
      "outputs": [],
      "source": [
        "def create_dnn_model(hl=1, hu=256):\n",
        "    ''' Function to create Keras DNN model.\n",
        "    \n",
        "    Parameters\n",
        "    ==========\n",
        "    hl: int\n",
        "        number of hidden layers\n",
        "    hu: int\n",
        "        number of hidden units (per layer)\n",
        "    '''\n",
        "    model = Sequential()\n",
        "    for _ in range(hl):\n",
        "        model.add(Dense(hu, activation='relu', input_dim=1))\n",
        "    model.add(Dense(1, activation='linear'))\n",
        "    model.compile(loss='mse', optimizer='rmsprop')\n",
        "    return model"
      ]
    },
    {
      "cell_type": "code",
      "execution_count": 43,
      "metadata": {
        "id": "cT6gHtcAhtBX"
      },
      "outputs": [],
      "source": [
        "model = create_dnn_model(3)"
      ]
    },
    {
      "cell_type": "code",
      "execution_count": 44,
      "metadata": {
        "colab": {
          "base_uri": "https://localhost:8080/"
        },
        "id": "bHIG-6hFhtBY",
        "outputId": "62c1f099-daba-4514-ca88-9e71014f4afc"
      },
      "outputs": [
        {
          "output_type": "stream",
          "name": "stdout",
          "text": [
            "Model: \"sequential_2\"\n",
            "_________________________________________________________________\n",
            " Layer (type)                Output Shape              Param #   \n",
            "=================================================================\n",
            " dense_4 (Dense)             (None, 256)               512       \n",
            "                                                                 \n",
            " dense_5 (Dense)             (None, 256)               65792     \n",
            "                                                                 \n",
            " dense_6 (Dense)             (None, 256)               65792     \n",
            "                                                                 \n",
            " dense_7 (Dense)             (None, 1)                 257       \n",
            "                                                                 \n",
            "=================================================================\n",
            "Total params: 132,353\n",
            "Trainable params: 132,353\n",
            "Non-trainable params: 0\n",
            "_________________________________________________________________\n"
          ]
        }
      ],
      "source": [
        "model.summary()"
      ]
    },
    {
      "cell_type": "code",
      "execution_count": 45,
      "metadata": {
        "colab": {
          "base_uri": "https://localhost:8080/"
        },
        "id": "ibEKlQrqhtBY",
        "outputId": "e5a6b53f-1f58-40f6-bf5f-12f47d871cdc"
      },
      "outputs": [
        {
          "output_type": "stream",
          "name": "stdout",
          "text": [
            "CPU times: user 43.7 s, sys: 2.13 s, total: 45.8 s\n",
            "Wall time: 41.6 s\n"
          ]
        },
        {
          "output_type": "execute_result",
          "data": {
            "text/plain": [
              "<keras.callbacks.History at 0x7f9134dd9350>"
            ]
          },
          "metadata": {},
          "execution_count": 45
        }
      ],
      "source": [
        "%time model.fit(f, l, epochs=2500, verbose=False)"
      ]
    },
    {
      "cell_type": "code",
      "execution_count": 46,
      "metadata": {
        "id": "GeGdNEVchtBY"
      },
      "outputs": [],
      "source": [
        "p = model.predict(f).flatten()"
      ]
    },
    {
      "cell_type": "code",
      "execution_count": 47,
      "metadata": {
        "colab": {
          "base_uri": "https://localhost:8080/"
        },
        "id": "a0laZRvyhtBY",
        "outputId": "22c7ca18-0dab-4bbf-ba93-8c46464d2f35"
      },
      "outputs": [
        {
          "output_type": "execute_result",
          "data": {
            "text/plain": [
              "0.0004728550513578202"
            ]
          },
          "metadata": {},
          "execution_count": 47
        }
      ],
      "source": [
        "MSE(l, p)"
      ]
    },
    {
      "cell_type": "code",
      "execution_count": 48,
      "metadata": {
        "colab": {
          "base_uri": "https://localhost:8080/",
          "height": 373
        },
        "id": "YR2ZAXzjhtBY",
        "outputId": "c1891682-0e78-4075-b498-909d38f5b011"
      },
      "outputs": [
        {
          "output_type": "display_data",
          "data": {
            "text/plain": [
              "<Figure size 720x432 with 1 Axes>"
            ],
            "image/png": "[encoded data removed]"
          },
          "metadata": {
            "needs_background": "light"
          }
        }
      ],
      "source": [
        "plt.figure(figsize=(10, 6))\n",
        "plt.plot(f, l, 'r', label='sample data')\n",
        "plt.plot(f, p, '--', label='DNN approximation')\n",
        "plt.legend();"
      ]
    },
    {
      "cell_type": "markdown",
      "metadata": {
        "id": "vMdmnn9ChtBY"
      },
      "source": [
        "## Evaluation"
      ]
    },
    {
      "cell_type": "code",
      "execution_count": 50,
      "metadata": {
        "id": "_t5NRZdlhtBY"
      },
      "outputs": [],
      "source": [
        "te = int(0.25 * len(f)) # test 30\n",
        "va = int(0.25 * len(f)) # validation 30 \n",
        "#training - 61"
      ]
    },
    {
      "cell_type": "code",
      "execution_count": 49,
      "metadata": {
        "id": "VoOGDQ-ThtBY"
      },
      "outputs": [],
      "source": [
        "np.random.seed(100)\n",
        "ind = np.arange(len(f))\n",
        "np.random.shuffle(ind)"
      ]
    },
    {
      "cell_type": "code",
      "source": [
        "ind"
      ],
      "metadata": {
        "colab": {
          "base_uri": "https://localhost:8080/"
        },
        "id": "6S5BD_a5CYRv",
        "outputId": "4da654be-e752-4d7b-d74c-e09490f1b15d"
      },
      "execution_count": 52,
      "outputs": [
        {
          "output_type": "execute_result",
          "data": {
            "text/plain": [
              "array([ 70, 115,  37,  46,  99,  26, 104, 102,  21,  33,  11,  69, 107,\n",
              "        25,  32,  62,  54, 111,  29,  45,  28,  92,  91,  43,  35, 108,\n",
              "        82,  96,  36,  77,  22,  51,  85,   5,  68,  23, 101, 117,  20,\n",
              "        41,   6,   3,  75,  12,  57,   0,  80,  76,  84,  73,  40,  50,\n",
              "        88,  81, 116,  78,  42,  90, 120,  17, 113,  74, 105,  72,  64,\n",
              "        18,  44,  38,  39,  89, 114,  30,  56, 112, 109,  63,  19,  95,\n",
              "        71,  55, 106,  61,  65,  47,  49,   7, 118,  59,  97,  83,  13,\n",
              "         1,  31,   4,  27,   2,  86,  93,   9,  16,  58,  60, 100,  15,\n",
              "       119,  34,  14, 110,  66,  53,  98,  52,  94,  10,  48,  79,  87,\n",
              "       103,  67,  24,   8])"
            ]
          },
          "metadata": {},
          "execution_count": 52
        }
      ]
    },
    {
      "cell_type": "code",
      "execution_count": 51,
      "metadata": {
        "id": "tDerAHRdhtBY"
      },
      "outputs": [],
      "source": [
        "ind_te = np.sort(ind[:te])\n",
        "ind_va = np.sort(ind[te:te + va])\n",
        "ind_tr = np.sort(ind[te + va:])"
      ]
    },
    {
      "cell_type": "code",
      "source": [
        "ind_te"
      ],
      "metadata": {
        "colab": {
          "base_uri": "https://localhost:8080/"
        },
        "id": "vVeQSHNSCdoZ",
        "outputId": "05afad53-c2de-47ec-ca83-f26e57ee9eff"
      },
      "execution_count": 53,
      "outputs": [
        {
          "output_type": "execute_result",
          "data": {
            "text/plain": [
              "array([ 11,  21,  25,  26,  28,  29,  32,  33,  35,  36,  37,  43,  45,\n",
              "        46,  54,  62,  69,  70,  77,  82,  91,  92,  96,  99, 102, 104,\n",
              "       107, 108, 111, 115])"
            ]
          },
          "metadata": {},
          "execution_count": 53
        }
      ]
    },
    {
      "cell_type": "code",
      "execution_count": 54,
      "metadata": {
        "id": "tCdNp20vhtBY"
      },
      "outputs": [],
      "source": [
        "f_te = f[ind_te]\n",
        "f_va = f[ind_va]\n",
        "f_tr = f[ind_tr]"
      ]
    },
    {
      "cell_type": "code",
      "execution_count": 55,
      "metadata": {
        "id": "oLdkB8rchtBY"
      },
      "outputs": [],
      "source": [
        "l_te = l[ind_te]\n",
        "l_va = l[ind_va]\n",
        "l_tr = l[ind_tr]"
      ]
    },
    {
      "cell_type": "code",
      "execution_count": 56,
      "metadata": {
        "colab": {
          "base_uri": "https://localhost:8080/"
        },
        "id": "UNB_9Q5AhtBZ",
        "outputId": "940fa882-b59d-4184-8a7e-8d6dbc40f8a5"
      },
      "outputs": [
        {
          "output_type": "stream",
          "name": "stdout",
          "text": [
            " 1 | MSE_tr=0.00574 | MSE_va=0.00492\n",
            " 5 | MSE_tr=0.00375 | MSE_va=0.00273\n",
            " 9 | MSE_tr=0.00132 | MSE_va=0.00243\n",
            "13 | MSE_tr=0.00094 | MSE_va=0.00183\n",
            "17 | MSE_tr=0.00060 | MSE_va=0.00153\n",
            "21 | MSE_tr=0.00046 | MSE_va=0.00837\n"
          ]
        }
      ],
      "source": [
        "reg = {}\n",
        "mse = {}\n",
        "for d in range(1, 22, 4):\n",
        "    reg[d] = np.polyfit(f_tr, l_tr, deg=d)\n",
        "    p = np.polyval(reg[d], f_tr)\n",
        "    mse_tr = MSE(l_tr, p)\n",
        "    p = np.polyval(reg[d], f_va)\n",
        "    mse_va = MSE(l_va, p)\n",
        "    mse[d] = (mse_tr, mse_va)\n",
        "    print(f'{d:2d} | MSE_tr={mse_tr:7.5f} | MSE_va={mse_va:7.5f}')"
      ]
    },
    {
      "cell_type": "code",
      "execution_count": 57,
      "metadata": {
        "colab": {
          "base_uri": "https://localhost:8080/",
          "height": 482
        },
        "id": "iit_UBNbhtBZ",
        "outputId": "a38d1cf4-8d99-4d91-ee4f-538d9cf72c3d"
      },
      "outputs": [
        {
          "output_type": "display_data",
          "data": {
            "text/plain": [
              "<Figure size 720x576 with 2 Axes>"
            ],
            "image/png": "[encoded data removed]"
          },
          "metadata": {
            "needs_background": "light"
          }
        }
      ],
      "source": [
        "fig, ax = plt.subplots(2, 1, figsize=(10, 8), sharex=True)\n",
        "ax[0].plot(f_tr, l_tr, 'ro', label='training data')\n",
        "ax[1].plot(f_va, l_va, 'go', label='validation data')\n",
        "for d in reg:\n",
        "    p = np.polyval(reg[d], f_tr)\n",
        "    ax[0].plot(f_tr, p, '--', label=f'deg={d} (tr)')\n",
        "    p = np.polyval(reg[d], f_va)\n",
        "    plt.plot(f_va, p, '--', label=f'deg={d} (va)')\n",
        "ax[0].legend()\n",
        "ax[1].legend();"
      ]
    },
    {
      "cell_type": "code",
      "execution_count": 58,
      "metadata": {
        "id": "Nd0dfz_DhtBZ"
      },
      "outputs": [],
      "source": [
        "from keras.callbacks import EarlyStopping"
      ]
    },
    {
      "cell_type": "code",
      "execution_count": 59,
      "metadata": {
        "id": "3sCy5LlchtBZ"
      },
      "outputs": [],
      "source": [
        "model = create_dnn_model(2, 256)"
      ]
    },
    {
      "cell_type": "code",
      "execution_count": 60,
      "metadata": {
        "id": "eEsonr3fhtBZ"
      },
      "outputs": [],
      "source": [
        "callbacks = [EarlyStopping(monitor='loss',\n",
        "                           patience=100,\n",
        "                          restore_best_weights=True)]"
      ]
    },
    {
      "cell_type": "code",
      "execution_count": 61,
      "metadata": {
        "colab": {
          "base_uri": "https://localhost:8080/"
        },
        "id": "wMxZXlnthtBZ",
        "outputId": "960caade-518c-47b8-ad90-959cc378fa95"
      },
      "outputs": [
        {
          "output_type": "stream",
          "name": "stdout",
          "text": [
            "CPU times: user 21.6 s, sys: 839 ms, total: 22.5 s\n",
            "Wall time: 21.5 s\n"
          ]
        }
      ],
      "source": [
        "%%time\n",
        "hist = model.fit(f_tr, l_tr, epochs=3000, verbose=False,\n",
        "          validation_data=(f_va, l_va),\n",
        "          callbacks=callbacks)"
      ]
    },
    {
      "cell_type": "code",
      "execution_count": 62,
      "metadata": {
        "colab": {
          "base_uri": "https://localhost:8080/",
          "height": 482
        },
        "id": "TEcJSyXdhtBZ",
        "outputId": "a7ff9e93-077b-4dbe-a744-1dbb14f86066"
      },
      "outputs": [
        {
          "output_type": "display_data",
          "data": {
            "text/plain": [
              "<Figure size 720x576 with 2 Axes>"
            ],
            "image/png": "[encoded data removed]"
          },
          "metadata": {
            "needs_background": "light"
          }
        }
      ],
      "source": [
        "fig, ax = plt.subplots(2, 1, sharex=True, figsize=(10, 8))\n",
        "ax[0].plot(f_tr, l_tr, 'ro', label='training data')\n",
        "p = model.predict(f_tr)\n",
        "ax[0].plot(f_tr, p, '--', label=f'DNN (tr)')\n",
        "ax[0].legend()\n",
        "ax[1].plot(f_va, l_va, 'go', label='validation data')\n",
        "p = model.predict(f_va)\n",
        "ax[1].plot(f_va, p, '--', label=f'DNN (va)')\n",
        "ax[1].legend();"
      ]
    },
    {
      "cell_type": "code",
      "execution_count": 63,
      "metadata": {
        "id": "06ZiAtR5htBZ"
      },
      "outputs": [],
      "source": [
        "res = pd.DataFrame(hist.history)"
      ]
    },
    {
      "cell_type": "code",
      "execution_count": 64,
      "metadata": {
        "colab": {
          "base_uri": "https://localhost:8080/",
          "height": 206
        },
        "id": "vidPRIwJhtBZ",
        "outputId": "4b5e47b5-caf4-4bb4-c8e8-a60f1ed93f08"
      },
      "outputs": [
        {
          "output_type": "execute_result",
          "data": {
            "text/plain": [
              "         loss  val_loss\n",
              "816  0.000893  0.000961\n",
              "817  0.000651  0.001375\n",
              "818  0.000862  0.001321\n",
              "819  0.000656  0.001291\n",
              "820  0.000677  0.001241"
            ],
            "text/html": [
              "\n",
              "  <div id=\"df-bdf7069d-09f8-4f70-9f67-0e913411f853\">\n",
              "    <div class=\"colab-df-container\">\n",
              "      <div>\n",
              "<style scoped>\n",
              "    .dataframe tbody tr th:only-of-type {\n",
              "        vertical-align: middle;\n",
              "    }\n",
              "\n",
              "    .dataframe tbody tr th {\n",
              "        vertical-align: top;\n",
              "    }\n",
              "\n",
              "    .dataframe thead th {\n",
              "        text-align: right;\n",
              "    }\n",
              "</style>\n",
              "<table border=\"1\" class=\"dataframe\">\n",
              "  <thead>\n",
              "    <tr style=\"text-align: right;\">\n",
              "      <th></th>\n",
              "      <th>loss</th>\n",
              "      <th>val_loss</th>\n",
              "    </tr>\n",
              "  </thead>\n",
              "  <tbody>\n",
              "    <tr>\n",
              "      <th>816</th>\n",
              "      <td>0.000893</td>\n",
              "      <td>0.000961</td>\n",
              "    </tr>\n",
              "    <tr>\n",
              "      <th>817</th>\n",
              "      <td>0.000651</td>\n",
              "      <td>0.001375</td>\n",
              "    </tr>\n",
              "    <tr>\n",
              "      <th>818</th>\n",
              "      <td>0.000862</td>\n",
              "      <td>0.001321</td>\n",
              "    </tr>\n",
              "    <tr>\n",
              "      <th>819</th>\n",
              "      <td>0.000656</td>\n",
              "      <td>0.001291</td>\n",
              "    </tr>\n",
              "    <tr>\n",
              "      <th>820</th>\n",
              "      <td>0.000677</td>\n",
              "      <td>0.001241</td>\n",
              "    </tr>\n",
              "  </tbody>\n",
              "</table>\n",
              "</div>\n",
              "      <button class=\"colab-df-convert\" onclick=\"convertToInteractive('df-bdf7069d-09f8-4f70-9f67-0e913411f853')\"\n",
              "              title=\"Convert this dataframe to an interactive table.\"\n",
              "              style=\"display:none;\">\n",
              "        \n",
              "  <svg xmlns=\"http://www.w3.org/2000/svg\" height=\"24px\"viewBox=\"0 0 24 24\"\n",
              "       width=\"24px\">\n",
              "    <path d=\"M0 0h24v24H0V0z\" fill=\"none\"/>\n",
              "    <path d=\"M18.56 5.44l.94 2.06.94-2.06 2.06-.94-2.06-.94-.94-2.06-.94 2.06-2.06.94zm-11 1L8.5 8.5l.94-2.06 2.06-.94-2.06-.94L8.5 2.5l-.94 2.06-2.06.94zm10 10l.94 2.06.94-2.06 2.06-.94-2.06-.94-.94-2.06-.94 2.06-2.06.94z\"/><path d=\"M17.41 7.96l-1.37-1.37c-.4-.4-.92-.59-1.43-.59-.52 0-1.04.2-1.43.59L10.3 9.45l-7.72 7.72c-.78.78-.78 2.05 0 2.83L4 21.41c.39.39.9.59 1.41.59.51 0 1.02-.2 1.41-.59l7.78-7.78 2.81-2.81c.8-.78.8-2.07 0-2.86zM5.41 20L4 18.59l7.72-7.72 1.47 1.35L5.41 20z\"/>\n",
              "  </svg>\n",
              "      </button>\n",
              "      \n",
              "  <style>\n",
              "    .colab-df-container {\n",
              "      display:flex;\n",
              "      flex-wrap:wrap;\n",
              "      gap: 12px;\n",
              "    }\n",
              "\n",
              "    .colab-df-convert {\n",
              "      background-color: #E8F0FE;\n",
              "      border: none;\n",
              "      border-radius: 50%;\n",
              "      cursor: pointer;\n",
              "      display: none;\n",
              "      fill: #1967D2;\n",
              "      height: 32px;\n",
              "      padding: 0 0 0 0;\n",
              "      width: 32px;\n",
              "    }\n",
              "\n",
              "    .colab-df-convert:hover {\n",
              "      background-color: #E2EBFA;\n",
              "      box-shadow: 0px 1px 2px rgba(60, 64, 67, 0.3), 0px 1px 3px 1px rgba(60, 64, 67, 0.15);\n",
              "      fill: #174EA6;\n",
              "    }\n",
              "\n",
              "    [theme=dark] .colab-df-convert {\n",
              "      background-color: #3B4455;\n",
              "      fill: #D2E3FC;\n",
              "    }\n",
              "\n",
              "    [theme=dark] .colab-df-convert:hover {\n",
              "      background-color: #434B5C;\n",
              "      box-shadow: 0px 1px 3px 1px rgba(0, 0, 0, 0.15);\n",
              "      filter: drop-shadow(0px 1px 2px rgba(0, 0, 0, 0.3));\n",
              "      fill: #FFFFFF;\n",
              "    }\n",
              "  </style>\n",
              "\n",
              "      <script>\n",
              "        const buttonEl =\n",
              "          document.querySelector('#df-bdf7069d-09f8-4f70-9f67-0e913411f853 button.colab-df-convert');\n",
              "        buttonEl.style.display =\n",
              "          google.colab.kernel.accessAllowed ? 'block' : 'none';\n",
              "\n",
              "        async function convertToInteractive(key) {\n",
              "          const element = document.querySelector('#df-bdf7069d-09f8-4f70-9f67-0e913411f853');\n",
              "          const dataTable =\n",
              "            await google.colab.kernel.invokeFunction('convertToInteractive',\n",
              "                                                     [key], {});\n",
              "          if (!dataTable) return;\n",
              "\n",
              "          const docLinkHtml = 'Like what you see? Visit the ' +\n",
              "            '<a target=\"_blank\" href=https://colab.research.google.com/notebooks/data_table.ipynb>data table notebook</a>'\n",
              "            + ' to learn more about interactive tables.';\n",
              "          element.innerHTML = '';\n",
              "          dataTable['output_type'] = 'display_data';\n",
              "          await google.colab.output.renderOutput(dataTable, element);\n",
              "          const docLink = document.createElement('div');\n",
              "          docLink.innerHTML = docLinkHtml;\n",
              "          element.appendChild(docLink);\n",
              "        }\n",
              "      </script>\n",
              "    </div>\n",
              "  </div>\n",
              "  "
            ]
          },
          "metadata": {},
          "execution_count": 64
        }
      ],
      "source": [
        "res.tail()"
      ]
    },
    {
      "cell_type": "code",
      "execution_count": 65,
      "metadata": {
        "colab": {
          "base_uri": "https://localhost:8080/",
          "height": 387
        },
        "id": "3cY28j5ghtBZ",
        "outputId": "0e998640-8b89-4cca-8d8a-97a1dadf8559"
      },
      "outputs": [
        {
          "output_type": "display_data",
          "data": {
            "text/plain": [
              "<Figure size 720x432 with 1 Axes>"
            ],
            "image/png": "[encoded data removed]"
          },
          "metadata": {
            "needs_background": "light"
          }
        }
      ],
      "source": [
        "res.iloc[35::25].plot(figsize=(10, 6))\n",
        "plt.ylabel('MSE')\n",
        "plt.xlabel('epochs');"
      ]
    },
    {
      "cell_type": "code",
      "execution_count": 66,
      "metadata": {
        "id": "OATJZZhOhtBZ"
      },
      "outputs": [],
      "source": [
        "p_ols = np.polyval(reg[5], f_te)\n",
        "p_dnn = model.predict(f_te).flatten()"
      ]
    },
    {
      "cell_type": "code",
      "execution_count": 67,
      "metadata": {
        "colab": {
          "base_uri": "https://localhost:8080/"
        },
        "id": "0eunM75EhtBZ",
        "outputId": "e893b3cb-31c3-4e2c-caf5-fc392127420b"
      },
      "outputs": [
        {
          "output_type": "execute_result",
          "data": {
            "text/plain": [
              "0.0038960346771028326"
            ]
          },
          "metadata": {},
          "execution_count": 67
        }
      ],
      "source": [
        "MSE(l_te, p_ols)"
      ]
    },
    {
      "cell_type": "code",
      "execution_count": 68,
      "metadata": {
        "colab": {
          "base_uri": "https://localhost:8080/"
        },
        "id": "l6WT0cWhhtBZ",
        "outputId": "9c198330-8fe0-4c5c-8ec3-30da9085c066"
      },
      "outputs": [
        {
          "output_type": "execute_result",
          "data": {
            "text/plain": [
              "0.0007541053048618874"
            ]
          },
          "metadata": {},
          "execution_count": 68
        }
      ],
      "source": [
        "MSE(l_te, p_dnn)"
      ]
    },
    {
      "cell_type": "code",
      "execution_count": 69,
      "metadata": {
        "colab": {
          "base_uri": "https://localhost:8080/",
          "height": 373
        },
        "id": "Pkl947IphtBa",
        "outputId": "7529bd4f-47de-4a2e-862e-78d19ecc80ee"
      },
      "outputs": [
        {
          "output_type": "display_data",
          "data": {
            "text/plain": [
              "<Figure size 720x432 with 1 Axes>"
            ],
            "image/png": "[encoded data removed]"
          },
          "metadata": {
            "needs_background": "light"
          }
        }
      ],
      "source": [
        "plt.figure(figsize=(10, 6))\n",
        "plt.plot(f_te, l_te, 'ro', label='test data')\n",
        "plt.plot(f_te, p_ols, '--', label='OLS prediction')\n",
        "plt.plot(f_te, p_dnn, '-.', label='DNN prediction');\n",
        "plt.legend();"
      ]
    },
    {
      "cell_type": "markdown",
      "metadata": {
        "id": "TCMvNA2QhtBa"
      },
      "source": [
        "## Bias & Variance"
      ]
    },
    {
      "cell_type": "code",
      "execution_count": 70,
      "metadata": {
        "id": "yQvx2MdKhtBa"
      },
      "outputs": [],
      "source": [
        "f_tr = f[:20:2]\n",
        "l_tr = l[:20:2]"
      ]
    },
    {
      "cell_type": "code",
      "execution_count": 71,
      "metadata": {
        "id": "LDWsPwvrhtBa"
      },
      "outputs": [],
      "source": [
        "f_va = f[1:20:2]\n",
        "l_va = l[1:20:2]"
      ]
    },
    {
      "cell_type": "code",
      "execution_count": 72,
      "metadata": {
        "id": "OFlyfm36htBa"
      },
      "outputs": [],
      "source": [
        "reg_b = np.polyfit(f_tr, l_tr, deg=1)"
      ]
    },
    {
      "cell_type": "code",
      "execution_count": 73,
      "metadata": {
        "id": "u-lDgcmwhtBa"
      },
      "outputs": [],
      "source": [
        "reg_v = np.polyfit(f_tr, l_tr, deg=9, full=True)[0]"
      ]
    },
    {
      "cell_type": "code",
      "execution_count": 74,
      "metadata": {
        "id": "2ceDG79qhtBa"
      },
      "outputs": [],
      "source": [
        "f_ = np.linspace(f_tr.min(), f_va.max(), 75)"
      ]
    },
    {
      "cell_type": "code",
      "execution_count": 75,
      "metadata": {
        "colab": {
          "base_uri": "https://localhost:8080/",
          "height": 0
        },
        "id": "oI5xyxiAhtBa",
        "outputId": "33db78f9-4069-48a0-f2de-b287b2b684dd"
      },
      "outputs": [
        {
          "output_type": "display_data",
          "data": {
            "text/plain": [
              "<Figure size 720x432 with 1 Axes>"
            ],
            "image/png": "[encoded data removed]"
          },
          "metadata": {
            "needs_background": "light"
          }
        }
      ],
      "source": [
        "plt.figure(figsize=(10, 6))\n",
        "plt.plot(f_tr, l_tr, 'ro', label='training data')\n",
        "plt.plot(f_va, l_va, 'go', label='validation data')\n",
        "plt.plot(f_, np.polyval(reg_b, f_), '--', label='high bias')\n",
        "plt.plot(f_, np.polyval(reg_v, f_), '--', label='high variance')\n",
        "plt.ylim(-0.2)\n",
        "plt.legend(loc=2);"
      ]
    },
    {
      "cell_type": "code",
      "execution_count": 76,
      "metadata": {
        "id": "DNq3ITQbhtBa"
      },
      "outputs": [],
      "source": [
        "from sklearn.metrics import r2_score"
      ]
    },
    {
      "cell_type": "code",
      "execution_count": 77,
      "metadata": {
        "id": "nvjyz1XwhtBa"
      },
      "outputs": [],
      "source": [
        "def evaluate(reg, f, l):\n",
        "    p = np.polyval(reg, f)\n",
        "    bias = np.abs(l - p).mean()\n",
        "    var = p.var()\n",
        "    msg = f'MSE={MSE(l, p):.4f} | R2={r2_score(l, p):9.4f} | '\n",
        "    msg += f'bias={bias:.4f} | var={var:.4f}'\n",
        "    print(msg)"
      ]
    },
    {
      "cell_type": "code",
      "execution_count": 78,
      "metadata": {
        "colab": {
          "base_uri": "https://localhost:8080/"
        },
        "id": "Cp2QgCY_htBa",
        "outputId": "748601b3-f937-4101-8cf0-526613321454"
      },
      "outputs": [
        {
          "output_type": "stream",
          "name": "stdout",
          "text": [
            "MSE=0.0026 | R2=   0.3484 | bias=0.0423 | var=0.0014\n"
          ]
        }
      ],
      "source": [
        "evaluate(reg_b, f_tr, l_tr)"
      ]
    },
    {
      "cell_type": "code",
      "execution_count": 79,
      "metadata": {
        "colab": {
          "base_uri": "https://localhost:8080/"
        },
        "id": "nudPbt5DhtBa",
        "outputId": "2025e353-7706-45f5-8185-ed903c6499cb"
      },
      "outputs": [
        {
          "output_type": "stream",
          "name": "stdout",
          "text": [
            "MSE=0.0032 | R2=   0.4498 | bias=0.0460 | var=0.0014\n"
          ]
        }
      ],
      "source": [
        "evaluate(reg_b, f_va, l_va)"
      ]
    },
    {
      "cell_type": "code",
      "execution_count": 80,
      "metadata": {
        "colab": {
          "base_uri": "https://localhost:8080/"
        },
        "id": "CNp8YOnNhtBa",
        "outputId": "da48a5ca-b446-486e-f8d2-f8d9fee927c8"
      },
      "outputs": [
        {
          "output_type": "stream",
          "name": "stdout",
          "text": [
            "MSE=0.0000 | R2=   1.0000 | bias=0.0000 | var=0.0040\n"
          ]
        }
      ],
      "source": [
        "evaluate(reg_v, f_tr, l_tr)"
      ]
    },
    {
      "cell_type": "code",
      "execution_count": 81,
      "metadata": {
        "colab": {
          "base_uri": "https://localhost:8080/"
        },
        "id": "3Gr_bFYghtBa",
        "outputId": "45967b22-c626-470b-cbe3-4b3eaf4612be"
      },
      "outputs": [
        {
          "output_type": "stream",
          "name": "stdout",
          "text": [
            "MSE=0.8752 | R2=-149.2660 | bias=0.3565 | var=0.7539\n"
          ]
        }
      ],
      "source": [
        "evaluate(reg_v, f_va, l_va)"
      ]
    },
    {
      "cell_type": "markdown",
      "metadata": {
        "id": "9DGex_KzhtBc"
      },
      "source": [
        "## Cross-Validation"
      ]
    },
    {
      "cell_type": "code",
      "execution_count": 82,
      "metadata": {
        "id": "zAVMB_aHhtBc"
      },
      "outputs": [],
      "source": [
        "from sklearn.model_selection import cross_val_score\n",
        "from sklearn.preprocessing import PolynomialFeatures\n",
        "from sklearn.linear_model import LinearRegression\n",
        "from sklearn.pipeline import make_pipeline"
      ]
    },
    {
      "cell_type": "code",
      "execution_count": 83,
      "metadata": {
        "id": "8qGt4VXrhtBc"
      },
      "outputs": [],
      "source": [
        "def PolynomialRegression(degree=None, **kwargs):\n",
        "    return make_pipeline(PolynomialFeatures(degree),\n",
        "                        LinearRegression(**kwargs))"
      ]
    },
    {
      "cell_type": "code",
      "execution_count": 84,
      "metadata": {
        "id": "U0mT8JF5htBc"
      },
      "outputs": [],
      "source": [
        "np.set_printoptions(suppress=True,\n",
        "        formatter={'float': lambda x: f'{x:12.2f}'})"
      ]
    },
    {
      "cell_type": "code",
      "execution_count": 85,
      "metadata": {
        "colab": {
          "base_uri": "https://localhost:8080/"
        },
        "id": "OWzzUuuOhtBc",
        "outputId": "473c1b52-d541-4c17-c364-656eb126b83b"
      },
      "outputs": [
        {
          "output_type": "stream",
          "name": "stdout",
          "text": [
            "\n",
            "Cross-validation scores\n",
            "==========================================================================\n",
            "deg=0 | [       -6.07        -7.34        -0.09        -6.32        -8.69]\n",
            "deg=1 | [       -0.28        -1.40         0.16        -1.66        -4.62]\n",
            "deg=2 | [       -3.48        -2.45         0.19        -1.57       -12.94]\n",
            "deg=3 | [       -0.00        -1.24         0.32        -0.48       -43.62]\n",
            "deg=4 | [     -222.81        -2.88         0.37        -0.32      -496.61]\n",
            "deg=5 | [     -143.67        -5.85         0.49         0.12     -1241.04]\n",
            "deg=6 | [    -4038.96       -14.71         0.49        -0.33      -317.32]\n",
            "deg=7 | [    -9937.83       -13.98         0.64         0.22    -18725.61]\n",
            "deg=8 | [    -3514.36       -11.22        -0.15        -6.29   -298744.18]\n",
            "deg=9 | [    -7454.15        -0.91         0.15        -0.41    -13580.75]\n"
          ]
        }
      ],
      "source": [
        "print('\\nCross-validation scores')\n",
        "print(74 * '=')\n",
        "for deg in range(0, 10, 1):\n",
        "    model = PolynomialRegression(deg)\n",
        "    cvs = cross_val_score(model, f.reshape(-1, 1), l, cv=5)\n",
        "    print(f'deg={deg} | ' + str(cvs.round(2)))"
      ]
    },
    {
      "cell_type": "code",
      "execution_count": 86,
      "metadata": {
        "colab": {
          "base_uri": "https://localhost:8080/",
          "height": 347
        },
        "id": "C-jmhUJJhtBc",
        "outputId": "d9779fdf-f2c7-487c-f870-bbbced8f76d6"
      },
      "outputs": [
        {
          "output_type": "error",
          "ename": "ModuleNotFoundError",
          "evalue": "ignored",
          "traceback": [
            "\u001b[0;31m---------------------------------------------------------------------------\u001b[0m",
            "\u001b[0;31mModuleNotFoundError\u001b[0m                       Traceback (most recent call last)",
            "\u001b[0;32m<ipython-input-86-1d997f184abf>\u001b[0m in \u001b[0;36m<module>\u001b[0;34m()\u001b[0m\n\u001b[1;32m      2\u001b[0m \u001b[0mtf\u001b[0m\u001b[0;34m.\u001b[0m\u001b[0mrandom\u001b[0m\u001b[0;34m.\u001b[0m\u001b[0mset_seed\u001b[0m\u001b[0;34m(\u001b[0m\u001b[0;36m100\u001b[0m\u001b[0;34m)\u001b[0m\u001b[0;34m\u001b[0m\u001b[0;34m\u001b[0m\u001b[0m\n\u001b[1;32m      3\u001b[0m \u001b[0;31m# from keras.wrappers.scikit_learn import KerasRegressor\u001b[0m\u001b[0;34m\u001b[0m\u001b[0;34m\u001b[0m\u001b[0;34m\u001b[0m\u001b[0m\n\u001b[0;32m----> 4\u001b[0;31m \u001b[0;32mfrom\u001b[0m \u001b[0mscikeras\u001b[0m\u001b[0;34m.\u001b[0m\u001b[0mwrappers\u001b[0m \u001b[0;32mimport\u001b[0m \u001b[0mKerasRegressor\u001b[0m\u001b[0;34m\u001b[0m\u001b[0;34m\u001b[0m\u001b[0m\n\u001b[0m",
            "\u001b[0;31mModuleNotFoundError\u001b[0m: No module named 'scikeras'",
            "",
            "\u001b[0;31m---------------------------------------------------------------------------\u001b[0;32m\nNOTE: If your import is failing due to a missing package, you can\nmanually install dependencies using either !pip or !apt.\n\nTo view examples of installing some common dependencies, click the\n\"Open Examples\" button below.\n\u001b[0;31m---------------------------------------------------------------------------\u001b[0m\n"
          ],
          "errorDetails": {
            "actions": [
              {
                "action": "open_url",
                "actionText": "Open Examples",
                "url": "/notebooks/snippets/importing_libraries.ipynb"
              }
            ]
          }
        }
      ],
      "source": [
        "np.random.seed(100)\n",
        "tf.random.set_seed(100)\n",
        "# from keras.wrappers.scikit_learn import KerasRegressor\n",
        "from scikeras.wrappers import KerasRegressor"
      ]
    },
    {
      "cell_type": "code",
      "execution_count": null,
      "metadata": {
        "id": "4B9UUSnKhtBc"
      },
      "outputs": [],
      "source": [
        "model = KerasRegressor(model=create_dnn_model,\n",
        "                      verbose=False, epochs=1000,\n",
        "                      hl=1, hu=36)"
      ]
    },
    {
      "cell_type": "code",
      "execution_count": null,
      "metadata": {
        "id": "G3P7o3VMhtBc"
      },
      "outputs": [],
      "source": [
        "%time cross_val_score(model, f.reshape(-1, 1), l, cv=5)"
      ]
    },
    {
      "cell_type": "code",
      "execution_count": null,
      "metadata": {
        "id": "6Qg0x2HNhtBc"
      },
      "outputs": [],
      "source": [
        "model = KerasRegressor(model=create_dnn_model,\n",
        "                      verbose=False, epochs=1000,\n",
        "                      hl=3, hu=256)"
      ]
    },
    {
      "cell_type": "code",
      "execution_count": null,
      "metadata": {
        "id": "KQIwlnwchtBc"
      },
      "outputs": [],
      "source": [
        "%time cross_val_score(model, f.reshape(-1, 1), l, cv=5)"
      ]
    },
    {
      "cell_type": "markdown",
      "metadata": {
        "id": "C_dFLmCIhtBc"
      },
      "source": [
        "<img src='http://hilpisch.com/taim_logo.png' width=\"350px\" align=\"right\">\n",
        "\n",
        "<br><br><br><a href=\"http://tpq.io\" target=\"_blank\">http://tpq.io</a> | <a href=\"http://twitter.com/dyjh\" target=\"_blank\">@dyjh</a> | <a href=\"mailto:ai@tpq.io\">ai@tpq.io</a>"
      ]
    }
  ],
  "metadata": {
    "kernelspec": {
      "display_name": "Python 3 (ipykernel)",
      "language": "python",
      "name": "python3"
    },
    "language_info": {
      "codemirror_mode": {
        "name": "ipython",
        "version": 3
      },
      "file_extension": ".py",
      "mimetype": "text/x-python",
      "name": "python",
      "nbconvert_exporter": "python",
      "pygments_lexer": "ipython3",
      "version": "3.8.12"
    },
    "colab": {
      "name": "05_machine_learning.ipynb",
      "provenance": [],
      "collapsed_sections": [
        "TCMvNA2QhtBa",
        "9DGex_KzhtBc"
      ],
      "include_colab_link": true
    }
  },
  "nbformat": 4,
  "nbformat_minor": 0
}