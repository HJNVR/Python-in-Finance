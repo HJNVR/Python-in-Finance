{
  "cells": [
    {
      "cell_type": "markdown",
      "metadata": {
        "id": "view-in-github",
        "colab_type": "text"
      },
      "source": [
        "<a href=\"https://colab.research.google.com/github/HJNVR/Python-in-Finance/blob/main/03_normative_finance.ipynb\" target=\"_parent\"><img src=\"https://colab.research.google.com/assets/colab-badge.svg\" alt=\"Open In Colab\"/></a>"
      ]
    },
    {
      "cell_type": "markdown",
      "metadata": {
        "id": "W2_PYzE8s7e9"
      },
      "source": [
        "<img src='http://hilpisch.com/taim_logo.png' width=\"350px\" align=\"right\">"
      ]
    },
    {
      "cell_type": "markdown",
      "metadata": {
        "id": "Pu1rKIM4s7fC"
      },
      "source": [
        "# Artificial Intelligence in Finance"
      ]
    },
    {
      "cell_type": "markdown",
      "metadata": {
        "id": "HrnE0hJas7fC"
      },
      "source": [
        "## Normative Finance"
      ]
    },
    {
      "cell_type": "markdown",
      "metadata": {
        "id": "JGGRDslqs7fD"
      },
      "source": [
        "Dr Yves J Hilpisch | The AI Machine\n",
        "\n",
        "http://aimachine.io | http://twitter.com/dyjh"
      ]
    },
    {
      "cell_type": "markdown",
      "metadata": {
        "id": "W0XvN2yKs7fD"
      },
      "source": [
        "## Uncertainty and Risk"
      ]
    },
    {
      "cell_type": "code",
      "execution_count": 1,
      "metadata": {
        "id": "Oe4XVbaWs7fE"
      },
      "outputs": [],
      "source": [
        "import numpy as np"
      ]
    },
    {
      "cell_type": "code",
      "execution_count": 2,
      "metadata": {
        "id": "3CrLjHj7s7fH"
      },
      "outputs": [],
      "source": [
        "S0 = 10 # 股票 stock\n",
        "B0 = 10 # 债券 bond"
      ]
    },
    {
      "cell_type": "code",
      "execution_count": 3,
      "metadata": {
        "id": "BtAaId_Ns7fI"
      },
      "outputs": [],
      "source": [
        "S1 = np.array((20, 5)) #这个代表股票的涨跌幅度，如果涨，从10->20。 如果跌，从10 -> 5\n",
        "B1 = np.array((11, 11)) #因为债券几乎是没有风险的资产， 所以不太变化"
      ]
    },
    {
      "cell_type": "code",
      "source": [
        "S1"
      ],
      "metadata": {
        "colab": {
          "base_uri": "https://localhost:8080/"
        },
        "id": "XkeJQFKEtlcL",
        "outputId": "14158484-702e-47c7-afc0-e84e681b7a16"
      },
      "execution_count": 4,
      "outputs": [
        {
          "output_type": "execute_result",
          "data": {
            "text/plain": [
              "array([20,  5])"
            ]
          },
          "metadata": {},
          "execution_count": 4
        }
      ]
    },
    {
      "cell_type": "code",
      "source": [
        "B1"
      ],
      "metadata": {
        "colab": {
          "base_uri": "https://localhost:8080/"
        },
        "id": "9RFTrLTUtm2A",
        "outputId": "7624397c-2455-4d40-9765-3a87a6488fc8"
      },
      "execution_count": 5,
      "outputs": [
        {
          "output_type": "execute_result",
          "data": {
            "text/plain": [
              "array([11, 11])"
            ]
          },
          "metadata": {},
          "execution_count": 5
        }
      ]
    },
    {
      "cell_type": "code",
      "execution_count": 6,
      "metadata": {
        "colab": {
          "base_uri": "https://localhost:8080/"
        },
        "id": "JFtj4egMs7fI",
        "outputId": "5863c5a0-c887-45b9-8896-9fdb3fa98e20"
      },
      "outputs": [
        {
          "output_type": "execute_result",
          "data": {
            "text/plain": [
              "array([10, 10])"
            ]
          },
          "metadata": {},
          "execution_count": 6
        }
      ],
      "source": [
        "M0 = np.array((S0, B0))\n",
        "M0"
      ]
    },
    {
      "cell_type": "code",
      "source": [
        "M0.shape"
      ],
      "metadata": {
        "colab": {
          "base_uri": "https://localhost:8080/"
        },
        "id": "wbhhMQAQxsIG",
        "outputId": "37da726e-b320-41da-c58c-e0b3902a967b"
      },
      "execution_count": 8,
      "outputs": [
        {
          "output_type": "execute_result",
          "data": {
            "text/plain": [
              "(2,)"
            ]
          },
          "metadata": {},
          "execution_count": 8
        }
      ]
    },
    {
      "cell_type": "code",
      "execution_count": 7,
      "metadata": {
        "colab": {
          "base_uri": "https://localhost:8080/"
        },
        "id": "yBBWtBoGs7fJ",
        "outputId": "3590d177-8bbb-4ac8-97fa-77d816c067e7"
      },
      "outputs": [
        {
          "output_type": "execute_result",
          "data": {
            "text/plain": [
              "array([[20, 11],\n",
              "       [ 5, 11]])"
            ]
          },
          "metadata": {},
          "execution_count": 7
        }
      ],
      "source": [
        "M1 = np.array((S1, B1)).T\n",
        "M1"
      ]
    },
    {
      "cell_type": "code",
      "execution_count": 9,
      "metadata": {
        "id": "zh0YSyPhs7fK"
      },
      "outputs": [],
      "source": [
        "K = 14.5"
      ]
    },
    {
      "cell_type": "code",
      "execution_count": 10,
      "metadata": {
        "colab": {
          "base_uri": "https://localhost:8080/"
        },
        "id": "l5k5uokus7fK",
        "outputId": "020709d0-3b1f-4020-ce43-7f3994f23769"
      },
      "outputs": [
        {
          "output_type": "execute_result",
          "data": {
            "text/plain": [
              "array([5.5, 0. ])"
            ]
          },
          "metadata": {},
          "execution_count": 10
        }
      ],
      "source": [
        "C1 = np.maximum(S1 - K, 0)\n",
        "C1"
      ]
    },
    {
      "cell_type": "code",
      "execution_count": 11,
      "metadata": {
        "colab": {
          "base_uri": "https://localhost:8080/"
        },
        "id": "FXXxVEjTs7fK",
        "outputId": "dd62e431-922e-4ab7-ae4b-c609324132a9"
      },
      "outputs": [
        {
          "output_type": "execute_result",
          "data": {
            "text/plain": [
              "array([ 0.36666667, -0.16666667])"
            ]
          },
          "metadata": {},
          "execution_count": 11
        }
      ],
      "source": [
        "phi = np.linalg.solve(M1, C1)\n",
        "phi"
      ]
    },
    {
      "cell_type": "code",
      "execution_count": 12,
      "metadata": {
        "colab": {
          "base_uri": "https://localhost:8080/"
        },
        "id": "uKKX2A3gs7fL",
        "outputId": "be676128-97e0-49d2-f8fc-fa62dbe3475f"
      },
      "outputs": [
        {
          "output_type": "execute_result",
          "data": {
            "text/plain": [
              "True"
            ]
          },
          "metadata": {},
          "execution_count": 12
        }
      ],
      "source": [
        "np.allclose(C1, np.dot(M1, phi))"
      ]
    },
    {
      "cell_type": "code",
      "source": [
        "np.allclose?"
      ],
      "metadata": {
        "id": "1ghkIkIx3DJI"
      },
      "execution_count": 13,
      "outputs": []
    },
    {
      "cell_type": "code",
      "execution_count": 14,
      "metadata": {
        "colab": {
          "base_uri": "https://localhost:8080/"
        },
        "id": "F5i2yE-fs7fL",
        "outputId": "4c60854a-a90c-46c0-eb6f-effb2ce2f810"
      },
      "outputs": [
        {
          "output_type": "execute_result",
          "data": {
            "text/plain": [
              "2.0"
            ]
          },
          "metadata": {},
          "execution_count": 14
        }
      ],
      "source": [
        "C0 = np.dot(M0, phi)\n",
        "C0 # strick price "
      ]
    },
    {
      "cell_type": "markdown",
      "metadata": {
        "id": "TpN2wQsts7fL"
      },
      "source": [
        "## Expected Utility Theory"
      ]
    },
    {
      "cell_type": "code",
      "execution_count": 15,
      "metadata": {
        "id": "GhX8nXvWs7fM"
      },
      "outputs": [],
      "source": [
        "def u(x):\n",
        "    return np.sqrt(x) # untility function"
      ]
    },
    {
      "cell_type": "code",
      "execution_count": 16,
      "metadata": {
        "id": "0tEi-jzFs7fM"
      },
      "outputs": [],
      "source": [
        "# two portfolios with different weights\n",
        "phi_A = np.array((0.75, 0.25))\n",
        "phi_D = np.array((0.25, 0.75))"
      ]
    },
    {
      "cell_type": "code",
      "execution_count": 17,
      "metadata": {
        "colab": {
          "base_uri": "https://localhost:8080/"
        },
        "id": "boPwKtXAs7fM",
        "outputId": "e3f20a6c-75c9-4633-81bb-d39b96274d3a"
      },
      "outputs": [
        {
          "output_type": "execute_result",
          "data": {
            "text/plain": [
              "True"
            ]
          },
          "metadata": {},
          "execution_count": 17
        }
      ],
      "source": [
        "np.dot(M0, phi_A) == np.dot(M0, phi_D)"
      ]
    },
    {
      "cell_type": "code",
      "execution_count": 18,
      "metadata": {
        "colab": {
          "base_uri": "https://localhost:8080/"
        },
        "id": "tNkdl5D3s7fM",
        "outputId": "f408c060-75e6-487f-c581-c8ec1197f404"
      },
      "outputs": [
        {
          "output_type": "execute_result",
          "data": {
            "text/plain": [
              "array([17.75,  6.5 ])"
            ]
          },
          "metadata": {},
          "execution_count": 18
        }
      ],
      "source": [
        "# M1: 最大和最小收益范围\n",
        "A1 = np.dot(M1, phi_A)\n",
        "A1"
      ]
    },
    {
      "cell_type": "code",
      "execution_count": 19,
      "metadata": {
        "colab": {
          "base_uri": "https://localhost:8080/"
        },
        "id": "OkqF3fHIs7fM",
        "outputId": "7c6c1427-4b52-4b72-cf5c-ebe49dec9eb9"
      },
      "outputs": [
        {
          "output_type": "execute_result",
          "data": {
            "text/plain": [
              "array([13.25,  9.5 ])"
            ]
          },
          "metadata": {},
          "execution_count": 19
        }
      ],
      "source": [
        "D1 = np.dot(M1, phi_D)\n",
        "D1"
      ]
    },
    {
      "cell_type": "code",
      "execution_count": 20,
      "metadata": {
        "id": "Jcl0zPOys7fN"
      },
      "outputs": [],
      "source": [
        "P = np.array((0.5, 0.5))"
      ]
    },
    {
      "cell_type": "code",
      "source": [
        "def EUT(x):\n",
        "    return np.dot(P, u(x)) # expected utility function"
      ],
      "metadata": {
        "id": "faoFfdlG5fc7"
      },
      "execution_count": 22,
      "outputs": []
    },
    {
      "cell_type": "code",
      "source": [
        "u(A1)"
      ],
      "metadata": {
        "colab": {
          "base_uri": "https://localhost:8080/"
        },
        "id": "AJZ6YXoo5ePA",
        "outputId": "f2663cb9-23e9-4f85-b41c-bc29c83e1d9e"
      },
      "execution_count": 23,
      "outputs": [
        {
          "output_type": "execute_result",
          "data": {
            "text/plain": [
              "array([4.21307489, 2.54950976])"
            ]
          },
          "metadata": {},
          "execution_count": 23
        }
      ]
    },
    {
      "cell_type": "code",
      "execution_count": 26,
      "metadata": {
        "colab": {
          "base_uri": "https://localhost:8080/"
        },
        "id": "GzKhwmR-s7fN",
        "outputId": "8a1d75e4-1be8-494b-a749-ffd1e8a0e551"
      },
      "outputs": [
        {
          "output_type": "execute_result",
          "data": {
            "text/plain": [
              "3.381292321692286"
            ]
          },
          "metadata": {},
          "execution_count": 26
        }
      ],
      "source": [
        "EUT(A1)"
      ]
    },
    {
      "cell_type": "code",
      "execution_count": 27,
      "metadata": {
        "colab": {
          "base_uri": "https://localhost:8080/"
        },
        "id": "9r_pAjEfs7fN",
        "outputId": "a058fe4f-09c1-4f77-ce36-0fc4e37bde09"
      },
      "outputs": [
        {
          "output_type": "execute_result",
          "data": {
            "text/plain": [
              "3.3611309730623735"
            ]
          },
          "metadata": {},
          "execution_count": 27
        }
      ],
      "source": [
        "EUT(D1)"
      ]
    },
    {
      "cell_type": "code",
      "execution_count": 28,
      "metadata": {
        "id": "U7WWX_4-s7fN"
      },
      "outputs": [],
      "source": [
        "from scipy.optimize import minimize"
      ]
    },
    {
      "cell_type": "code",
      "execution_count": 29,
      "metadata": {
        "id": "n7v3hu-vs7fN"
      },
      "outputs": [],
      "source": [
        "w = 10"
      ]
    },
    {
      "cell_type": "code",
      "execution_count": 31,
      "metadata": {
        "id": "UBSYG3v9s7fO"
      },
      "outputs": [],
      "source": [
        "cons = {'type': 'eq', 'fun': lambda phi: np.dot(M0, phi) - w}"
      ]
    },
    {
      "cell_type": "code",
      "execution_count": 32,
      "metadata": {
        "id": "ePad5fXTs7fO"
      },
      "outputs": [],
      "source": [
        "def EUT_(phi):\n",
        "    x = np.dot(M1, phi)\n",
        "    return EUT(x)"
      ]
    },
    {
      "cell_type": "code",
      "execution_count": 33,
      "metadata": {
        "id": "YsDpdycms7fO"
      },
      "outputs": [],
      "source": [
        "# maximize 最大 = minimize 最小\n",
        "opt = minimize(lambda phi: -EUT_(phi),\n",
        "               x0=phi_A,\n",
        "               constraints=cons)"
      ]
    },
    {
      "cell_type": "code",
      "execution_count": 34,
      "metadata": {
        "colab": {
          "base_uri": "https://localhost:8080/"
        },
        "id": "nqzYP7PTs7fO",
        "outputId": "db0fa930-1e3a-47a5-9d85-281120f03851"
      },
      "outputs": [
        {
          "output_type": "execute_result",
          "data": {
            "text/plain": [
              "     fun: -3.385015999493397\n",
              "     jac: array([-1.69249132, -1.69253424])\n",
              " message: 'Optimization terminated successfully.'\n",
              "    nfev: 16\n",
              "     nit: 4\n",
              "    njev: 4\n",
              "  status: 0\n",
              " success: True\n",
              "       x: array([0.61122474, 0.38877526])"
            ]
          },
          "metadata": {},
          "execution_count": 34
        }
      ],
      "source": [
        "opt # The optimal result"
      ]
    },
    {
      "cell_type": "code",
      "execution_count": 35,
      "metadata": {
        "colab": {
          "base_uri": "https://localhost:8080/"
        },
        "id": "NqyRQV1Ks7fO",
        "outputId": "e51c8162-dbfe-4d76-cfa6-fd1d914cb269"
      },
      "outputs": [
        {
          "output_type": "execute_result",
          "data": {
            "text/plain": [
              "3.385015999493397"
            ]
          },
          "metadata": {},
          "execution_count": 35
        }
      ],
      "source": [
        "EUT_(opt['x'])"
      ]
    },
    {
      "cell_type": "code",
      "execution_count": 36,
      "metadata": {
        "colab": {
          "base_uri": "https://localhost:8080/"
        },
        "id": "1p8NFi77s7fO",
        "outputId": "260d699c-dcac-4756-b101-8805d3bdeda3"
      },
      "outputs": [
        {
          "output_type": "execute_result",
          "data": {
            "text/plain": [
              "10.0"
            ]
          },
          "metadata": {},
          "execution_count": 36
        }
      ],
      "source": [
        "np.dot(M0, opt['x'])"
      ]
    },
    {
      "cell_type": "markdown",
      "metadata": {
        "id": "nqrBmAYXs7fO"
      },
      "source": [
        "## Mean-Variance Portfolio Theory"
      ]
    },
    {
      "cell_type": "code",
      "execution_count": 40,
      "metadata": {
        "colab": {
          "base_uri": "https://localhost:8080/"
        },
        "id": "AwWHP4hxs7fO",
        "outputId": "b10e6451-7304-4ef5-8014-7e178d2fc6f6"
      },
      "outputs": [
        {
          "output_type": "execute_result",
          "data": {
            "text/plain": [
              "array([ 1. , -0.5])"
            ]
          },
          "metadata": {},
          "execution_count": 40
        }
      ],
      "source": [
        "rS = S1 / S0 - 1 # stock 未来的回报率 未来的价格/现在的价格 - 1\n",
        "rS"
      ]
    },
    {
      "cell_type": "code",
      "execution_count": 39,
      "metadata": {
        "colab": {
          "base_uri": "https://localhost:8080/"
        },
        "id": "j9hD0lTTs7fO",
        "outputId": "b9e5bac9-bca4-4b44-feb0-c3d51d641c73"
      },
      "outputs": [
        {
          "output_type": "execute_result",
          "data": {
            "text/plain": [
              "array([0.1, 0.1])"
            ]
          },
          "metadata": {},
          "execution_count": 39
        }
      ],
      "source": [
        "rB = B1 / B0 - 1 # bond\n",
        "rB"
      ]
    },
    {
      "cell_type": "code",
      "execution_count": 42,
      "metadata": {
        "id": "la4WBANbs7fP"
      },
      "outputs": [],
      "source": [
        "def mu(rX):\n",
        "    return np.dot(P, rX)"
      ]
    },
    {
      "cell_type": "code",
      "execution_count": 43,
      "metadata": {
        "colab": {
          "base_uri": "https://localhost:8080/"
        },
        "id": "RrM37Os1s7fP",
        "outputId": "4fc4d97b-4a83-47fd-d7c2-8ba5d512a42a"
      },
      "outputs": [
        {
          "output_type": "execute_result",
          "data": {
            "text/plain": [
              "0.25"
            ]
          },
          "metadata": {},
          "execution_count": 43
        }
      ],
      "source": [
        "mu(rS)"
      ]
    },
    {
      "cell_type": "code",
      "execution_count": 44,
      "metadata": {
        "colab": {
          "base_uri": "https://localhost:8080/"
        },
        "id": "jA1-1aJBs7fP",
        "outputId": "ac0c7641-1eb7-4f0e-c838-99ea43d36b42"
      },
      "outputs": [
        {
          "output_type": "execute_result",
          "data": {
            "text/plain": [
              "0.10000000000000009"
            ]
          },
          "metadata": {},
          "execution_count": 44
        }
      ],
      "source": [
        "mu(rB)"
      ]
    },
    {
      "cell_type": "code",
      "execution_count": 45,
      "metadata": {
        "colab": {
          "base_uri": "https://localhost:8080/"
        },
        "id": "SlQO9UYLs7fP",
        "outputId": "1e59b71e-b3a5-4c89-8112-fc15a83d317b"
      },
      "outputs": [
        {
          "output_type": "execute_result",
          "data": {
            "text/plain": [
              "array([[ 1. ,  0.1],\n",
              "       [-0.5,  0.1]])"
            ]
          },
          "metadata": {},
          "execution_count": 45
        }
      ],
      "source": [
        "rM = M1 / M0 - 1 # matrix for the traded assets\n",
        "rM"
      ]
    },
    {
      "cell_type": "code",
      "execution_count": 46,
      "metadata": {
        "colab": {
          "base_uri": "https://localhost:8080/"
        },
        "id": "9cxVEf6Ws7fP",
        "outputId": "43ec0c33-b735-4142-8227-ee0933563ae1"
      },
      "outputs": [
        {
          "output_type": "execute_result",
          "data": {
            "text/plain": [
              "array([0.25, 0.1 ])"
            ]
          },
          "metadata": {},
          "execution_count": 46
        }
      ],
      "source": [
        "mu(rM)"
      ]
    },
    {
      "cell_type": "code",
      "execution_count": 47,
      "metadata": {
        "id": "njw5l2FIs7fP"
      },
      "outputs": [],
      "source": [
        "def var(rX):\n",
        "    return ((rX - mu(rX)) ** 2).mean()"
      ]
    },
    {
      "cell_type": "code",
      "execution_count": 48,
      "metadata": {
        "colab": {
          "base_uri": "https://localhost:8080/"
        },
        "id": "aYyuuDNvs7fP",
        "outputId": "56f461a1-e61c-495c-b549-64976ad6c9ed"
      },
      "outputs": [
        {
          "output_type": "execute_result",
          "data": {
            "text/plain": [
              "0.5625"
            ]
          },
          "metadata": {},
          "execution_count": 48
        }
      ],
      "source": [
        "var(rS)"
      ]
    },
    {
      "cell_type": "code",
      "execution_count": 49,
      "metadata": {
        "colab": {
          "base_uri": "https://localhost:8080/"
        },
        "id": "Cv42SKzJs7fP",
        "outputId": "a4d4dc83-8f4d-4ba7-9e35-a7dbf9f249dd"
      },
      "outputs": [
        {
          "output_type": "execute_result",
          "data": {
            "text/plain": [
              "0.0"
            ]
          },
          "metadata": {},
          "execution_count": 49
        }
      ],
      "source": [
        "var(rB)"
      ]
    },
    {
      "cell_type": "code",
      "execution_count": 50,
      "metadata": {
        "id": "xo63l1P8s7fP"
      },
      "outputs": [],
      "source": [
        "def sigma(rX):\n",
        "    return np.sqrt(var(rX))"
      ]
    },
    {
      "cell_type": "code",
      "execution_count": 51,
      "metadata": {
        "colab": {
          "base_uri": "https://localhost:8080/"
        },
        "id": "yiwYdlfUs7fP",
        "outputId": "034b4b3c-0c24-4541-f5f5-20213fd5db72"
      },
      "outputs": [
        {
          "output_type": "execute_result",
          "data": {
            "text/plain": [
              "0.75"
            ]
          },
          "metadata": {},
          "execution_count": 51
        }
      ],
      "source": [
        "sigma(rS)"
      ]
    },
    {
      "cell_type": "code",
      "execution_count": 52,
      "metadata": {
        "colab": {
          "base_uri": "https://localhost:8080/"
        },
        "id": "ay6Aff5Ds7fQ",
        "outputId": "374389f8-15ac-4cbc-e099-9d3b729388a5"
      },
      "outputs": [
        {
          "output_type": "execute_result",
          "data": {
            "text/plain": [
              "0.0"
            ]
          },
          "metadata": {},
          "execution_count": 52
        }
      ],
      "source": [
        "sigma(rB)"
      ]
    },
    {
      "cell_type": "code",
      "execution_count": 54,
      "metadata": {
        "colab": {
          "base_uri": "https://localhost:8080/"
        },
        "id": "sRD8VQsEs7fQ",
        "outputId": "17edf2dc-58ec-42a2-d31c-57ca391e57e3"
      },
      "outputs": [
        {
          "output_type": "execute_result",
          "data": {
            "text/plain": [
              "array([[0.5625, 0.    ],\n",
              "       [0.    , 0.    ]])"
            ]
          },
          "metadata": {},
          "execution_count": 54
        }
      ],
      "source": [
        "np.cov(rM.T, aweights=P, ddof=0)"
      ]
    },
    {
      "cell_type": "code",
      "execution_count": 55,
      "metadata": {
        "id": "rsiI-r-fs7fQ"
      },
      "outputs": [],
      "source": [
        "phi = np.array((0.5, 0.5))"
      ]
    },
    {
      "cell_type": "code",
      "execution_count": 56,
      "metadata": {
        "id": "CQVGjqgts7fQ"
      },
      "outputs": [],
      "source": [
        "def mu_phi(phi):\n",
        "    return np.dot(phi, mu(rM))"
      ]
    },
    {
      "cell_type": "code",
      "execution_count": 57,
      "metadata": {
        "colab": {
          "base_uri": "https://localhost:8080/"
        },
        "id": "BPkil9IQs7fQ",
        "outputId": "2305562d-2b37-46a8-8101-6e76365fa3b0"
      },
      "outputs": [
        {
          "output_type": "execute_result",
          "data": {
            "text/plain": [
              "0.17500000000000004"
            ]
          },
          "metadata": {},
          "execution_count": 57
        }
      ],
      "source": [
        "mu_phi(phi)"
      ]
    },
    {
      "cell_type": "code",
      "execution_count": 58,
      "metadata": {
        "id": "viPrcjFss7fQ"
      },
      "outputs": [],
      "source": [
        "def var_phi(phi):\n",
        "    cv = np.cov(rM.T, aweights=P, ddof=0)\n",
        "    return np.dot(phi, np.dot(cv, phi))"
      ]
    },
    {
      "cell_type": "code",
      "execution_count": 59,
      "metadata": {
        "colab": {
          "base_uri": "https://localhost:8080/"
        },
        "id": "X4jkzCU5s7fQ",
        "outputId": "7aa237c1-2e78-4570-9fc5-2f297fa3ca7a"
      },
      "outputs": [
        {
          "output_type": "execute_result",
          "data": {
            "text/plain": [
              "0.140625"
            ]
          },
          "metadata": {},
          "execution_count": 59
        }
      ],
      "source": [
        "var_phi(phi)"
      ]
    },
    {
      "cell_type": "code",
      "execution_count": 60,
      "metadata": {
        "id": "t6kJtSlts7fQ"
      },
      "outputs": [],
      "source": [
        "def sigma_phi(phi):\n",
        "    return var_phi(phi) ** 0.5"
      ]
    },
    {
      "cell_type": "code",
      "execution_count": 61,
      "metadata": {
        "colab": {
          "base_uri": "https://localhost:8080/"
        },
        "id": "Db_XdLuVs7fQ",
        "outputId": "e32af6e8-19e6-4c10-b76a-5aa408d40ea8"
      },
      "outputs": [
        {
          "output_type": "execute_result",
          "data": {
            "text/plain": [
              "0.375"
            ]
          },
          "metadata": {},
          "execution_count": 61
        }
      ],
      "source": [
        "sigma_phi(phi)"
      ]
    },
    {
      "cell_type": "code",
      "execution_count": 62,
      "metadata": {
        "id": "FEf9MDxos7fQ"
      },
      "outputs": [],
      "source": [
        "from pylab import plt, mpl\n",
        "plt.style.use('seaborn')\n",
        "mpl.rcParams['savefig.dpi'] = 300\n",
        "mpl.rcParams['font.family'] = 'serif'"
      ]
    },
    {
      "cell_type": "code",
      "execution_count": 63,
      "metadata": {
        "id": "skIInZ_hs7fQ"
      },
      "outputs": [],
      "source": [
        "phi_mcs = np.random.random((2, 200))"
      ]
    },
    {
      "cell_type": "code",
      "execution_count": 64,
      "metadata": {
        "id": "3bgiW2Has7fR"
      },
      "outputs": [],
      "source": [
        "phi_mcs = (phi_mcs / phi_mcs.sum(axis=0)).T"
      ]
    },
    {
      "cell_type": "code",
      "execution_count": 65,
      "metadata": {
        "id": "R-HQbONCs7fR"
      },
      "outputs": [],
      "source": [
        "mcs = np.array([(sigma_phi(phi), mu_phi(phi))\n",
        "                for phi in phi_mcs])"
      ]
    },
    {
      "cell_type": "code",
      "execution_count": 66,
      "metadata": {
        "colab": {
          "base_uri": "https://localhost:8080/",
          "height": 387
        },
        "id": "02qc-zeVs7fR",
        "outputId": "6e7d8312-de80-440b-ab09-52def3ac80a9"
      },
      "outputs": [
        {
          "output_type": "display_data",
          "data": {
            "text/plain": [
              "<Figure size 720x432 with 1 Axes>"
            ],
            "image/png": "[encoded data removed]"
          },
          "metadata": {}
        }
      ],
      "source": [
        "plt.figure(figsize=(10, 6))\n",
        "plt.plot(mcs[:, 0], mcs[:, 1], 'ro')\n",
        "plt.xlabel('expected volatility')\n",
        "plt.ylabel('expected return');"
      ]
    },
    {
      "cell_type": "code",
      "execution_count": 67,
      "metadata": {
        "colab": {
          "base_uri": "https://localhost:8080/"
        },
        "id": "rN7sUQyzs7fR",
        "outputId": "c55b51f0-30d3-47a5-cd4a-278ae545c293"
      },
      "outputs": [
        {
          "output_type": "execute_result",
          "data": {
            "text/plain": [
              "array([0.33333333, 0.33333333, 0.33333333])"
            ]
          },
          "metadata": {},
          "execution_count": 67
        }
      ],
      "source": [
        "P = np.ones(3) / 3\n",
        "P"
      ]
    },
    {
      "cell_type": "code",
      "execution_count": 68,
      "metadata": {
        "id": "tsH6DC-ls7fR"
      },
      "outputs": [],
      "source": [
        "S1 = np.array((20, 10, 5))"
      ]
    },
    {
      "cell_type": "code",
      "execution_count": 69,
      "metadata": {
        "id": "CQhXIu-js7fR"
      },
      "outputs": [],
      "source": [
        "T0 = 10\n",
        "T1 = np.array((1, 12, 13))"
      ]
    },
    {
      "cell_type": "code",
      "execution_count": 70,
      "metadata": {
        "colab": {
          "base_uri": "https://localhost:8080/"
        },
        "id": "ouGGgSEys7fR",
        "outputId": "3ce04e9f-fcd4-4e09-a49d-4d6befab2fa7"
      },
      "outputs": [
        {
          "output_type": "execute_result",
          "data": {
            "text/plain": [
              "array([10, 10])"
            ]
          },
          "metadata": {},
          "execution_count": 70
        }
      ],
      "source": [
        "M0 = np.array((S0, T0))\n",
        "M0"
      ]
    },
    {
      "cell_type": "code",
      "execution_count": 71,
      "metadata": {
        "colab": {
          "base_uri": "https://localhost:8080/"
        },
        "id": "FUvOCd0ps7fR",
        "outputId": "9ea9dff5-b576-4bd7-c557-1773838f1590"
      },
      "outputs": [
        {
          "output_type": "execute_result",
          "data": {
            "text/plain": [
              "array([[20,  1],\n",
              "       [10, 12],\n",
              "       [ 5, 13]])"
            ]
          },
          "metadata": {},
          "execution_count": 71
        }
      ],
      "source": [
        "M1 = np.array((S1, T1)).T\n",
        "M1"
      ]
    },
    {
      "cell_type": "code",
      "execution_count": 72,
      "metadata": {
        "colab": {
          "base_uri": "https://localhost:8080/"
        },
        "id": "qbJSdCros7fR",
        "outputId": "628d90aa-3f6e-42d5-f6fe-03809dca4126"
      },
      "outputs": [
        {
          "output_type": "execute_result",
          "data": {
            "text/plain": [
              "array([[ 1. , -0.9],\n",
              "       [ 0. ,  0.2],\n",
              "       [-0.5,  0.3]])"
            ]
          },
          "metadata": {},
          "execution_count": 72
        }
      ],
      "source": [
        "rM = M1 / M0 - 1\n",
        "rM"
      ]
    },
    {
      "cell_type": "code",
      "execution_count": 73,
      "metadata": {
        "id": "s_oYKHc6s7fR"
      },
      "outputs": [],
      "source": [
        "mcs = np.array([(sigma_phi(phi), mu_phi(phi))\n",
        "                for phi in phi_mcs])"
      ]
    },
    {
      "cell_type": "code",
      "execution_count": 74,
      "metadata": {
        "colab": {
          "base_uri": "https://localhost:8080/",
          "height": 387
        },
        "id": "FaQI1HMUs7fR",
        "outputId": "bd20bcb0-63e4-4397-b525-80f97368d518"
      },
      "outputs": [
        {
          "output_type": "display_data",
          "data": {
            "text/plain": [
              "<Figure size 720x432 with 1 Axes>"
            ],
            "image/png": "[encoded data removed]"
          },
          "metadata": {}
        }
      ],
      "source": [
        "plt.figure(figsize=(10, 6))\n",
        "plt.plot(mcs[:, 0], mcs[:, 1], 'ro')\n",
        "plt.xlabel('expected volatility')\n",
        "plt.ylabel('expected return');"
      ]
    },
    {
      "cell_type": "code",
      "execution_count": 75,
      "metadata": {
        "id": "LJXxPFj9s7fR"
      },
      "outputs": [],
      "source": [
        "cons = {'type': 'eq', 'fun': lambda phi: np.sum(phi) - 1}"
      ]
    },
    {
      "cell_type": "code",
      "execution_count": 76,
      "metadata": {
        "id": "D3ul7tVgs7fS"
      },
      "outputs": [],
      "source": [
        "bnds = ((0, 1), (0, 1))"
      ]
    },
    {
      "cell_type": "code",
      "execution_count": 77,
      "metadata": {
        "id": "XjXZ_hehs7fS"
      },
      "outputs": [],
      "source": [
        "min_var = minimize(sigma_phi, (0.5, 0.5),\n",
        "                   constraints=cons, bounds=bnds)"
      ]
    },
    {
      "cell_type": "code",
      "execution_count": 78,
      "metadata": {
        "colab": {
          "base_uri": "https://localhost:8080/"
        },
        "id": "cwZwuHJEs7fS",
        "outputId": "708b9f61-10fd-47d2-e3a8-08dbdf7bb69d"
      },
      "outputs": [
        {
          "output_type": "execute_result",
          "data": {
            "text/plain": [
              "     fun: 0.07481322946910632\n",
              "     jac: array([0.07426564, 0.07528945])\n",
              " message: 'Optimization terminated successfully.'\n",
              "    nfev: 17\n",
              "     nit: 4\n",
              "    njev: 4\n",
              "  status: 0\n",
              " success: True\n",
              "       x: array([0.46511697, 0.53488303])"
            ]
          },
          "metadata": {},
          "execution_count": 78
        }
      ],
      "source": [
        "min_var"
      ]
    },
    {
      "cell_type": "code",
      "execution_count": 79,
      "metadata": {
        "id": "I99Q3YbPs7fS"
      },
      "outputs": [],
      "source": [
        "def sharpe(phi):\n",
        "    return mu_phi(phi) / sigma_phi(phi)"
      ]
    },
    {
      "cell_type": "code",
      "execution_count": 80,
      "metadata": {
        "id": "DM1yg90os7fS"
      },
      "outputs": [],
      "source": [
        "max_sharpe = minimize(lambda phi: -sharpe(phi), (0.5, 0.5),\n",
        "               constraints=cons, bounds=bnds)"
      ]
    },
    {
      "cell_type": "code",
      "execution_count": 81,
      "metadata": {
        "colab": {
          "base_uri": "https://localhost:8080/"
        },
        "id": "JR5xvQ-Bs7fS",
        "outputId": "4d709a0f-6cc0-4fd8-c088-25871f385117"
      },
      "outputs": [
        {
          "output_type": "execute_result",
          "data": {
            "text/plain": [
              "     fun: -0.2721654098971811\n",
              "     jac: array([ 0.00012054, -0.00024174])\n",
              " message: 'Optimization terminated successfully.'\n",
              "    nfev: 38\n",
              "     nit: 9\n",
              "    njev: 9\n",
              "  status: 0\n",
              " success: True\n",
              "       x: array([0.66731116, 0.33268884])"
            ]
          },
          "metadata": {},
          "execution_count": 81
        }
      ],
      "source": [
        "max_sharpe"
      ]
    },
    {
      "cell_type": "code",
      "execution_count": 82,
      "metadata": {
        "colab": {
          "base_uri": "https://localhost:8080/",
          "height": 387
        },
        "id": "_6_lD1B4s7fS",
        "outputId": "02d69a5d-7025-4ddf-faa5-809a29a9bb53"
      },
      "outputs": [
        {
          "output_type": "display_data",
          "data": {
            "text/plain": [
              "<Figure size 720x432 with 1 Axes>"
            ],
            "image/png": "[encoded data removed]"
          },
          "metadata": {}
        }
      ],
      "source": [
        "plt.figure(figsize=(10, 6))\n",
        "plt.plot(mcs[:, 0], mcs[:, 1], 'ro', ms=5)\n",
        "plt.plot(sigma_phi(min_var['x']), mu_phi(min_var['x']),\n",
        "         '^', ms=12.5, label='minimum volatility')\n",
        "plt.plot(sigma_phi(max_sharpe['x']), mu_phi(max_sharpe['x']),\n",
        "         'v', ms=12.5, label='maximum Sharpe ratio')\n",
        "plt.xlabel('expected volatility')\n",
        "plt.ylabel('expected return')\n",
        "plt.legend();"
      ]
    },
    {
      "cell_type": "code",
      "execution_count": 83,
      "metadata": {
        "id": "L9hjb1eEs7fS"
      },
      "outputs": [],
      "source": [
        "cons = [{'type': 'eq', 'fun': lambda phi: np.sum(phi) - 1},\n",
        "       {'type': 'eq', 'fun': lambda phi: mu_phi(phi) - target}]"
      ]
    },
    {
      "cell_type": "code",
      "execution_count": 84,
      "metadata": {
        "id": "LbbmjdBPs7fS"
      },
      "outputs": [],
      "source": [
        "bnds = ((0, 1), (0, 1))"
      ]
    },
    {
      "cell_type": "code",
      "execution_count": 85,
      "metadata": {
        "id": "0VUblyYks7fS"
      },
      "outputs": [],
      "source": [
        "targets = np.linspace(mu_phi(min_var['x']), 0.16)"
      ]
    },
    {
      "cell_type": "code",
      "execution_count": 86,
      "metadata": {
        "id": "8kS83o9Js7fS"
      },
      "outputs": [],
      "source": [
        "frontier = []\n",
        "for target in targets:\n",
        "    phi_eff = minimize(sigma_phi, (0.5, 0.5),\n",
        "                       constraints=cons, bounds=bnds)['x']\n",
        "    frontier.append((sigma_phi(phi_eff), mu_phi(phi_eff)))\n",
        "frontier = np.array(frontier)"
      ]
    },
    {
      "cell_type": "code",
      "execution_count": 87,
      "metadata": {
        "colab": {
          "base_uri": "https://localhost:8080/",
          "height": 387
        },
        "id": "lpPtouNks7fT",
        "outputId": "a8b9a071-f8ca-4a18-e4e9-8b5a736fb9fd"
      },
      "outputs": [
        {
          "output_type": "display_data",
          "data": {
            "text/plain": [
              "<Figure size 720x432 with 1 Axes>"
            ],
            "image/png": "[encoded data removed]"
          },
          "metadata": {}
        }
      ],
      "source": [
        "plt.figure(figsize=(10, 6))\n",
        "plt.plot(frontier[:, 0], frontier[:, 1], 'mo', ms=5,\n",
        "         label='efficient frontier')\n",
        "plt.plot(sigma_phi(min_var['x']), mu_phi(min_var['x']),\n",
        "         '^', ms=12.5, label='minimum volatility')\n",
        "plt.plot(sigma_phi(max_sharpe['x']), mu_phi(max_sharpe['x']),\n",
        "         'v', ms=12.5, label='maximum Sharpe ratio')\n",
        "plt.xlabel('expected volatility')\n",
        "plt.ylabel('expected return')\n",
        "plt.legend();"
      ]
    },
    {
      "cell_type": "markdown",
      "metadata": {
        "id": "1AZ_Ov4Ps7fT"
      },
      "source": [
        "## Capital Asset Pricing Model"
      ]
    },
    {
      "cell_type": "code",
      "execution_count": 88,
      "metadata": {
        "colab": {
          "base_uri": "https://localhost:8080/",
          "height": 387
        },
        "id": "xV8BL7gks7fT",
        "outputId": "d6c134e5-a98c-4523-acc5-3b26c63eb48f"
      },
      "outputs": [
        {
          "output_type": "display_data",
          "data": {
            "text/plain": [
              "<Figure size 720x432 with 1 Axes>"
            ],
            "image/png": "[encoded data removed]"
          },
          "metadata": {}
        }
      ],
      "source": [
        "plt.figure(figsize=(10, 6))\n",
        "plt.plot((0, 0.3), (0.01, 0.22), label='capital market line')\n",
        "plt.plot(0, 0.01, 'o', ms=9, label='risk-less asset')\n",
        "plt.plot(0.2, 0.15, '^', ms=9, label='market portfolio')\n",
        "plt.annotate('$(0, \\\\bar{r})$', (0, 0.01), (-0.01, 0.02)) # (0,0.01) 是点的位置, (-0.01, 0.02)是文字的位置\n",
        "plt.annotate('$(\\sigma_M, \\mu_M)$', (0.2, 0.15), (0.19, 0.16))\n",
        "plt.xlabel('expected volatility')\n",
        "plt.ylabel('expected return')\n",
        "plt.legend();"
      ]
    },
    {
      "cell_type": "code",
      "execution_count": 89,
      "metadata": {
        "id": "ITQTMwqUs7fT"
      },
      "outputs": [],
      "source": [
        "phi_M = np.array((0.8, 0.2))"
      ]
    },
    {
      "cell_type": "code",
      "execution_count": 90,
      "metadata": {
        "colab": {
          "base_uri": "https://localhost:8080/"
        },
        "id": "Ub4ULZr6s7fT",
        "outputId": "8c3b6d3c-4b29-454a-c104-eaeb557613ca"
      },
      "outputs": [
        {
          "output_type": "execute_result",
          "data": {
            "text/plain": [
              "0.10666666666666666"
            ]
          },
          "metadata": {},
          "execution_count": 90
        }
      ],
      "source": [
        "mu_M = mu_phi(phi_M)\n",
        "mu_M"
      ]
    },
    {
      "cell_type": "code",
      "execution_count": 91,
      "metadata": {
        "colab": {
          "base_uri": "https://localhost:8080/"
        },
        "id": "2I_WWBJms7fT",
        "outputId": "77b1f501-70a3-40dd-a610-1f5604540d55"
      },
      "outputs": [
        {
          "output_type": "execute_result",
          "data": {
            "text/plain": [
              "0.39474323581566567"
            ]
          },
          "metadata": {},
          "execution_count": 91
        }
      ],
      "source": [
        "sigma_M = sigma_phi(phi_M)\n",
        "sigma_M"
      ]
    },
    {
      "cell_type": "code",
      "execution_count": 92,
      "metadata": {
        "id": "cJTk71eus7fT"
      },
      "outputs": [],
      "source": [
        "r = 0.0025"
      ]
    },
    {
      "cell_type": "code",
      "execution_count": 93,
      "metadata": {
        "colab": {
          "base_uri": "https://localhost:8080/",
          "height": 387
        },
        "id": "RJWZ-Rivs7fT",
        "outputId": "d7b596a3-9a3b-4253-f73a-1e2363738470"
      },
      "outputs": [
        {
          "output_type": "display_data",
          "data": {
            "text/plain": [
              "<Figure size 720x432 with 1 Axes>"
            ],
            "image/png": "[encoded data removed]"
          },
          "metadata": {}
        }
      ],
      "source": [
        "plt.figure(figsize=(10, 6))\n",
        "plt.plot(frontier[:, 0], frontier[:, 1], 'm.', ms=5,\n",
        "         label='efficient frontier')\n",
        "plt.plot(0, r, 'o', ms=9, label='risk-less asset')\n",
        "plt.plot(sigma_M, mu_M, '^', ms=9, label='market portfolio')\n",
        "plt.plot((0, 0.6), (r, r + ((mu_M - r) / sigma_M) * 0.6),\n",
        "         'r', label='capital market line', lw=2.0)\n",
        "plt.annotate('$(0, \\\\bar{r})$', (0, r), (-0.015, r + 0.01))\n",
        "plt.annotate('$(\\sigma_M, \\mu_M)$', (sigma_M, mu_M),\n",
        "             (sigma_M - 0.025, mu_M + 0.01))\n",
        "plt.xlabel('expected volatility')\n",
        "plt.ylabel('expected return')\n",
        "plt.legend();"
      ]
    },
    {
      "cell_type": "code",
      "execution_count": 94,
      "metadata": {
        "id": "tj6E2Xe3s7fT"
      },
      "outputs": [],
      "source": [
        "def U(p):\n",
        "    mu, sigma = p\n",
        "    return mu - 1 / 2 * (sigma ** 2 + mu ** 2)"
      ]
    },
    {
      "cell_type": "code",
      "execution_count": 95,
      "metadata": {
        "id": "6x5EQR9Os7fU"
      },
      "outputs": [],
      "source": [
        "cons = {'type': 'eq',\n",
        "        'fun': lambda p: p[0] - (r + (mu_M - r) / sigma_M * p[1])}"
      ]
    },
    {
      "cell_type": "code",
      "execution_count": 96,
      "metadata": {
        "id": "OhpnK1iEs7fU"
      },
      "outputs": [],
      "source": [
        "opt = minimize(lambda p: -U(p), (0.1, 0.3), constraints=cons)"
      ]
    },
    {
      "cell_type": "code",
      "execution_count": 97,
      "metadata": {
        "colab": {
          "base_uri": "https://localhost:8080/"
        },
        "id": "FXf_S57ts7fU",
        "outputId": "85d7b57b-fa5b-4bc0-c8cc-7bc0a7f67913"
      },
      "outputs": [
        {
          "output_type": "execute_result",
          "data": {
            "text/plain": [
              "     fun: -0.034885186826739426\n",
              "     jac: array([-0.93256102,  0.24608851])\n",
              " message: 'Optimization terminated successfully.'\n",
              "    nfev: 8\n",
              "     nit: 2\n",
              "    njev: 2\n",
              "  status: 0\n",
              " success: True\n",
              "       x: array([0.06743897, 0.2460885 ])"
            ]
          },
          "metadata": {},
          "execution_count": 97
        }
      ],
      "source": [
        "opt"
      ]
    },
    {
      "cell_type": "code",
      "execution_count": 98,
      "metadata": {
        "id": "WOyx8YtIs7fU"
      },
      "outputs": [],
      "source": [
        "from sympy import *\n",
        "init_printing(use_unicode=False, use_latex=False)"
      ]
    },
    {
      "cell_type": "code",
      "execution_count": 99,
      "metadata": {
        "id": "CHWn1Y6xs7fU"
      },
      "outputs": [],
      "source": [
        "mu, sigma, b, v = symbols('mu sigma b v')"
      ]
    },
    {
      "cell_type": "code",
      "execution_count": 100,
      "metadata": {
        "id": "tbk2MIggs7fU"
      },
      "outputs": [],
      "source": [
        "sol = solve('mu - b / 2 * (sigma ** 2 + mu ** 2) - v', mu)"
      ]
    },
    {
      "cell_type": "code",
      "execution_count": 101,
      "metadata": {
        "colab": {
          "base_uri": "https://localhost:8080/"
        },
        "id": "ZpDukoAvs7fU",
        "outputId": "5a7942bc-5d4d-46f6-cdc3-aab5179c4fb8"
      },
      "outputs": [
        {
          "output_type": "execute_result",
          "data": {
            "text/plain": [
              "        _________________________     _________________________     \n",
              "       /    2      2                 /    2      2                  \n",
              " 1 - \\/  - b *sigma  - 2*b*v + 1   \\/  - b *sigma  - 2*b*v + 1  + 1 \n",
              "[--------------------------------, --------------------------------]\n",
              "                b                                 b                 "
            ]
          },
          "metadata": {},
          "execution_count": 101
        }
      ],
      "source": [
        "sol"
      ]
    },
    {
      "cell_type": "code",
      "execution_count": 102,
      "metadata": {
        "colab": {
          "base_uri": "https://localhost:8080/"
        },
        "id": "BRYOjerQs7fU",
        "outputId": "0ea91b6a-3865-4c9b-9712-35e49598793b"
      },
      "outputs": [
        {
          "output_type": "execute_result",
          "data": {
            "text/plain": [
              "       ______________\n",
              "      /            2 \n",
              "1 - \\/  0.8 - sigma  "
            ]
          },
          "metadata": {},
          "execution_count": 102
        }
      ],
      "source": [
        "u1 = sol[0].subs({'b': 1, 'v': 0.1})\n",
        "u1"
      ]
    },
    {
      "cell_type": "code",
      "execution_count": 103,
      "metadata": {
        "colab": {
          "base_uri": "https://localhost:8080/"
        },
        "id": "rNECiUzDs7fU",
        "outputId": "82abf58f-bc9f-4bc4-8e1d-bf9a70ae579c"
      },
      "outputs": [
        {
          "output_type": "execute_result",
          "data": {
            "text/plain": [
              "       _______________\n",
              "      /             2 \n",
              "1 - \\/  0.75 - sigma  "
            ]
          },
          "metadata": {},
          "execution_count": 103
        }
      ],
      "source": [
        "u2 = sol[0].subs({'b': 1, 'v': 0.125})\n",
        "u2"
      ]
    },
    {
      "cell_type": "code",
      "execution_count": 104,
      "metadata": {
        "id": "spexfujGs7fU"
      },
      "outputs": [],
      "source": [
        "f1 = lambdify(sigma, u1)\n",
        "f2 = lambdify(sigma, u2)"
      ]
    },
    {
      "cell_type": "code",
      "execution_count": 105,
      "metadata": {
        "id": "NbPoiUIgs7fU"
      },
      "outputs": [],
      "source": [
        "sigma_ = np.linspace(0.0, 0.5)\n",
        "u1_ = f1(sigma_)\n",
        "u2_ = f2(sigma_)"
      ]
    },
    {
      "cell_type": "code",
      "execution_count": 106,
      "metadata": {
        "colab": {
          "base_uri": "https://localhost:8080/",
          "height": 387
        },
        "id": "Coo3CgoUs7fU",
        "outputId": "3b6b3b89-8654-40c3-f5ad-c27cbb14fdfe"
      },
      "outputs": [
        {
          "output_type": "display_data",
          "data": {
            "text/plain": [
              "<Figure size 720x432 with 1 Axes>"
            ],
            "image/png": "[encoded data removed]"
          },
          "metadata": {}
        }
      ],
      "source": [
        "plt.figure(figsize=(10, 6))\n",
        "plt.plot(sigma_, u1_, label='$v=0.1$')\n",
        "plt.plot(sigma_, u2_, '--', label='$v=0.125$')\n",
        "plt.xlabel('expected volatility')\n",
        "plt.ylabel('expected return')\n",
        "plt.legend();"
      ]
    },
    {
      "cell_type": "code",
      "execution_count": 107,
      "metadata": {
        "colab": {
          "base_uri": "https://localhost:8080/"
        },
        "id": "h0yCh-ams7fU",
        "outputId": "84430eaa-8e33-40f6-868e-ecdca557077c"
      },
      "outputs": [
        {
          "output_type": "execute_result",
          "data": {
            "text/plain": [
              "       ____________________________\n",
              "      /                          2 \n",
              "1 - \\/  0.930229626346521 - sigma  "
            ]
          },
          "metadata": {},
          "execution_count": 107
        }
      ],
      "source": [
        "u = sol[0].subs({'b': 1, 'v': -opt['fun']})\n",
        "u"
      ]
    },
    {
      "cell_type": "code",
      "execution_count": 108,
      "metadata": {
        "id": "LJYcmxfUs7fV"
      },
      "outputs": [],
      "source": [
        "f = lambdify(sigma, u)"
      ]
    },
    {
      "cell_type": "code",
      "execution_count": 109,
      "metadata": {
        "id": "4bY67XxFs7fV"
      },
      "outputs": [],
      "source": [
        "u_ = f(sigma_)"
      ]
    },
    {
      "cell_type": "code",
      "execution_count": 110,
      "metadata": {
        "colab": {
          "base_uri": "https://localhost:8080/",
          "height": 387
        },
        "id": "Tpq8rJyos7fV",
        "outputId": "8b6d88bf-ac12-4106-b964-ef36b14b27c8"
      },
      "outputs": [
        {
          "output_type": "display_data",
          "data": {
            "text/plain": [
              "<Figure size 720x432 with 1 Axes>"
            ],
            "image/png": "[encoded data removed]"
          },
          "metadata": {}
        }
      ],
      "source": [
        "plt.figure(figsize=(10, 6))\n",
        "plt.plot(0, r, 'o', ms=9, label='risk-less asset')\n",
        "plt.plot(sigma_M, mu_M, '^', ms=9, label='market portfolio')\n",
        "plt.plot(opt['x'][1], opt['x'][0], 'v', ms=9, label='optimal portfolio')\n",
        "plt.plot((0, 0.5), (r, r + (mu_M - r) / sigma_M * 0.5),\n",
        "         label='capital market line', lw=2.0)\n",
        "plt.plot(sigma_, u_, '--', label='$v={}$'.format(-round(opt['fun'], 3)))\n",
        "plt.xlabel('expected volatility')\n",
        "plt.ylabel('expected return')\n",
        "plt.legend();"
      ]
    },
    {
      "cell_type": "markdown",
      "metadata": {
        "id": "9MOY1AiQs7fV"
      },
      "source": [
        "## Arbitrage Pricing Theory"
      ]
    },
    {
      "cell_type": "code",
      "execution_count": 111,
      "metadata": {
        "colab": {
          "base_uri": "https://localhost:8080/"
        },
        "id": "uVeNAa2fs7fV",
        "outputId": "684eb94a-1d9f-4c0a-9387-be10b7329766"
      },
      "outputs": [
        {
          "output_type": "execute_result",
          "data": {
            "text/plain": [
              "array([[20,  1],\n",
              "       [10, 12],\n",
              "       [ 5, 13]])"
            ]
          },
          "metadata": {},
          "execution_count": 111
        }
      ],
      "source": [
        "M1"
      ]
    },
    {
      "cell_type": "code",
      "execution_count": 112,
      "metadata": {
        "colab": {
          "base_uri": "https://localhost:8080/"
        },
        "id": "_kBh776gs7fV",
        "outputId": "a841d001-210c-4e49-8001-e8e455dd36be"
      },
      "outputs": [
        {
          "output_type": "execute_result",
          "data": {
            "text/plain": [
              "array([10, 10])"
            ]
          },
          "metadata": {},
          "execution_count": 112
        }
      ],
      "source": [
        "M0"
      ]
    },
    {
      "cell_type": "code",
      "execution_count": 113,
      "metadata": {
        "id": "RJb3qFZMs7fV"
      },
      "outputs": [],
      "source": [
        "V1 = np.array((12, 15, 7))"
      ]
    },
    {
      "cell_type": "code",
      "execution_count": 114,
      "metadata": {
        "colab": {
          "base_uri": "https://localhost:8080/"
        },
        "id": "o_VEGG6xs7fV",
        "outputId": "65f3c820-913f-405d-d90f-449da557c52f"
      },
      "outputs": [
        {
          "output_type": "execute_result",
          "data": {
            "text/plain": [
              "array([0.6141665 , 0.50030531])"
            ]
          },
          "metadata": {},
          "execution_count": 114
        }
      ],
      "source": [
        "reg = np.linalg.lstsq(M1, V1, rcond=-1)[0]\n",
        "reg"
      ]
    },
    {
      "cell_type": "code",
      "execution_count": 115,
      "metadata": {
        "colab": {
          "base_uri": "https://localhost:8080/"
        },
        "id": "NQZrjeCNs7fV",
        "outputId": "8523ba13-1334-407b-c96a-60b58bfec828"
      },
      "outputs": [
        {
          "output_type": "execute_result",
          "data": {
            "text/plain": [
              "array([12.78363525, 12.14532872,  9.57480155])"
            ]
          },
          "metadata": {},
          "execution_count": 115
        }
      ],
      "source": [
        "np.dot(M1, reg)"
      ]
    },
    {
      "cell_type": "code",
      "execution_count": 116,
      "metadata": {
        "colab": {
          "base_uri": "https://localhost:8080/"
        },
        "id": "50oUi_T8s7fV",
        "outputId": "c72b704b-41d5-4836-ac76-623af572cc8d"
      },
      "outputs": [
        {
          "output_type": "execute_result",
          "data": {
            "text/plain": [
              "array([ 0.78363525, -2.85467128,  2.57480155])"
            ]
          },
          "metadata": {},
          "execution_count": 116
        }
      ],
      "source": [
        "np.dot(M1, reg) - V1"
      ]
    },
    {
      "cell_type": "code",
      "execution_count": 117,
      "metadata": {
        "colab": {
          "base_uri": "https://localhost:8080/"
        },
        "id": "56NuuBTTs7fV",
        "outputId": "59dc47df-60b9-4412-dc79-e3c65e55d469"
      },
      "outputs": [
        {
          "output_type": "execute_result",
          "data": {
            "text/plain": [
              "11.144718094850402"
            ]
          },
          "metadata": {},
          "execution_count": 117
        }
      ],
      "source": [
        "V0 = np.dot(M0, reg)\n",
        "V0"
      ]
    },
    {
      "cell_type": "code",
      "execution_count": 118,
      "metadata": {
        "id": "W8vcrbaas7fV"
      },
      "outputs": [],
      "source": [
        "U0 = 10\n",
        "U1 = np.array((12, 5, 11))"
      ]
    },
    {
      "cell_type": "code",
      "execution_count": 119,
      "metadata": {
        "id": "f9WVbfqAs7fV"
      },
      "outputs": [],
      "source": [
        "M0_ = np.array((S0, T0, U0))"
      ]
    },
    {
      "cell_type": "code",
      "execution_count": 120,
      "metadata": {
        "id": "qCisYXtss7fW"
      },
      "outputs": [],
      "source": [
        "M1_ = np.concatenate((M1.T, np.array([U1,]))).T"
      ]
    },
    {
      "cell_type": "code",
      "execution_count": 121,
      "metadata": {
        "colab": {
          "base_uri": "https://localhost:8080/"
        },
        "id": "4Bk-h2Uds7fW",
        "outputId": "29699048-f6d8-4324-a9a1-fe0f487a62e1"
      },
      "outputs": [
        {
          "output_type": "execute_result",
          "data": {
            "text/plain": [
              "array([[20,  1, 12],\n",
              "       [10, 12,  5],\n",
              "       [ 5, 13, 11]])"
            ]
          },
          "metadata": {},
          "execution_count": 121
        }
      ],
      "source": [
        "M1_"
      ]
    },
    {
      "cell_type": "code",
      "execution_count": 122,
      "metadata": {
        "colab": {
          "base_uri": "https://localhost:8080/"
        },
        "id": "uwZDrsa0s7fW",
        "outputId": "49addfdc-a137-42ab-8f54-7a05ddff07b9"
      },
      "outputs": [
        {
          "output_type": "execute_result",
          "data": {
            "text/plain": [
              "3"
            ]
          },
          "metadata": {},
          "execution_count": 122
        }
      ],
      "source": [
        "np.linalg.matrix_rank(M1_)"
      ]
    },
    {
      "cell_type": "code",
      "execution_count": 123,
      "metadata": {
        "colab": {
          "base_uri": "https://localhost:8080/"
        },
        "id": "Fs93pWiPs7fW",
        "outputId": "2b5edf6c-8e1b-484f-debf-1909c4672461"
      },
      "outputs": [
        {
          "output_type": "execute_result",
          "data": {
            "text/plain": [
              "array([ 0.9575179 ,  0.72553699, -0.65632458])"
            ]
          },
          "metadata": {},
          "execution_count": 123
        }
      ],
      "source": [
        "reg = np.linalg.lstsq(M1_, V1, rcond=-1)[0]\n",
        "reg"
      ]
    },
    {
      "cell_type": "code",
      "execution_count": 124,
      "metadata": {
        "colab": {
          "base_uri": "https://localhost:8080/"
        },
        "id": "kgk7li7ys7fW",
        "outputId": "6a82c107-47dc-40db-e4e2-cbcdad350add"
      },
      "outputs": [
        {
          "output_type": "execute_result",
          "data": {
            "text/plain": [
              "True"
            ]
          },
          "metadata": {},
          "execution_count": 124
        }
      ],
      "source": [
        "np.allclose(np.dot(M1_, reg), V1)"
      ]
    },
    {
      "cell_type": "code",
      "execution_count": 125,
      "metadata": {
        "colab": {
          "base_uri": "https://localhost:8080/"
        },
        "id": "DpqsFBkfs7fW",
        "outputId": "14a822e8-0c51-458b-db07-864193522b7d"
      },
      "outputs": [
        {
          "output_type": "execute_result",
          "data": {
            "text/plain": [
              "10.267303102625307"
            ]
          },
          "metadata": {},
          "execution_count": 125
        }
      ],
      "source": [
        "V0_ = np.dot(M0_, reg)\n",
        "V0_"
      ]
    },
    {
      "cell_type": "markdown",
      "metadata": {
        "id": "_xiYechms7fW"
      },
      "source": [
        "<img src='http://hilpisch.com/taim_logo.png' width=\"350px\" align=\"right\">\n",
        "\n",
        "<br><br><br><a href=\"http://tpq.io\" target=\"_blank\">http://tpq.io</a> | <a href=\"http://twitter.com/dyjh\" target=\"_blank\">@dyjh</a> | <a href=\"mailto:ai@tpq.io\">ai@tpq.io</a>"
      ]
    }
  ],
  "metadata": {
    "kernelspec": {
      "display_name": "Python 3 (ipykernel)",
      "language": "python",
      "name": "python3"
    },
    "language_info": {
      "codemirror_mode": {
        "name": "ipython",
        "version": 3
      },
      "file_extension": ".py",
      "mimetype": "text/x-python",
      "name": "python",
      "nbconvert_exporter": "python",
      "pygments_lexer": "ipython3",
      "version": "3.8.12"
    },
    "colab": {
      "name": "03_normative_finance.ipynb",
      "provenance": [],
      "collapsed_sections": [
        "9MOY1AiQs7fV"
      ],
      "include_colab_link": true
    }
  },
  "nbformat": 4,
  "nbformat_minor": 0
}