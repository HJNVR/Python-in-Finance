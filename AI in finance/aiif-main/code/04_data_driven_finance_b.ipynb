{
 "cells": [
  {
   "cell_type": "markdown",
   "metadata": {},
   "source": [
    "<img src='http://hilpisch.com/taim_logo.png' width=\"350px\" align=\"right\">"
   ]
  },
  {
   "cell_type": "markdown",
   "metadata": {},
   "source": [
    "# Artificial Intelligence in Finance"
   ]
  },
  {
   "cell_type": "markdown",
   "metadata": {},
   "source": [
    "## Data-Driven Finance (b)"
   ]
  },
  {
   "cell_type": "markdown",
   "metadata": {},
   "source": [
    "Dr Yves J Hilpisch | The AI Machine\n",
    "\n",
    "http://aimachine.io | http://twitter.com/dyjh"
   ]
  },
  {
   "cell_type": "markdown",
   "metadata": {},
   "source": [
    "## Debunking Central Assumptions"
   ]
  },
  {
   "cell_type": "markdown",
   "metadata": {},
   "source": [
    "## Normality"
   ]
  },
  {
   "cell_type": "markdown",
   "metadata": {},
   "source": [
    "#### Sample Data Sets"
   ]
  },
  {
   "cell_type": "code",
   "execution_count": null,
   "metadata": {},
   "outputs": [],
   "source": [
    "import numpy as np\n",
    "import pandas as pd\n",
    "from pylab import plt, mpl\n",
    "np.random.seed(100)\n",
    "plt.style.use('seaborn')\n",
    "mpl.rcParams['savefig.dpi'] = 300\n",
    "mpl.rcParams['font.family'] = 'serif'"
   ]
  },
  {
   "cell_type": "code",
   "execution_count": null,
   "metadata": {},
   "outputs": [],
   "source": [
    "N = 10000"
   ]
  },
  {
   "cell_type": "code",
   "execution_count": null,
   "metadata": {},
   "outputs": [],
   "source": [
    "snrn = np.random.standard_normal(N)\n",
    "snrn -= snrn.mean()  # moment matching\n",
    "snrn /= snrn.std()  # moment matching"
   ]
  },
  {
   "cell_type": "code",
   "execution_count": null,
   "metadata": {},
   "outputs": [],
   "source": [
    "round(snrn.mean(), 4)"
   ]
  },
  {
   "cell_type": "code",
   "execution_count": null,
   "metadata": {},
   "outputs": [],
   "source": [
    "round(snrn.std(), 4)"
   ]
  },
  {
   "cell_type": "code",
   "execution_count": null,
   "metadata": {},
   "outputs": [],
   "source": [
    "plt.figure(figsize=(10, 6))\n",
    "plt.hist(snrn, bins=35);"
   ]
  },
  {
   "cell_type": "code",
   "execution_count": null,
   "metadata": {},
   "outputs": [],
   "source": [
    "numbers = np.ones(N) * 1.5\n",
    "split = int(0.25 * N)\n",
    "numbers[split:3 * split] = -1\n",
    "numbers[3 * split:4 * split] = 0"
   ]
  },
  {
   "cell_type": "code",
   "execution_count": null,
   "metadata": {},
   "outputs": [],
   "source": [
    "numbers -= numbers.mean()\n",
    "numbers /= numbers.std()"
   ]
  },
  {
   "cell_type": "code",
   "execution_count": null,
   "metadata": {},
   "outputs": [],
   "source": [
    "round(numbers.mean(), 4)"
   ]
  },
  {
   "cell_type": "code",
   "execution_count": null,
   "metadata": {},
   "outputs": [],
   "source": [
    "round(numbers.std(), 4)"
   ]
  },
  {
   "cell_type": "code",
   "execution_count": null,
   "metadata": {},
   "outputs": [],
   "source": [
    "plt.figure(figsize=(10, 6))\n",
    "plt.hist(numbers, bins=35);"
   ]
  },
  {
   "cell_type": "code",
   "execution_count": null,
   "metadata": {},
   "outputs": [],
   "source": [
    "import math\n",
    "import scipy.stats as scs\n",
    "import statsmodels.api as sm"
   ]
  },
  {
   "cell_type": "code",
   "execution_count": null,
   "metadata": {},
   "outputs": [],
   "source": [
    "def dN(x, mu, sigma):\n",
    "    ''' Probability density function of a normal random variable x.\n",
    "    '''\n",
    "    z = (x - mu) / sigma\n",
    "    pdf = np.exp(-0.5 * z ** 2) / math.sqrt(2 * math.pi * sigma ** 2)\n",
    "    return pdf"
   ]
  },
  {
   "cell_type": "code",
   "execution_count": null,
   "metadata": {},
   "outputs": [],
   "source": [
    "def return_histogram(rets, title=''):\n",
    "    ''' Plots a histogram of the returns.\n",
    "    '''\n",
    "    plt.figure(figsize=(10, 6))\n",
    "    x = np.linspace(min(rets), max(rets), 100)\n",
    "    plt.hist(np.array(rets), bins=50,\n",
    "             density=True, label='frequency')\n",
    "    y = dN(x, np.mean(rets), np.std(rets))\n",
    "    plt.plot(x, y, linewidth=2, label='PDF')\n",
    "    plt.xlabel('log returns')\n",
    "    plt.ylabel('frequency/probability')\n",
    "    plt.title(title)\n",
    "    plt.legend()"
   ]
  },
  {
   "cell_type": "code",
   "execution_count": null,
   "metadata": {},
   "outputs": [],
   "source": [
    "return_histogram(snrn)"
   ]
  },
  {
   "cell_type": "code",
   "execution_count": null,
   "metadata": {},
   "outputs": [],
   "source": [
    "return_histogram(numbers)"
   ]
  },
  {
   "cell_type": "code",
   "execution_count": null,
   "metadata": {},
   "outputs": [],
   "source": [
    "def return_qqplot(rets, title=''):\n",
    "    ''' Generates a Q-Q plot of the returns.\n",
    "    '''\n",
    "    fig = sm.qqplot(rets, line='s', alpha=0.5)\n",
    "    fig.set_size_inches(10, 6)\n",
    "    plt.title(title)\n",
    "    plt.xlabel('theoretical quantiles')\n",
    "    plt.ylabel('sample quantiles')"
   ]
  },
  {
   "cell_type": "code",
   "execution_count": null,
   "metadata": {},
   "outputs": [],
   "source": [
    "return_qqplot(snrn)"
   ]
  },
  {
   "cell_type": "code",
   "execution_count": null,
   "metadata": {},
   "outputs": [],
   "source": [
    "return_qqplot(numbers)"
   ]
  },
  {
   "cell_type": "code",
   "execution_count": null,
   "metadata": {},
   "outputs": [],
   "source": [
    "def print_statistics(rets):\n",
    "    print('RETURN SAMPLE STATISTICS')\n",
    "    print('---------------------------------------------')\n",
    "    print('Skew of Sample Log Returns {:9.6f}'.format(\n",
    "                scs.skew(rets)))\n",
    "    print('Skew Normal Test p-value   {:9.6f}'.format(\n",
    "                scs.skewtest(rets)[1]))\n",
    "    print('---------------------------------------------')\n",
    "    print('Kurt of Sample Log Returns {:9.6f}'.format(\n",
    "                scs.kurtosis(rets)))\n",
    "    print('Kurt Normal Test p-value   {:9.6f}'.format(\n",
    "                scs.kurtosistest(rets)[1]))\n",
    "    print('---------------------------------------------')\n",
    "    print('Normal Test p-value        {:9.6f}'.format(\n",
    "                scs.normaltest(rets)[1]))\n",
    "    print('---------------------------------------------')"
   ]
  },
  {
   "cell_type": "code",
   "execution_count": null,
   "metadata": {},
   "outputs": [],
   "source": [
    "print_statistics(snrn)"
   ]
  },
  {
   "cell_type": "code",
   "execution_count": null,
   "metadata": {},
   "outputs": [],
   "source": [
    "print_statistics(numbers)"
   ]
  },
  {
   "cell_type": "markdown",
   "metadata": {},
   "source": [
    "#### Real Financial Returns"
   ]
  },
  {
   "cell_type": "code",
   "execution_count": null,
   "metadata": {},
   "outputs": [],
   "source": [
    "raw = pd.read_csv('http://hilpisch.com/aiif_eikon_eod_data.csv',\n",
    "                  index_col=0, parse_dates=True).dropna()"
   ]
  },
  {
   "cell_type": "code",
   "execution_count": null,
   "metadata": {},
   "outputs": [],
   "source": [
    "rets = np.log(raw / raw.shift(1)).dropna()"
   ]
  },
  {
   "cell_type": "code",
   "execution_count": null,
   "metadata": {},
   "outputs": [],
   "source": [
    "symbol = '.SPX'"
   ]
  },
  {
   "cell_type": "code",
   "execution_count": null,
   "metadata": {},
   "outputs": [],
   "source": [
    "return_histogram(rets[symbol].values, symbol)"
   ]
  },
  {
   "cell_type": "code",
   "execution_count": null,
   "metadata": {},
   "outputs": [],
   "source": [
    "return_qqplot(rets[symbol].values, symbol)"
   ]
  },
  {
   "cell_type": "code",
   "execution_count": null,
   "metadata": {},
   "outputs": [],
   "source": [
    "symbols = ['.SPX', 'AMZN.O', 'EUR=', 'GLD']"
   ]
  },
  {
   "cell_type": "code",
   "execution_count": null,
   "metadata": {},
   "outputs": [],
   "source": [
    "for sym in symbols:\n",
    "    print('\\n{}'.format(sym))\n",
    "    print(45 * '=')\n",
    "    print_statistics(rets[sym].values)"
   ]
  },
  {
   "cell_type": "markdown",
   "metadata": {},
   "source": [
    "## Linear Relationships"
   ]
  },
  {
   "cell_type": "code",
   "execution_count": null,
   "metadata": {},
   "outputs": [],
   "source": [
    "r = 0.005"
   ]
  },
  {
   "cell_type": "code",
   "execution_count": null,
   "metadata": {},
   "outputs": [],
   "source": [
    "market = '.SPX'"
   ]
  },
  {
   "cell_type": "code",
   "execution_count": null,
   "metadata": {},
   "outputs": [],
   "source": [
    "res = pd.DataFrame()"
   ]
  },
  {
   "cell_type": "code",
   "execution_count": null,
   "metadata": {},
   "outputs": [],
   "source": [
    "for sym in rets.columns[:4]:\n",
    "    for year in range(2010, 2019):\n",
    "        rets_ = rets.loc[f'{year}-01-01':f'{year}-12-31']\n",
    "        muM = rets_[market].mean() * 252\n",
    "        cov = rets_.cov().loc[sym, market]\n",
    "        var = rets_[market].var()\n",
    "        beta = cov / var\n",
    "        rets_ = rets.loc[f'{year + 1}-01-01':f'{year + 1}-12-31']\n",
    "        muM = rets_[market].mean() * 252\n",
    "        mu_capm = r + beta * (muM - r)\n",
    "        mu_real = rets_[sym].mean() * 252\n",
    "        res = res.append(pd.DataFrame({'symbol': sym,\n",
    "                                       'beta': beta,\n",
    "                                       'mu_capm': mu_capm,\n",
    "                                       'mu_real': mu_real},\n",
    "                                      index=[year + 1]),\n",
    "                        sort=True)"
   ]
  },
  {
   "cell_type": "code",
   "execution_count": null,
   "metadata": {},
   "outputs": [],
   "source": [
    "from sklearn.metrics import r2_score"
   ]
  },
  {
   "cell_type": "code",
   "execution_count": null,
   "metadata": {},
   "outputs": [],
   "source": [
    "reg = np.polyfit(res['beta'], res['mu_capm'], deg=1)\n",
    "res['mu_capm_ols'] = np.polyval(reg, res['beta'])"
   ]
  },
  {
   "cell_type": "code",
   "execution_count": null,
   "metadata": {},
   "outputs": [],
   "source": [
    "r2_score(res['mu_capm'], res['mu_capm_ols'])"
   ]
  },
  {
   "cell_type": "code",
   "execution_count": null,
   "metadata": {},
   "outputs": [],
   "source": [
    "res.plot(kind='scatter', x='beta', y='mu_capm', figsize=(10, 6))\n",
    "x = np.linspace(res['beta'].min(), res['beta'].max())\n",
    "plt.plot(x, np.polyval(reg, x), 'g--', label='regression')\n",
    "plt.legend();"
   ]
  },
  {
   "cell_type": "code",
   "execution_count": null,
   "metadata": {},
   "outputs": [],
   "source": [
    "reg = np.polyfit(res['beta'], res['mu_real'], deg=1)\n",
    "res['mu_real_ols'] = np.polyval(reg, res['beta'])"
   ]
  },
  {
   "cell_type": "code",
   "execution_count": null,
   "metadata": {},
   "outputs": [],
   "source": [
    "r2_score(res['mu_real'], res['mu_real_ols'])"
   ]
  },
  {
   "cell_type": "code",
   "execution_count": null,
   "metadata": {},
   "outputs": [],
   "source": [
    "res.plot(kind='scatter', x='beta', y='mu_real', figsize=(10, 6))\n",
    "x = np.linspace(res['beta'].min(), res['beta'].max())\n",
    "plt.plot(x, np.polyval(reg, x), 'g--', label='regression')\n",
    "plt.legend();"
   ]
  },
  {
   "cell_type": "markdown",
   "metadata": {},
   "source": [
    "<img src='http://hilpisch.com/taim_logo.png' width=\"350px\" align=\"right\">\n",
    "\n",
    "<br><br><br><a href=\"http://tpq.io\" target=\"_blank\">http://tpq.io</a> | <a href=\"http://twitter.com/dyjh\" target=\"_blank\">@dyjh</a> | <a href=\"mailto:ai@tpq.io\">ai@tpq.io</a>"
   ]
  }
 ],
 "metadata": {
  "kernelspec": {
   "display_name": "Python 3 (ipykernel)",
   "language": "python",
   "name": "python3"
  },
  "language_info": {
   "codemirror_mode": {
    "name": "ipython",
    "version": 3
   },
   "file_extension": ".py",
   "mimetype": "text/x-python",
   "name": "python",
   "nbconvert_exporter": "python",
   "pygments_lexer": "ipython3",
   "version": "3.8.12"
  }
 },
 "nbformat": 4,
 "nbformat_minor": 4
}
