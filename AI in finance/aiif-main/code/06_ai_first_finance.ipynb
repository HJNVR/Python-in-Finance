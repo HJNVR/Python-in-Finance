{
 "cells": [
  {
   "cell_type": "markdown",
   "metadata": {},
   "source": [
    "<img src='http://hilpisch.com/taim_logo.png' width=\"350px\" align=\"right\">"
   ]
  },
  {
   "cell_type": "markdown",
   "metadata": {},
   "source": [
    "# Artificial Intelligence in Finance"
   ]
  },
  {
   "cell_type": "markdown",
   "metadata": {},
   "source": [
    "## AI-First Finance"
   ]
  },
  {
   "cell_type": "markdown",
   "metadata": {},
   "source": [
    "Dr Yves J Hilpisch | The AI Machine\n",
    "\n",
    "http://aimachine.io | http://twitter.com/dyjh"
   ]
  },
  {
   "cell_type": "markdown",
   "metadata": {},
   "source": [
    "## Efficient Markets"
   ]
  },
  {
   "cell_type": "code",
   "execution_count": null,
   "metadata": {},
   "outputs": [],
   "source": [
    "import numpy as np\n",
    "import pandas as pd\n",
    "from pylab import plt, mpl\n",
    "plt.style.use('seaborn')\n",
    "mpl.rcParams['savefig.dpi'] = 300\n",
    "mpl.rcParams['font.family'] = 'serif'\n",
    "pd.set_option('precision', 4)\n",
    "np.set_printoptions(suppress=True, precision=4)"
   ]
  },
  {
   "cell_type": "code",
   "execution_count": null,
   "metadata": {},
   "outputs": [],
   "source": [
    "import warnings\n",
    "warnings.simplefilter('ignore')"
   ]
  },
  {
   "cell_type": "code",
   "execution_count": null,
   "metadata": {},
   "outputs": [],
   "source": [
    "url = 'http://hilpisch.com/aiif_eikon_eod_data.csv'"
   ]
  },
  {
   "cell_type": "code",
   "execution_count": null,
   "metadata": {},
   "outputs": [],
   "source": [
    "data = pd.read_csv(url, index_col=0, parse_dates=True).dropna()"
   ]
  },
  {
   "cell_type": "code",
   "execution_count": null,
   "metadata": {},
   "outputs": [],
   "source": [
    "(data / data.iloc[0]).plot(figsize=(10, 6), cmap='coolwarm');"
   ]
  },
  {
   "cell_type": "code",
   "execution_count": null,
   "metadata": {},
   "outputs": [],
   "source": [
    "lags = 7"
   ]
  },
  {
   "cell_type": "code",
   "execution_count": null,
   "metadata": {},
   "outputs": [],
   "source": [
    "def add_lags(data, ric, lags):\n",
    "    cols = []\n",
    "    df = pd.DataFrame(data[ric])\n",
    "    for lag in range(1, lags + 1):\n",
    "        col = 'lag_{}'.format(lag)\n",
    "        df[col] = df[ric].shift(lag)\n",
    "        cols.append(col)\n",
    "    df.dropna(inplace=True)\n",
    "    return df, cols"
   ]
  },
  {
   "cell_type": "code",
   "execution_count": null,
   "metadata": {},
   "outputs": [],
   "source": [
    "dfs = {}\n",
    "for sym in data.columns:\n",
    "    df, cols = add_lags(data, sym, lags)\n",
    "    dfs[sym] = df"
   ]
  },
  {
   "cell_type": "code",
   "execution_count": null,
   "metadata": {},
   "outputs": [],
   "source": [
    "dfs[sym].head(7)"
   ]
  },
  {
   "cell_type": "code",
   "execution_count": null,
   "metadata": {},
   "outputs": [],
   "source": [
    "regs = {}\n",
    "for sym in data.columns:\n",
    "    df = dfs[sym]\n",
    "    reg = np.linalg.lstsq(df[cols], df[sym], rcond=-1)[0]\n",
    "    regs[sym] = reg"
   ]
  },
  {
   "cell_type": "code",
   "execution_count": null,
   "metadata": {
    "scrolled": true
   },
   "outputs": [],
   "source": [
    "rega = np.stack(tuple(regs.values()))"
   ]
  },
  {
   "cell_type": "code",
   "execution_count": null,
   "metadata": {},
   "outputs": [],
   "source": [
    "regd = pd.DataFrame(rega, columns=cols, index=data.columns)"
   ]
  },
  {
   "cell_type": "code",
   "execution_count": null,
   "metadata": {},
   "outputs": [],
   "source": [
    "regd"
   ]
  },
  {
   "cell_type": "code",
   "execution_count": null,
   "metadata": {},
   "outputs": [],
   "source": [
    "regd.mean().plot(kind='bar', figsize=(10, 6));"
   ]
  },
  {
   "cell_type": "code",
   "execution_count": null,
   "metadata": {},
   "outputs": [],
   "source": [
    "dfs[sym].corr()"
   ]
  },
  {
   "cell_type": "code",
   "execution_count": null,
   "metadata": {},
   "outputs": [],
   "source": [
    "from statsmodels.tsa.stattools import adfuller"
   ]
  },
  {
   "cell_type": "code",
   "execution_count": null,
   "metadata": {},
   "outputs": [],
   "source": [
    "adfuller(data[sym].dropna())"
   ]
  },
  {
   "cell_type": "markdown",
   "metadata": {},
   "source": [
    "## Market Prediction Based on Returns Data"
   ]
  },
  {
   "cell_type": "code",
   "execution_count": null,
   "metadata": {},
   "outputs": [],
   "source": [
    "rets = np.log(data / data.shift(1))"
   ]
  },
  {
   "cell_type": "code",
   "execution_count": null,
   "metadata": {},
   "outputs": [],
   "source": [
    "rets.dropna(inplace=True)"
   ]
  },
  {
   "cell_type": "code",
   "execution_count": null,
   "metadata": {},
   "outputs": [],
   "source": [
    "dfs = {}\n",
    "for sym in data:\n",
    "    df, cols = add_lags(rets, sym, lags)\n",
    "    mu, std = df[cols].mean(), df[cols].std()\n",
    "    df[cols] = (df[cols] - mu) / std\n",
    "    dfs[sym] = df"
   ]
  },
  {
   "cell_type": "code",
   "execution_count": null,
   "metadata": {},
   "outputs": [],
   "source": [
    "dfs[sym].head()"
   ]
  },
  {
   "cell_type": "code",
   "execution_count": null,
   "metadata": {},
   "outputs": [],
   "source": [
    "adfuller(dfs[sym]['lag_1'])"
   ]
  },
  {
   "cell_type": "code",
   "execution_count": null,
   "metadata": {},
   "outputs": [],
   "source": [
    "dfs[sym].corr()"
   ]
  },
  {
   "cell_type": "code",
   "execution_count": null,
   "metadata": {},
   "outputs": [],
   "source": [
    "from sklearn.metrics import accuracy_score"
   ]
  },
  {
   "cell_type": "code",
   "execution_count": null,
   "metadata": {},
   "outputs": [],
   "source": [
    "%%time\n",
    "for sym in data:\n",
    "    df = dfs[sym]\n",
    "    reg = np.linalg.lstsq(df[cols], df[sym], rcond=-1)[0]\n",
    "    pred = np.dot(df[cols], reg)\n",
    "    acc = accuracy_score(np.sign(df[sym]), np.sign(pred))\n",
    "    print(f'OLS | {sym:10s} | acc={acc:.4f}')"
   ]
  },
  {
   "cell_type": "code",
   "execution_count": null,
   "metadata": {},
   "outputs": [],
   "source": [
    "from sklearn.neural_network import MLPRegressor"
   ]
  },
  {
   "cell_type": "code",
   "execution_count": null,
   "metadata": {},
   "outputs": [],
   "source": [
    "%%time\n",
    "for sym in data.columns:\n",
    "    df = dfs[sym]\n",
    "    model = MLPRegressor(hidden_layer_sizes=[512],\n",
    "                         random_state=100,\n",
    "                         max_iter=1000,\n",
    "                         early_stopping=True,\n",
    "                         validation_fraction=0.15,\n",
    "                         shuffle=False)\n",
    "    model.fit(df[cols], df[sym])\n",
    "    pred = model.predict(df[cols])\n",
    "    acc = accuracy_score(np.sign(df[sym]), np.sign(pred))\n",
    "    print(f'MLP | {sym:10s} | acc={acc:.4f}')"
   ]
  },
  {
   "cell_type": "code",
   "execution_count": null,
   "metadata": {},
   "outputs": [],
   "source": [
    "import os\n",
    "os.environ['TF_CPP_MIN_LOG_LEVEL'] = '6'"
   ]
  },
  {
   "cell_type": "code",
   "execution_count": null,
   "metadata": {},
   "outputs": [],
   "source": [
    "import tensorflow as tf\n",
    "from tensorflow import keras\n",
    "from keras.layers import Dense\n",
    "from keras.models import Sequential"
   ]
  },
  {
   "cell_type": "code",
   "execution_count": null,
   "metadata": {},
   "outputs": [],
   "source": [
    "np.random.seed(100)\n",
    "tf.random.set_seed(100)"
   ]
  },
  {
   "cell_type": "code",
   "execution_count": null,
   "metadata": {},
   "outputs": [],
   "source": [
    "def create_model(problem='regression'):\n",
    "    model = Sequential()\n",
    "    model.add(Dense(512, input_dim=len(cols),\n",
    "                    activation='relu'))\n",
    "    if problem == 'regression':\n",
    "        model.add(Dense(1, activation='linear'))\n",
    "        model.compile(loss='mse', optimizer='adam')\n",
    "    else:\n",
    "        model.add(Dense(1, activation='sigmoid'))\n",
    "        model.compile(loss='binary_crossentropy', optimizer='adam')\n",
    "    return model"
   ]
  },
  {
   "cell_type": "code",
   "execution_count": null,
   "metadata": {},
   "outputs": [],
   "source": [
    "%%time\n",
    "for sym in data.columns[:]:\n",
    "    df = dfs[sym]\n",
    "    model = create_model()\n",
    "    model.fit(df[cols], df[sym], epochs=25, verbose=False)\n",
    "    pred = model.predict(df[cols])\n",
    "    acc = accuracy_score(np.sign(df[sym]), np.sign(pred))\n",
    "    print(f'DNN | {sym:10s} | acc={acc:.4f}')"
   ]
  },
  {
   "cell_type": "code",
   "execution_count": null,
   "metadata": {},
   "outputs": [],
   "source": [
    "split = int(len(dfs[sym]) * 0.8)"
   ]
  },
  {
   "cell_type": "code",
   "execution_count": null,
   "metadata": {},
   "outputs": [],
   "source": [
    "%%time\n",
    "for sym in data.columns:\n",
    "    df = dfs[sym]\n",
    "    train = df.iloc[:split]\n",
    "    reg = np.linalg.lstsq(train[cols], train[sym], rcond=-1)[0]\n",
    "    test = df.iloc[split:]\n",
    "    pred = np.dot(test[cols], reg)\n",
    "    acc = accuracy_score(np.sign(test[sym]), np.sign(pred))\n",
    "    print(f'OLS | {sym:10s} | acc={acc:.4f}')"
   ]
  },
  {
   "cell_type": "code",
   "execution_count": null,
   "metadata": {},
   "outputs": [],
   "source": [
    "%%time\n",
    "for sym in data.columns:\n",
    "    df = dfs[sym]\n",
    "    train = df.iloc[:split]\n",
    "    model = MLPRegressor(hidden_layer_sizes=[512],\n",
    "                         random_state=100,\n",
    "                         max_iter=1000,\n",
    "                         early_stopping=True,\n",
    "                         validation_fraction=0.15,\n",
    "                         shuffle=False)\n",
    "    model.fit(train[cols], train[sym])\n",
    "    test = df.iloc[split:]\n",
    "    pred = model.predict(test[cols])\n",
    "    acc = accuracy_score(np.sign(test[sym]), np.sign(pred))\n",
    "    print(f'MLP | {sym:10s} | acc={acc:.4f}')"
   ]
  },
  {
   "cell_type": "code",
   "execution_count": null,
   "metadata": {},
   "outputs": [],
   "source": [
    "%%time\n",
    "for sym in data.columns:\n",
    "    df = dfs[sym]\n",
    "    train = df.iloc[:split]\n",
    "    model = create_model()\n",
    "    model.fit(train[cols], train[sym], epochs=50, verbose=False)\n",
    "    test = df.iloc[split:]\n",
    "    pred = model.predict(test[cols])\n",
    "    acc = accuracy_score(np.sign(test[sym]), np.sign(pred))\n",
    "    print(f'DNN | {sym:10s} | acc={acc:.4f}')"
   ]
  },
  {
   "cell_type": "markdown",
   "metadata": {},
   "source": [
    "## Market Prediction With More Features"
   ]
  },
  {
   "cell_type": "code",
   "execution_count": null,
   "metadata": {},
   "outputs": [],
   "source": [
    "url = 'http://hilpisch.com/aiif_eikon_eod_data.csv'"
   ]
  },
  {
   "cell_type": "code",
   "execution_count": null,
   "metadata": {},
   "outputs": [],
   "source": [
    "data = pd.read_csv(url, index_col=0, parse_dates=True).dropna()"
   ]
  },
  {
   "cell_type": "code",
   "execution_count": null,
   "metadata": {},
   "outputs": [],
   "source": [
    "def add_lags(data, ric, lags, window=50):\n",
    "    cols = []\n",
    "    df = pd.DataFrame(data[ric])\n",
    "    df.dropna(inplace=True)\n",
    "    df['r'] = np.log(df / df.shift())\n",
    "    df['sma'] = df[ric].rolling(window).mean()\n",
    "    df['min'] = df[ric].rolling(window).min()\n",
    "    df['max'] = df[ric].rolling(window).max()\n",
    "    df['mom'] = df['r'].rolling(window).mean()\n",
    "    df['vol'] = df['r'].rolling(window).std()\n",
    "    df.dropna(inplace=True)\n",
    "    df['d'] = np.where(df['r'] > 0, 1, 0)\n",
    "    features = [ric, 'r', 'd', 'sma', 'min', 'max', 'mom', 'vol']\n",
    "    for f in features:\n",
    "        for lag in range(1, lags + 1):\n",
    "            col = f'{f}_lag_{lag}'\n",
    "            df[col] = df[f].shift(lag)\n",
    "            cols.append(col)\n",
    "    df.dropna(inplace=True)\n",
    "    return df, cols"
   ]
  },
  {
   "cell_type": "code",
   "execution_count": null,
   "metadata": {},
   "outputs": [],
   "source": [
    "lags = 5"
   ]
  },
  {
   "cell_type": "code",
   "execution_count": null,
   "metadata": {},
   "outputs": [],
   "source": [
    "dfs = {}\n",
    "for ric in data:\n",
    "    df, cols = add_lags(data, ric, lags)\n",
    "    dfs[ric] = df.dropna(), cols"
   ]
  },
  {
   "cell_type": "code",
   "execution_count": null,
   "metadata": {},
   "outputs": [],
   "source": [
    "len(cols)"
   ]
  },
  {
   "cell_type": "code",
   "execution_count": null,
   "metadata": {},
   "outputs": [],
   "source": [
    "from sklearn.neural_network import MLPClassifier"
   ]
  },
  {
   "cell_type": "code",
   "execution_count": null,
   "metadata": {},
   "outputs": [],
   "source": [
    "%%time\n",
    "for ric in data:\n",
    "    model = MLPClassifier(hidden_layer_sizes=[512],\n",
    "                          random_state=100,\n",
    "                          max_iter=1000,\n",
    "                          early_stopping=True,\n",
    "                          validation_fraction=0.15,\n",
    "                          shuffle=False)\n",
    "    df, cols = dfs[ric]\n",
    "    df[cols] = (df[cols] - df[cols].mean()) / df[cols].std()\n",
    "    model.fit(df[cols], df['d'])\n",
    "    pred = model.predict(df[cols])\n",
    "    acc = accuracy_score(df['d'], pred)\n",
    "    print(f'IN-SAMPLE | {ric:7s} | acc={acc:.4f}')"
   ]
  },
  {
   "cell_type": "code",
   "execution_count": null,
   "metadata": {},
   "outputs": [],
   "source": [
    "%%time\n",
    "for ric in data:\n",
    "    model = create_model('classification')\n",
    "    df, cols = dfs[ric]\n",
    "    df[cols] = (df[cols] - df[cols].mean()) / df[cols].std()\n",
    "    model.fit(df[cols], df['d'], epochs=50, verbose=False)\n",
    "    pred = np.where(model.predict(df[cols]) > 0.5, 1, 0)\n",
    "    acc = accuracy_score(df['d'], pred)\n",
    "    print(f'IN-SAMPLE | {ric:7s} | acc={acc:.4f}')"
   ]
  },
  {
   "cell_type": "code",
   "execution_count": null,
   "metadata": {},
   "outputs": [],
   "source": [
    "def train_test_model(model):\n",
    "    for ric in data:\n",
    "        df, cols = dfs[ric]\n",
    "        split = int(len(df) * 0.85)\n",
    "        train = df.iloc[:split].copy()\n",
    "        mu, std = train[cols].mean(), train[cols].std()\n",
    "        train[cols] = (train[cols] - mu) / std\n",
    "        model.fit(train[cols], train['d'])\n",
    "        test = df.iloc[split:].copy() \n",
    "        test[cols] = (test[cols] - mu) / std\n",
    "        pred = model.predict(test[cols])\n",
    "        acc = accuracy_score(test['d'], pred)\n",
    "        print(f'OUT-OF-SAMPLE | {ric:7s} | acc={acc:.4f}')"
   ]
  },
  {
   "cell_type": "code",
   "execution_count": null,
   "metadata": {},
   "outputs": [],
   "source": [
    "model_mlp = MLPClassifier(hidden_layer_sizes=[512],\n",
    "                          random_state=100,\n",
    "                          max_iter=1000,\n",
    "                          early_stopping=True,\n",
    "                          validation_fraction=0.15,\n",
    "                          shuffle=False)"
   ]
  },
  {
   "cell_type": "code",
   "execution_count": null,
   "metadata": {},
   "outputs": [],
   "source": [
    "%time train_test_model(model_mlp)"
   ]
  },
  {
   "cell_type": "code",
   "execution_count": null,
   "metadata": {},
   "outputs": [],
   "source": [
    "from sklearn.ensemble import BaggingClassifier"
   ]
  },
  {
   "cell_type": "code",
   "execution_count": null,
   "metadata": {},
   "outputs": [],
   "source": [
    "base_estimator = MLPClassifier(hidden_layer_sizes=[256],\n",
    "                          random_state=100,\n",
    "                          max_iter=1000,\n",
    "                          early_stopping=True,\n",
    "                          validation_fraction=0.15,\n",
    "                          shuffle=False)"
   ]
  },
  {
   "cell_type": "code",
   "execution_count": null,
   "metadata": {},
   "outputs": [],
   "source": [
    "model_bag = BaggingClassifier(base_estimator=base_estimator,\n",
    "                          n_estimators=35,\n",
    "                          max_samples=0.25,\n",
    "                          max_features=0.5,\n",
    "                          bootstrap=False,\n",
    "                          bootstrap_features=True,\n",
    "                          n_jobs=8,\n",
    "                          random_state=100\n",
    "                         )"
   ]
  },
  {
   "cell_type": "code",
   "execution_count": null,
   "metadata": {},
   "outputs": [],
   "source": [
    "%time train_test_model(model_bag)"
   ]
  },
  {
   "cell_type": "markdown",
   "metadata": {},
   "source": [
    "## Market Prediction Intraday"
   ]
  },
  {
   "cell_type": "code",
   "execution_count": null,
   "metadata": {},
   "outputs": [],
   "source": [
    "url = 'http://hilpisch.com/aiif_eikon_id_data.csv'"
   ]
  },
  {
   "cell_type": "code",
   "execution_count": null,
   "metadata": {},
   "outputs": [],
   "source": [
    "data = pd.read_csv(url, index_col=0, parse_dates=True) # .dropna()"
   ]
  },
  {
   "cell_type": "code",
   "execution_count": null,
   "metadata": {},
   "outputs": [],
   "source": [
    "data.tail()"
   ]
  },
  {
   "cell_type": "code",
   "execution_count": null,
   "metadata": {},
   "outputs": [],
   "source": [
    "data.info()"
   ]
  },
  {
   "cell_type": "code",
   "execution_count": null,
   "metadata": {},
   "outputs": [],
   "source": [
    "lags = 5"
   ]
  },
  {
   "cell_type": "code",
   "execution_count": null,
   "metadata": {},
   "outputs": [],
   "source": [
    "dfs = {}\n",
    "for ric in data:\n",
    "    df, cols = add_lags(data, ric, lags)\n",
    "    dfs[ric] = df, cols"
   ]
  },
  {
   "cell_type": "code",
   "execution_count": null,
   "metadata": {},
   "outputs": [],
   "source": [
    "%time train_test_model(model_mlp)"
   ]
  },
  {
   "cell_type": "code",
   "execution_count": null,
   "metadata": {},
   "outputs": [],
   "source": [
    "%time train_test_model(model_bag)"
   ]
  },
  {
   "cell_type": "markdown",
   "metadata": {},
   "source": [
    "<img src='http://hilpisch.com/taim_logo.png' width=\"350px\" align=\"right\">\n",
    "\n",
    "<br><br><br><a href=\"http://tpq.io\" target=\"_blank\">http://tpq.io</a> | <a href=\"http://twitter.com/dyjh\" target=\"_blank\">@dyjh</a> | <a href=\"mailto:ai@tpq.io\">ai@tpq.io</a>"
   ]
  }
 ],
 "metadata": {
  "kernelspec": {
   "display_name": "Python 3 (ipykernel)",
   "language": "python",
   "name": "python3"
  },
  "language_info": {
   "codemirror_mode": {
    "name": "ipython",
    "version": 3
   },
   "file_extension": ".py",
   "mimetype": "text/x-python",
   "name": "python",
   "nbconvert_exporter": "python",
   "pygments_lexer": "ipython3",
   "version": "3.8.12"
  }
 },
 "nbformat": 4,
 "nbformat_minor": 4
}
